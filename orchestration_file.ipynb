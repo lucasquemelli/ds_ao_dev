{
 "cells": [
  {
   "cell_type": "markdown",
   "id": "af27616a",
   "metadata": {},
   "source": [
    "#### CRON structure: \n",
    "\n",
    "minute hour day_of_month month day_of_week COMMAND"
   ]
  },
  {
   "cell_type": "markdown",
   "id": "f9d2e5c4",
   "metadata": {},
   "source": [
    "Let's suppose the file where we have the ETL is named webscraping.py."
   ]
  },
  {
   "cell_type": "code",
   "execution_count": null,
   "id": "714b7bee",
   "metadata": {},
   "outputs": [],
   "source": [
    "0 8 * * * python webscraping_hm.py\n",
    "\n",
    "30 10 * * * python webscraping_hm.py\n",
    "\n",
    "30 10,22 * * * python webscraping_hm.py\n",
    "\n",
    "0 8-12 * * * python webscraping_hm.py\n",
    "\n",
    "mkdir /Users/lucasquemelli/Documents/repos/ds_ao_dev"
   ]
  },
  {
   "cell_type": "markdown",
   "id": "6d580406",
   "metadata": {},
   "source": [
    "Para saber se o CRON funcionou normalmente, verificamos o arquivo LOG por meio do seguinte comando:"
   ]
  },
  {
   "cell_type": "code",
   "execution_count": null,
   "id": "1f35e113",
   "metadata": {},
   "outputs": [],
   "source": [
    "/var/mail/lucasquemelli"
   ]
  },
  {
   "cell_type": "code",
   "execution_count": null,
   "id": "82e02a63",
   "metadata": {},
   "outputs": [],
   "source": []
  }
 ],
 "metadata": {
  "kernelspec": {
   "display_name": "Python 3 (ipykernel)",
   "language": "python",
   "name": "python3"
  },
  "language_info": {
   "codemirror_mode": {
    "name": "ipython",
    "version": 3
   },
   "file_extension": ".py",
   "mimetype": "text/x-python",
   "name": "python",
   "nbconvert_exporter": "python",
   "pygments_lexer": "ipython3",
   "version": "3.9.13"
  }
 },
 "nbformat": 4,
 "nbformat_minor": 5
}
