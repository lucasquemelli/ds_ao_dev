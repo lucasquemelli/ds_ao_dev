{
 "cells": [
  {
   "cell_type": "markdown",
   "id": "4232d216",
   "metadata": {},
   "source": [
    "#### CRON structure: \n",
    "\n",
    "minute hour day_of_month month day_of_week COMMAND"
   ]
  },
  {
   "cell_type": "markdown",
   "id": "aa921153",
   "metadata": {},
   "source": [
    "Let's suppose the file where we have the ETL is named webscraping.py."
   ]
  },
  {
   "cell_type": "code",
   "execution_count": null,
   "id": "5c7b6259",
   "metadata": {},
   "outputs": [],
   "source": [
    "0 8 * * * python webscraping_hm.py\n",
    "\n",
    "30 10 * * * python webscraping_hm.py\n",
    "\n",
    "30 10,22 * * * python webscraping_hm.py\n",
    "\n",
    "0 8-12 * * * python webscraping_hm.py\n",
    "\n",
    "mkdir /Users/lucasquemelli/Documents/repos/ds_ao_dev"
   ]
  }
 ],
 "metadata": {
  "kernelspec": {
   "display_name": "Python 3 (ipykernel)",
   "language": "python",
   "name": "python3"
  },
  "language_info": {
   "codemirror_mode": {
    "name": "ipython",
    "version": 3
   },
   "file_extension": ".py",
   "mimetype": "text/x-python",
   "name": "python",
   "nbconvert_exporter": "python",
   "pygments_lexer": "ipython3",
   "version": "3.9.13"
  }
 },
 "nbformat": 4,
 "nbformat_minor": 5
}
