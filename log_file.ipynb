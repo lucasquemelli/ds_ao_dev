{
 "cells": [
  {
   "cell_type": "markdown",
   "id": "837990de",
   "metadata": {},
   "source": [
    "# Libraries"
   ]
  },
  {
   "cell_type": "code",
   "execution_count": 1,
   "id": "70df1e24",
   "metadata": {},
   "outputs": [],
   "source": [
    "import os\n",
    "import logging"
   ]
  },
  {
   "cell_type": "code",
   "execution_count": 2,
   "id": "10a6dcea",
   "metadata": {},
   "outputs": [],
   "source": [
    "if not os.path.exists( 'Logs' ):\n",
    "    os.makedirs( 'Logs' )\n",
    "\n",
    "logging.basicConfig(\n",
    "    filename='Logs/webscraping_hm.txt',\n",
    "    format='%(asctime)s - %(levelname)s - %(name)s - %(message)s',\n",
    "    datefmt='%Y-%m-%d %H:%M:%S',\n",
    "    level=logging.DEBUG )\n",
    "\n",
    "logger = logging.getLogger( 'webscraping_hm' )"
   ]
  },
  {
   "cell_type": "code",
   "execution_count": 3,
   "id": "adb2fa02",
   "metadata": {},
   "outputs": [],
   "source": [
    "logger.debug( 'O valor da variavel x eh de %s', 10 )\n",
    "logger.info( 'Esse eh a interacao de numero' )\n",
    "logger.warning( 'Esse ponto do codigo deve ser melhorado' )"
   ]
  },
  {
   "cell_type": "code",
   "execution_count": 4,
   "id": "1c9e34e5",
   "metadata": {},
   "outputs": [
    {
     "data": {
      "text/plain": [
       "<Logger webscraping_hm (DEBUG)>"
      ]
     },
     "execution_count": 4,
     "metadata": {},
     "output_type": "execute_result"
    }
   ],
   "source": [
    "logger"
   ]
  },
  {
   "cell_type": "code",
   "execution_count": null,
   "id": "f0da4998",
   "metadata": {},
   "outputs": [],
   "source": []
  }
 ],
 "metadata": {
  "kernelspec": {
   "display_name": "Python 3 (ipykernel)",
   "language": "python",
   "name": "python3"
  },
  "language_info": {
   "codemirror_mode": {
    "name": "ipython",
    "version": 3
   },
   "file_extension": ".py",
   "mimetype": "text/x-python",
   "name": "python",
   "nbconvert_exporter": "python",
   "pygments_lexer": "ipython3",
   "version": "3.9.13"
  }
 },
 "nbformat": 4,
 "nbformat_minor": 5
}
