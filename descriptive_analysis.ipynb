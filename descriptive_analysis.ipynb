{
 "cells": [
  {
   "cell_type": "markdown",
   "id": "dbba8b29",
   "metadata": {},
   "source": [
    "Notebook para análise descritiva dos dados da H&M."
   ]
  },
  {
   "cell_type": "markdown",
   "id": "ee5028b4",
   "metadata": {},
   "source": [
    "# Libraries"
   ]
  },
  {
   "cell_type": "code",
   "execution_count": 1,
   "id": "742b5caa",
   "metadata": {},
   "outputs": [],
   "source": [
    "import pandas as pd\n",
    "import numpy as np"
   ]
  },
  {
   "cell_type": "markdown",
   "id": "f5197633",
   "metadata": {},
   "source": [
    "# Data collection"
   ]
  },
  {
   "cell_type": "code",
   "execution_count": 2,
   "id": "4c22c890",
   "metadata": {},
   "outputs": [
    {
     "data": {
      "text/html": [
       "<div>\n",
       "<style scoped>\n",
       "    .dataframe tbody tr th:only-of-type {\n",
       "        vertical-align: middle;\n",
       "    }\n",
       "\n",
       "    .dataframe tbody tr th {\n",
       "        vertical-align: top;\n",
       "    }\n",
       "\n",
       "    .dataframe thead th {\n",
       "        text-align: right;\n",
       "    }\n",
       "</style>\n",
       "<table border=\"1\" class=\"dataframe\">\n",
       "  <thead>\n",
       "    <tr style=\"text-align: right;\">\n",
       "      <th></th>\n",
       "      <th>Unnamed: 0</th>\n",
       "      <th>product_id</th>\n",
       "      <th>fit</th>\n",
       "      <th>color</th>\n",
       "      <th>product_name</th>\n",
       "      <th>product_price</th>\n",
       "      <th>style_id</th>\n",
       "      <th>color_id</th>\n",
       "      <th>scrape_datetime</th>\n",
       "      <th>cotton</th>\n",
       "      <th>polyester</th>\n",
       "      <th>spandex</th>\n",
       "      <th>lyocell</th>\n",
       "      <th>rayon</th>\n",
       "      <th>elastomultiester</th>\n",
       "      <th>model_size</th>\n",
       "      <th>jeans_size</th>\n",
       "    </tr>\n",
       "  </thead>\n",
       "  <tbody>\n",
       "    <tr>\n",
       "      <th>0</th>\n",
       "      <td>0</td>\n",
       "      <td>1100162003</td>\n",
       "      <td>regular_fit</td>\n",
       "      <td>denim_gray</td>\n",
       "      <td>essentials_no_2_the_jeans</td>\n",
       "      <td>39.99</td>\n",
       "      <td>1100162</td>\n",
       "      <td>3</td>\n",
       "      <td>2022-11-07 11:20:15</td>\n",
       "      <td>0.99</td>\n",
       "      <td>0.65</td>\n",
       "      <td>0.01</td>\n",
       "      <td>0.0</td>\n",
       "      <td>0.0</td>\n",
       "      <td>0.0</td>\n",
       "      <td>187.0</td>\n",
       "      <td>31/32</td>\n",
       "    </tr>\n",
       "    <tr>\n",
       "      <th>1</th>\n",
       "      <td>1</td>\n",
       "      <td>1100162003</td>\n",
       "      <td>regular_fit</td>\n",
       "      <td>denim_gray</td>\n",
       "      <td>NaN</td>\n",
       "      <td>NaN</td>\n",
       "      <td>1100162</td>\n",
       "      <td>3</td>\n",
       "      <td>2022-11-07 11:20:15</td>\n",
       "      <td>0.99</td>\n",
       "      <td>0.65</td>\n",
       "      <td>0.01</td>\n",
       "      <td>0.0</td>\n",
       "      <td>0.0</td>\n",
       "      <td>0.0</td>\n",
       "      <td>187.0</td>\n",
       "      <td>31/32</td>\n",
       "    </tr>\n",
       "    <tr>\n",
       "      <th>2</th>\n",
       "      <td>2</td>\n",
       "      <td>1100162002</td>\n",
       "      <td>regular_fit</td>\n",
       "      <td>denim_blue</td>\n",
       "      <td>essentials_no_2_the_jeans</td>\n",
       "      <td>39.99</td>\n",
       "      <td>1100162</td>\n",
       "      <td>2</td>\n",
       "      <td>2022-11-07 11:20:15</td>\n",
       "      <td>0.99</td>\n",
       "      <td>0.65</td>\n",
       "      <td>0.01</td>\n",
       "      <td>0.0</td>\n",
       "      <td>0.0</td>\n",
       "      <td>0.0</td>\n",
       "      <td>189.0</td>\n",
       "      <td>31/32</td>\n",
       "    </tr>\n",
       "    <tr>\n",
       "      <th>3</th>\n",
       "      <td>3</td>\n",
       "      <td>1100162002</td>\n",
       "      <td>regular_fit</td>\n",
       "      <td>denim_blue</td>\n",
       "      <td>NaN</td>\n",
       "      <td>NaN</td>\n",
       "      <td>1100162</td>\n",
       "      <td>2</td>\n",
       "      <td>2022-11-07 11:20:15</td>\n",
       "      <td>0.99</td>\n",
       "      <td>0.65</td>\n",
       "      <td>0.01</td>\n",
       "      <td>0.0</td>\n",
       "      <td>0.0</td>\n",
       "      <td>0.0</td>\n",
       "      <td>189.0</td>\n",
       "      <td>31/32</td>\n",
       "    </tr>\n",
       "    <tr>\n",
       "      <th>4</th>\n",
       "      <td>4</td>\n",
       "      <td>1024256001</td>\n",
       "      <td>slim_fit</td>\n",
       "      <td>black</td>\n",
       "      <td>slim_jeans</td>\n",
       "      <td>19.99</td>\n",
       "      <td>1024256</td>\n",
       "      <td>1</td>\n",
       "      <td>2022-11-07 11:20:15</td>\n",
       "      <td>0.99</td>\n",
       "      <td>0.65</td>\n",
       "      <td>0.01</td>\n",
       "      <td>0.0</td>\n",
       "      <td>0.0</td>\n",
       "      <td>0.0</td>\n",
       "      <td>185.0</td>\n",
       "      <td>31/32</td>\n",
       "    </tr>\n",
       "  </tbody>\n",
       "</table>\n",
       "</div>"
      ],
      "text/plain": [
       "   Unnamed: 0  product_id          fit       color               product_name  \\\n",
       "0           0  1100162003  regular_fit  denim_gray  essentials_no_2_the_jeans   \n",
       "1           1  1100162003  regular_fit  denim_gray                        NaN   \n",
       "2           2  1100162002  regular_fit  denim_blue  essentials_no_2_the_jeans   \n",
       "3           3  1100162002  regular_fit  denim_blue                        NaN   \n",
       "4           4  1024256001     slim_fit       black                 slim_jeans   \n",
       "\n",
       "   product_price  style_id  color_id      scrape_datetime  cotton  polyester  \\\n",
       "0          39.99   1100162         3  2022-11-07 11:20:15    0.99       0.65   \n",
       "1            NaN   1100162         3  2022-11-07 11:20:15    0.99       0.65   \n",
       "2          39.99   1100162         2  2022-11-07 11:20:15    0.99       0.65   \n",
       "3            NaN   1100162         2  2022-11-07 11:20:15    0.99       0.65   \n",
       "4          19.99   1024256         1  2022-11-07 11:20:15    0.99       0.65   \n",
       "\n",
       "   spandex  lyocell  rayon  elastomultiester  model_size jeans_size  \n",
       "0     0.01      0.0    0.0               0.0       187.0      31/32  \n",
       "1     0.01      0.0    0.0               0.0       187.0      31/32  \n",
       "2     0.01      0.0    0.0               0.0       189.0      31/32  \n",
       "3     0.01      0.0    0.0               0.0       189.0      31/32  \n",
       "4     0.01      0.0    0.0               0.0       185.0      31/32  "
      ]
     },
     "execution_count": 2,
     "metadata": {},
     "output_type": "execute_result"
    }
   ],
   "source": [
    "data_raw = pd.read_csv('https://raw.githubusercontent.com/lucasquemelli/ds_ao_dev/main/data_clean.csv')\n",
    "df01 = data_raw.copy()\n",
    "df01.head()"
   ]
  },
  {
   "cell_type": "markdown",
   "id": "fa2974a5",
   "metadata": {},
   "source": [
    "# 1.0 Data description"
   ]
  },
  {
   "cell_type": "markdown",
   "id": "746aebb9",
   "metadata": {},
   "source": [
    "## 1.1 Data dimensions"
   ]
  },
  {
   "cell_type": "code",
   "execution_count": 3,
   "id": "25737258",
   "metadata": {},
   "outputs": [
    {
     "data": {
      "text/plain": [
       "(128, 17)"
      ]
     },
     "execution_count": 3,
     "metadata": {},
     "output_type": "execute_result"
    }
   ],
   "source": [
    "df01.shape"
   ]
  },
  {
   "cell_type": "code",
   "execution_count": 4,
   "id": "df2bdb85",
   "metadata": {},
   "outputs": [
    {
     "name": "stdout",
     "output_type": "stream",
     "text": [
      "Number of rows: 128\n",
      "Number of cols: 17\n"
     ]
    }
   ],
   "source": [
    "print(\"Number of rows: {}\".format(df01.shape[0]))\n",
    "print(\"Number of cols: {}\".format(df01.shape[1]))"
   ]
  },
  {
   "cell_type": "markdown",
   "id": "a0980936",
   "metadata": {},
   "source": [
    "## 1.2 Data types"
   ]
  },
  {
   "cell_type": "code",
   "execution_count": 5,
   "id": "e9c23473",
   "metadata": {},
   "outputs": [
    {
     "data": {
      "text/plain": [
       "Unnamed: 0            int64\n",
       "product_id            int64\n",
       "fit                  object\n",
       "color                object\n",
       "product_name         object\n",
       "product_price       float64\n",
       "style_id              int64\n",
       "color_id              int64\n",
       "scrape_datetime      object\n",
       "cotton              float64\n",
       "polyester           float64\n",
       "spandex             float64\n",
       "lyocell             float64\n",
       "rayon               float64\n",
       "elastomultiester    float64\n",
       "model_size          float64\n",
       "jeans_size           object\n",
       "dtype: object"
      ]
     },
     "execution_count": 5,
     "metadata": {},
     "output_type": "execute_result"
    }
   ],
   "source": [
    "df01.dtypes"
   ]
  },
  {
   "cell_type": "code",
   "execution_count": 6,
   "id": "3dff8c75",
   "metadata": {},
   "outputs": [],
   "source": [
    "df01 = df01.drop(columns=['Unnamed: 0']).reset_index(drop=True)"
   ]
  },
  {
   "cell_type": "code",
   "execution_count": 7,
   "id": "f537b344",
   "metadata": {},
   "outputs": [],
   "source": [
    "df01['scrape_datetime'] = pd.to_datetime(df01['scrape_datetime']) "
   ]
  },
  {
   "cell_type": "code",
   "execution_count": 8,
   "id": "6c4759a6",
   "metadata": {},
   "outputs": [
    {
     "data": {
      "text/plain": [
       "product_id                   int64\n",
       "fit                         object\n",
       "color                       object\n",
       "product_name                object\n",
       "product_price              float64\n",
       "style_id                     int64\n",
       "color_id                     int64\n",
       "scrape_datetime     datetime64[ns]\n",
       "cotton                     float64\n",
       "polyester                  float64\n",
       "spandex                    float64\n",
       "lyocell                    float64\n",
       "rayon                      float64\n",
       "elastomultiester           float64\n",
       "model_size                 float64\n",
       "jeans_size                  object\n",
       "dtype: object"
      ]
     },
     "execution_count": 8,
     "metadata": {},
     "output_type": "execute_result"
    }
   ],
   "source": [
    "df01.dtypes"
   ]
  },
  {
   "cell_type": "markdown",
   "id": "81aff65a",
   "metadata": {},
   "source": [
    "## 1.3 Missing values"
   ]
  },
  {
   "cell_type": "code",
   "execution_count": 9,
   "id": "377bff64",
   "metadata": {},
   "outputs": [
    {
     "data": {
      "text/html": [
       "<div>\n",
       "<style scoped>\n",
       "    .dataframe tbody tr th:only-of-type {\n",
       "        vertical-align: middle;\n",
       "    }\n",
       "\n",
       "    .dataframe tbody tr th {\n",
       "        vertical-align: top;\n",
       "    }\n",
       "\n",
       "    .dataframe thead th {\n",
       "        text-align: right;\n",
       "    }\n",
       "</style>\n",
       "<table border=\"1\" class=\"dataframe\">\n",
       "  <thead>\n",
       "    <tr style=\"text-align: right;\">\n",
       "      <th></th>\n",
       "      <th>product_id</th>\n",
       "      <th>fit</th>\n",
       "      <th>color</th>\n",
       "      <th>product_name</th>\n",
       "      <th>product_price</th>\n",
       "      <th>style_id</th>\n",
       "      <th>color_id</th>\n",
       "      <th>scrape_datetime</th>\n",
       "      <th>cotton</th>\n",
       "      <th>polyester</th>\n",
       "      <th>spandex</th>\n",
       "      <th>lyocell</th>\n",
       "      <th>rayon</th>\n",
       "      <th>elastomultiester</th>\n",
       "      <th>model_size</th>\n",
       "      <th>jeans_size</th>\n",
       "    </tr>\n",
       "  </thead>\n",
       "  <tbody>\n",
       "    <tr>\n",
       "      <th>0</th>\n",
       "      <td>False</td>\n",
       "      <td>False</td>\n",
       "      <td>False</td>\n",
       "      <td>False</td>\n",
       "      <td>False</td>\n",
       "      <td>False</td>\n",
       "      <td>False</td>\n",
       "      <td>False</td>\n",
       "      <td>False</td>\n",
       "      <td>False</td>\n",
       "      <td>False</td>\n",
       "      <td>False</td>\n",
       "      <td>False</td>\n",
       "      <td>False</td>\n",
       "      <td>False</td>\n",
       "      <td>False</td>\n",
       "    </tr>\n",
       "    <tr>\n",
       "      <th>1</th>\n",
       "      <td>False</td>\n",
       "      <td>False</td>\n",
       "      <td>False</td>\n",
       "      <td>True</td>\n",
       "      <td>True</td>\n",
       "      <td>False</td>\n",
       "      <td>False</td>\n",
       "      <td>False</td>\n",
       "      <td>False</td>\n",
       "      <td>False</td>\n",
       "      <td>False</td>\n",
       "      <td>False</td>\n",
       "      <td>False</td>\n",
       "      <td>False</td>\n",
       "      <td>False</td>\n",
       "      <td>False</td>\n",
       "    </tr>\n",
       "    <tr>\n",
       "      <th>2</th>\n",
       "      <td>False</td>\n",
       "      <td>False</td>\n",
       "      <td>False</td>\n",
       "      <td>False</td>\n",
       "      <td>False</td>\n",
       "      <td>False</td>\n",
       "      <td>False</td>\n",
       "      <td>False</td>\n",
       "      <td>False</td>\n",
       "      <td>False</td>\n",
       "      <td>False</td>\n",
       "      <td>False</td>\n",
       "      <td>False</td>\n",
       "      <td>False</td>\n",
       "      <td>False</td>\n",
       "      <td>False</td>\n",
       "    </tr>\n",
       "    <tr>\n",
       "      <th>3</th>\n",
       "      <td>False</td>\n",
       "      <td>False</td>\n",
       "      <td>False</td>\n",
       "      <td>True</td>\n",
       "      <td>True</td>\n",
       "      <td>False</td>\n",
       "      <td>False</td>\n",
       "      <td>False</td>\n",
       "      <td>False</td>\n",
       "      <td>False</td>\n",
       "      <td>False</td>\n",
       "      <td>False</td>\n",
       "      <td>False</td>\n",
       "      <td>False</td>\n",
       "      <td>False</td>\n",
       "      <td>False</td>\n",
       "    </tr>\n",
       "    <tr>\n",
       "      <th>4</th>\n",
       "      <td>False</td>\n",
       "      <td>False</td>\n",
       "      <td>False</td>\n",
       "      <td>False</td>\n",
       "      <td>False</td>\n",
       "      <td>False</td>\n",
       "      <td>False</td>\n",
       "      <td>False</td>\n",
       "      <td>False</td>\n",
       "      <td>False</td>\n",
       "      <td>False</td>\n",
       "      <td>False</td>\n",
       "      <td>False</td>\n",
       "      <td>False</td>\n",
       "      <td>False</td>\n",
       "      <td>False</td>\n",
       "    </tr>\n",
       "    <tr>\n",
       "      <th>...</th>\n",
       "      <td>...</td>\n",
       "      <td>...</td>\n",
       "      <td>...</td>\n",
       "      <td>...</td>\n",
       "      <td>...</td>\n",
       "      <td>...</td>\n",
       "      <td>...</td>\n",
       "      <td>...</td>\n",
       "      <td>...</td>\n",
       "      <td>...</td>\n",
       "      <td>...</td>\n",
       "      <td>...</td>\n",
       "      <td>...</td>\n",
       "      <td>...</td>\n",
       "      <td>...</td>\n",
       "      <td>...</td>\n",
       "    </tr>\n",
       "    <tr>\n",
       "      <th>123</th>\n",
       "      <td>False</td>\n",
       "      <td>False</td>\n",
       "      <td>False</td>\n",
       "      <td>False</td>\n",
       "      <td>False</td>\n",
       "      <td>False</td>\n",
       "      <td>False</td>\n",
       "      <td>False</td>\n",
       "      <td>False</td>\n",
       "      <td>False</td>\n",
       "      <td>False</td>\n",
       "      <td>False</td>\n",
       "      <td>False</td>\n",
       "      <td>False</td>\n",
       "      <td>True</td>\n",
       "      <td>True</td>\n",
       "    </tr>\n",
       "    <tr>\n",
       "      <th>124</th>\n",
       "      <td>False</td>\n",
       "      <td>False</td>\n",
       "      <td>False</td>\n",
       "      <td>True</td>\n",
       "      <td>True</td>\n",
       "      <td>False</td>\n",
       "      <td>False</td>\n",
       "      <td>False</td>\n",
       "      <td>False</td>\n",
       "      <td>False</td>\n",
       "      <td>False</td>\n",
       "      <td>False</td>\n",
       "      <td>False</td>\n",
       "      <td>False</td>\n",
       "      <td>True</td>\n",
       "      <td>True</td>\n",
       "    </tr>\n",
       "    <tr>\n",
       "      <th>125</th>\n",
       "      <td>False</td>\n",
       "      <td>False</td>\n",
       "      <td>False</td>\n",
       "      <td>False</td>\n",
       "      <td>False</td>\n",
       "      <td>False</td>\n",
       "      <td>False</td>\n",
       "      <td>False</td>\n",
       "      <td>False</td>\n",
       "      <td>False</td>\n",
       "      <td>False</td>\n",
       "      <td>False</td>\n",
       "      <td>False</td>\n",
       "      <td>False</td>\n",
       "      <td>False</td>\n",
       "      <td>False</td>\n",
       "    </tr>\n",
       "    <tr>\n",
       "      <th>126</th>\n",
       "      <td>False</td>\n",
       "      <td>False</td>\n",
       "      <td>False</td>\n",
       "      <td>False</td>\n",
       "      <td>False</td>\n",
       "      <td>False</td>\n",
       "      <td>False</td>\n",
       "      <td>False</td>\n",
       "      <td>False</td>\n",
       "      <td>False</td>\n",
       "      <td>False</td>\n",
       "      <td>False</td>\n",
       "      <td>False</td>\n",
       "      <td>False</td>\n",
       "      <td>False</td>\n",
       "      <td>False</td>\n",
       "    </tr>\n",
       "    <tr>\n",
       "      <th>127</th>\n",
       "      <td>False</td>\n",
       "      <td>False</td>\n",
       "      <td>False</td>\n",
       "      <td>True</td>\n",
       "      <td>True</td>\n",
       "      <td>False</td>\n",
       "      <td>False</td>\n",
       "      <td>False</td>\n",
       "      <td>False</td>\n",
       "      <td>False</td>\n",
       "      <td>False</td>\n",
       "      <td>False</td>\n",
       "      <td>False</td>\n",
       "      <td>False</td>\n",
       "      <td>False</td>\n",
       "      <td>False</td>\n",
       "    </tr>\n",
       "  </tbody>\n",
       "</table>\n",
       "<p>128 rows × 16 columns</p>\n",
       "</div>"
      ],
      "text/plain": [
       "     product_id    fit  color  product_name  product_price  style_id  \\\n",
       "0         False  False  False         False          False     False   \n",
       "1         False  False  False          True           True     False   \n",
       "2         False  False  False         False          False     False   \n",
       "3         False  False  False          True           True     False   \n",
       "4         False  False  False         False          False     False   \n",
       "..          ...    ...    ...           ...            ...       ...   \n",
       "123       False  False  False         False          False     False   \n",
       "124       False  False  False          True           True     False   \n",
       "125       False  False  False         False          False     False   \n",
       "126       False  False  False         False          False     False   \n",
       "127       False  False  False          True           True     False   \n",
       "\n",
       "     color_id  scrape_datetime  cotton  polyester  spandex  lyocell  rayon  \\\n",
       "0       False            False   False      False    False    False  False   \n",
       "1       False            False   False      False    False    False  False   \n",
       "2       False            False   False      False    False    False  False   \n",
       "3       False            False   False      False    False    False  False   \n",
       "4       False            False   False      False    False    False  False   \n",
       "..        ...              ...     ...        ...      ...      ...    ...   \n",
       "123     False            False   False      False    False    False  False   \n",
       "124     False            False   False      False    False    False  False   \n",
       "125     False            False   False      False    False    False  False   \n",
       "126     False            False   False      False    False    False  False   \n",
       "127     False            False   False      False    False    False  False   \n",
       "\n",
       "     elastomultiester  model_size  jeans_size  \n",
       "0               False       False       False  \n",
       "1               False       False       False  \n",
       "2               False       False       False  \n",
       "3               False       False       False  \n",
       "4               False       False       False  \n",
       "..                ...         ...         ...  \n",
       "123             False        True        True  \n",
       "124             False        True        True  \n",
       "125             False       False       False  \n",
       "126             False       False       False  \n",
       "127             False       False       False  \n",
       "\n",
       "[128 rows x 16 columns]"
      ]
     },
     "execution_count": 9,
     "metadata": {},
     "output_type": "execute_result"
    }
   ],
   "source": [
    "df01.isna()"
   ]
  },
  {
   "cell_type": "code",
   "execution_count": 10,
   "id": "99c293cc",
   "metadata": {},
   "outputs": [
    {
     "data": {
      "text/plain": [
       "product_id           0\n",
       "fit                  0\n",
       "color                0\n",
       "product_name        56\n",
       "product_price       56\n",
       "style_id             0\n",
       "color_id             0\n",
       "scrape_datetime      0\n",
       "cotton               0\n",
       "polyester            0\n",
       "spandex              0\n",
       "lyocell              0\n",
       "rayon                0\n",
       "elastomultiester     0\n",
       "model_size          39\n",
       "jeans_size          45\n",
       "dtype: int64"
      ]
     },
     "execution_count": 10,
     "metadata": {},
     "output_type": "execute_result"
    }
   ],
   "source": [
    "df01.isna().sum()"
   ]
  },
  {
   "cell_type": "code",
   "execution_count": 11,
   "id": "35196e46",
   "metadata": {},
   "outputs": [
    {
     "data": {
      "text/plain": [
       "product_id          0.000000\n",
       "fit                 0.000000\n",
       "color               0.000000\n",
       "product_name        0.437500\n",
       "product_price       0.437500\n",
       "style_id            0.000000\n",
       "color_id            0.000000\n",
       "scrape_datetime     0.000000\n",
       "cotton              0.000000\n",
       "polyester           0.000000\n",
       "spandex             0.000000\n",
       "lyocell             0.000000\n",
       "rayon               0.000000\n",
       "elastomultiester    0.000000\n",
       "model_size          0.304688\n",
       "jeans_size          0.351562\n",
       "dtype: float64"
      ]
     },
     "execution_count": 11,
     "metadata": {},
     "output_type": "execute_result"
    }
   ],
   "source": [
    "df01.isna().sum()/df01.shape[0]"
   ]
  },
  {
   "cell_type": "code",
   "execution_count": 12,
   "id": "1159f33a",
   "metadata": {},
   "outputs": [
    {
     "data": {
      "text/plain": [
       "(44, 16)"
      ]
     },
     "execution_count": 12,
     "metadata": {},
     "output_type": "execute_result"
    }
   ],
   "source": [
    "df_aux01 = df01.dropna()\n",
    "df_aux01.shape"
   ]
  },
  {
   "cell_type": "markdown",
   "id": "e3446bfb",
   "metadata": {},
   "source": [
    "Deletar os valores faltantes resultaria em um impacto muito grande no dataframe. Como o HTML do site da H&M muda diariamente, também não seria viável coletar mais dados automaticamente todos os dias. A solução que proponho é não utilizar a coluna de product_name e, para product_price, verificar o agrupamento de preço por product_id e se não variar muito atribuir os valores de preço para os valores faltantes dentro do mesmo product_id."
   ]
  },
  {
   "cell_type": "code",
   "execution_count": 23,
   "id": "868bd574",
   "metadata": {},
   "outputs": [
    {
     "data": {
      "text/html": [
       "<div>\n",
       "<style scoped>\n",
       "    .dataframe tbody tr th:only-of-type {\n",
       "        vertical-align: middle;\n",
       "    }\n",
       "\n",
       "    .dataframe tbody tr th {\n",
       "        vertical-align: top;\n",
       "    }\n",
       "\n",
       "    .dataframe thead th {\n",
       "        text-align: right;\n",
       "    }\n",
       "</style>\n",
       "<table border=\"1\" class=\"dataframe\">\n",
       "  <thead>\n",
       "    <tr style=\"text-align: right;\">\n",
       "      <th></th>\n",
       "      <th>product_id</th>\n",
       "      <th>product_price</th>\n",
       "    </tr>\n",
       "  </thead>\n",
       "  <tbody>\n",
       "    <tr>\n",
       "      <th>35</th>\n",
       "      <td>690449022</td>\n",
       "      <td>NaN</td>\n",
       "    </tr>\n",
       "    <tr>\n",
       "      <th>34</th>\n",
       "      <td>690449022</td>\n",
       "      <td>39.99</td>\n",
       "    </tr>\n",
       "    <tr>\n",
       "      <th>25</th>\n",
       "      <td>690449036</td>\n",
       "      <td>39.99</td>\n",
       "    </tr>\n",
       "    <tr>\n",
       "      <th>50</th>\n",
       "      <td>690449051</td>\n",
       "      <td>39.99</td>\n",
       "    </tr>\n",
       "    <tr>\n",
       "      <th>63</th>\n",
       "      <td>690449056</td>\n",
       "      <td>39.99</td>\n",
       "    </tr>\n",
       "    <tr>\n",
       "      <th>...</th>\n",
       "      <td>...</td>\n",
       "      <td>...</td>\n",
       "    </tr>\n",
       "    <tr>\n",
       "      <th>1</th>\n",
       "      <td>1100162003</td>\n",
       "      <td>NaN</td>\n",
       "    </tr>\n",
       "    <tr>\n",
       "      <th>90</th>\n",
       "      <td>1107750001</td>\n",
       "      <td>44.99</td>\n",
       "    </tr>\n",
       "    <tr>\n",
       "      <th>91</th>\n",
       "      <td>1107750001</td>\n",
       "      <td>NaN</td>\n",
       "    </tr>\n",
       "    <tr>\n",
       "      <th>126</th>\n",
       "      <td>1114023003</td>\n",
       "      <td>44.99</td>\n",
       "    </tr>\n",
       "    <tr>\n",
       "      <th>127</th>\n",
       "      <td>1114023003</td>\n",
       "      <td>NaN</td>\n",
       "    </tr>\n",
       "  </tbody>\n",
       "</table>\n",
       "<p>128 rows × 2 columns</p>\n",
       "</div>"
      ],
      "text/plain": [
       "     product_id  product_price\n",
       "35    690449022            NaN\n",
       "34    690449022          39.99\n",
       "25    690449036          39.99\n",
       "50    690449051          39.99\n",
       "63    690449056          39.99\n",
       "..          ...            ...\n",
       "1    1100162003            NaN\n",
       "90   1107750001          44.99\n",
       "91   1107750001            NaN\n",
       "126  1114023003          44.99\n",
       "127  1114023003            NaN\n",
       "\n",
       "[128 rows x 2 columns]"
      ]
     },
     "execution_count": 23,
     "metadata": {},
     "output_type": "execute_result"
    }
   ],
   "source": [
    "df01[['product_id', 'product_price']].sort_values('product_id', ascending=True).groupby('product_id').head()"
   ]
  },
  {
   "cell_type": "code",
   "execution_count": null,
   "id": "9593ff62",
   "metadata": {},
   "outputs": [],
   "source": []
  },
  {
   "cell_type": "markdown",
   "id": "e7c7198e",
   "metadata": {},
   "source": [
    "## 1.4 Missing values replacement"
   ]
  },
  {
   "cell_type": "code",
   "execution_count": null,
   "id": "5e7b2695",
   "metadata": {},
   "outputs": [],
   "source": []
  },
  {
   "cell_type": "markdown",
   "id": "4e0e2649",
   "metadata": {},
   "source": [
    "## 1.5 Data description"
   ]
  },
  {
   "cell_type": "code",
   "execution_count": null,
   "id": "2729f318",
   "metadata": {},
   "outputs": [],
   "source": []
  },
  {
   "cell_type": "code",
   "execution_count": null,
   "id": "32ab8716",
   "metadata": {},
   "outputs": [],
   "source": []
  },
  {
   "cell_type": "code",
   "execution_count": null,
   "id": "b226480f",
   "metadata": {},
   "outputs": [],
   "source": []
  },
  {
   "cell_type": "markdown",
   "id": "388d2d62",
   "metadata": {},
   "source": [
    "# 2.0 Feature Engineering"
   ]
  },
  {
   "cell_type": "code",
   "execution_count": null,
   "id": "3ba85a77",
   "metadata": {},
   "outputs": [],
   "source": []
  },
  {
   "cell_type": "markdown",
   "id": "7c58a247",
   "metadata": {},
   "source": [
    "# 3.0 Attributes filtering"
   ]
  },
  {
   "cell_type": "code",
   "execution_count": null,
   "id": "ed79e5eb",
   "metadata": {},
   "outputs": [],
   "source": []
  },
  {
   "cell_type": "markdown",
   "id": "479d7e5f",
   "metadata": {},
   "source": [
    "# 4.0 EDA (exploratory data analysis)"
   ]
  },
  {
   "cell_type": "code",
   "execution_count": null,
   "id": "c241c808",
   "metadata": {},
   "outputs": [],
   "source": []
  }
 ],
 "metadata": {
  "kernelspec": {
   "display_name": "Python 3 (ipykernel)",
   "language": "python",
   "name": "python3"
  },
  "language_info": {
   "codemirror_mode": {
    "name": "ipython",
    "version": 3
   },
   "file_extension": ".py",
   "mimetype": "text/x-python",
   "name": "python",
   "nbconvert_exporter": "python",
   "pygments_lexer": "ipython3",
   "version": "3.9.13"
  }
 },
 "nbformat": 4,
 "nbformat_minor": 5
}
