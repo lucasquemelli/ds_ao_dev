{
 "cells": [
  {
   "cell_type": "markdown",
   "id": "31cfd2c4",
   "metadata": {},
   "source": [
    "Notebook para análise descritiva dos dados da H&M."
   ]
  },
  {
   "cell_type": "markdown",
   "id": "56d8ea6f",
   "metadata": {},
   "source": [
    "# Libraries"
   ]
  },
  {
   "cell_type": "code",
   "execution_count": 1,
   "id": "c101afce",
   "metadata": {},
   "outputs": [],
   "source": [
    "import pandas as pd\n",
    "import numpy as np"
   ]
  },
  {
   "cell_type": "markdown",
   "id": "4e500662",
   "metadata": {},
   "source": [
    "# Data collection"
   ]
  },
  {
   "cell_type": "code",
   "execution_count": 2,
   "id": "c7a7f65e",
   "metadata": {},
   "outputs": [
    {
     "data": {
      "text/html": [
       "<div>\n",
       "<style scoped>\n",
       "    .dataframe tbody tr th:only-of-type {\n",
       "        vertical-align: middle;\n",
       "    }\n",
       "\n",
       "    .dataframe tbody tr th {\n",
       "        vertical-align: top;\n",
       "    }\n",
       "\n",
       "    .dataframe thead th {\n",
       "        text-align: right;\n",
       "    }\n",
       "</style>\n",
       "<table border=\"1\" class=\"dataframe\">\n",
       "  <thead>\n",
       "    <tr style=\"text-align: right;\">\n",
       "      <th></th>\n",
       "      <th>Unnamed: 0</th>\n",
       "      <th>product_id</th>\n",
       "      <th>fit</th>\n",
       "      <th>color</th>\n",
       "      <th>product_name</th>\n",
       "      <th>product_price</th>\n",
       "      <th>style_id</th>\n",
       "      <th>color_id</th>\n",
       "      <th>scrape_datetime</th>\n",
       "      <th>cotton</th>\n",
       "      <th>polyester</th>\n",
       "      <th>spandex</th>\n",
       "      <th>lyocell</th>\n",
       "      <th>rayon</th>\n",
       "      <th>elastomultiester</th>\n",
       "      <th>model_size</th>\n",
       "      <th>jeans_size</th>\n",
       "    </tr>\n",
       "  </thead>\n",
       "  <tbody>\n",
       "    <tr>\n",
       "      <th>0</th>\n",
       "      <td>0</td>\n",
       "      <td>1100162003</td>\n",
       "      <td>regular_fit</td>\n",
       "      <td>denim_gray</td>\n",
       "      <td>essentials_no_2_the_jeans</td>\n",
       "      <td>39.99</td>\n",
       "      <td>1100162</td>\n",
       "      <td>3</td>\n",
       "      <td>2022-11-07 11:20:15</td>\n",
       "      <td>0.99</td>\n",
       "      <td>0.65</td>\n",
       "      <td>0.01</td>\n",
       "      <td>0.0</td>\n",
       "      <td>0.0</td>\n",
       "      <td>0.0</td>\n",
       "      <td>187.0</td>\n",
       "      <td>31/32</td>\n",
       "    </tr>\n",
       "    <tr>\n",
       "      <th>1</th>\n",
       "      <td>1</td>\n",
       "      <td>1100162003</td>\n",
       "      <td>regular_fit</td>\n",
       "      <td>denim_gray</td>\n",
       "      <td>NaN</td>\n",
       "      <td>NaN</td>\n",
       "      <td>1100162</td>\n",
       "      <td>3</td>\n",
       "      <td>2022-11-07 11:20:15</td>\n",
       "      <td>0.99</td>\n",
       "      <td>0.65</td>\n",
       "      <td>0.01</td>\n",
       "      <td>0.0</td>\n",
       "      <td>0.0</td>\n",
       "      <td>0.0</td>\n",
       "      <td>187.0</td>\n",
       "      <td>31/32</td>\n",
       "    </tr>\n",
       "    <tr>\n",
       "      <th>2</th>\n",
       "      <td>2</td>\n",
       "      <td>1100162002</td>\n",
       "      <td>regular_fit</td>\n",
       "      <td>denim_blue</td>\n",
       "      <td>essentials_no_2_the_jeans</td>\n",
       "      <td>39.99</td>\n",
       "      <td>1100162</td>\n",
       "      <td>2</td>\n",
       "      <td>2022-11-07 11:20:15</td>\n",
       "      <td>0.99</td>\n",
       "      <td>0.65</td>\n",
       "      <td>0.01</td>\n",
       "      <td>0.0</td>\n",
       "      <td>0.0</td>\n",
       "      <td>0.0</td>\n",
       "      <td>189.0</td>\n",
       "      <td>31/32</td>\n",
       "    </tr>\n",
       "    <tr>\n",
       "      <th>3</th>\n",
       "      <td>3</td>\n",
       "      <td>1100162002</td>\n",
       "      <td>regular_fit</td>\n",
       "      <td>denim_blue</td>\n",
       "      <td>NaN</td>\n",
       "      <td>NaN</td>\n",
       "      <td>1100162</td>\n",
       "      <td>2</td>\n",
       "      <td>2022-11-07 11:20:15</td>\n",
       "      <td>0.99</td>\n",
       "      <td>0.65</td>\n",
       "      <td>0.01</td>\n",
       "      <td>0.0</td>\n",
       "      <td>0.0</td>\n",
       "      <td>0.0</td>\n",
       "      <td>189.0</td>\n",
       "      <td>31/32</td>\n",
       "    </tr>\n",
       "    <tr>\n",
       "      <th>4</th>\n",
       "      <td>4</td>\n",
       "      <td>1024256001</td>\n",
       "      <td>slim_fit</td>\n",
       "      <td>black</td>\n",
       "      <td>slim_jeans</td>\n",
       "      <td>19.99</td>\n",
       "      <td>1024256</td>\n",
       "      <td>1</td>\n",
       "      <td>2022-11-07 11:20:15</td>\n",
       "      <td>0.99</td>\n",
       "      <td>0.65</td>\n",
       "      <td>0.01</td>\n",
       "      <td>0.0</td>\n",
       "      <td>0.0</td>\n",
       "      <td>0.0</td>\n",
       "      <td>185.0</td>\n",
       "      <td>31/32</td>\n",
       "    </tr>\n",
       "  </tbody>\n",
       "</table>\n",
       "</div>"
      ],
      "text/plain": [
       "   Unnamed: 0  product_id          fit       color               product_name  \\\n",
       "0           0  1100162003  regular_fit  denim_gray  essentials_no_2_the_jeans   \n",
       "1           1  1100162003  regular_fit  denim_gray                        NaN   \n",
       "2           2  1100162002  regular_fit  denim_blue  essentials_no_2_the_jeans   \n",
       "3           3  1100162002  regular_fit  denim_blue                        NaN   \n",
       "4           4  1024256001     slim_fit       black                 slim_jeans   \n",
       "\n",
       "   product_price  style_id  color_id      scrape_datetime  cotton  polyester  \\\n",
       "0          39.99   1100162         3  2022-11-07 11:20:15    0.99       0.65   \n",
       "1            NaN   1100162         3  2022-11-07 11:20:15    0.99       0.65   \n",
       "2          39.99   1100162         2  2022-11-07 11:20:15    0.99       0.65   \n",
       "3            NaN   1100162         2  2022-11-07 11:20:15    0.99       0.65   \n",
       "4          19.99   1024256         1  2022-11-07 11:20:15    0.99       0.65   \n",
       "\n",
       "   spandex  lyocell  rayon  elastomultiester  model_size jeans_size  \n",
       "0     0.01      0.0    0.0               0.0       187.0      31/32  \n",
       "1     0.01      0.0    0.0               0.0       187.0      31/32  \n",
       "2     0.01      0.0    0.0               0.0       189.0      31/32  \n",
       "3     0.01      0.0    0.0               0.0       189.0      31/32  \n",
       "4     0.01      0.0    0.0               0.0       185.0      31/32  "
      ]
     },
     "execution_count": 2,
     "metadata": {},
     "output_type": "execute_result"
    }
   ],
   "source": [
    "data_raw = pd.read_csv('https://raw.githubusercontent.com/lucasquemelli/ds_ao_dev/main/data_clean.csv')\n",
    "df01 = data_raw.copy()\n",
    "df01.head()"
   ]
  },
  {
   "cell_type": "markdown",
   "id": "423c083f",
   "metadata": {},
   "source": [
    "# 1.0 Data description"
   ]
  },
  {
   "cell_type": "markdown",
   "id": "66e26fb9",
   "metadata": {},
   "source": [
    "## 1.1 Data dimensions"
   ]
  },
  {
   "cell_type": "code",
   "execution_count": 3,
   "id": "419affdc",
   "metadata": {},
   "outputs": [
    {
     "data": {
      "text/plain": [
       "(128, 17)"
      ]
     },
     "execution_count": 3,
     "metadata": {},
     "output_type": "execute_result"
    }
   ],
   "source": [
    "df01.shape"
   ]
  },
  {
   "cell_type": "code",
   "execution_count": 4,
   "id": "e0fe7624",
   "metadata": {},
   "outputs": [
    {
     "name": "stdout",
     "output_type": "stream",
     "text": [
      "Number of rows: 128\n",
      "Number of cols: 17\n"
     ]
    }
   ],
   "source": [
    "print(\"Number of rows: {}\".format(df01.shape[0]))\n",
    "print(\"Number of cols: {}\".format(df01.shape[1]))"
   ]
  },
  {
   "cell_type": "markdown",
   "id": "f5e5d608",
   "metadata": {},
   "source": [
    "## 1.2 Data types"
   ]
  },
  {
   "cell_type": "code",
   "execution_count": 5,
   "id": "50e67ea5",
   "metadata": {},
   "outputs": [
    {
     "data": {
      "text/plain": [
       "Unnamed: 0            int64\n",
       "product_id            int64\n",
       "fit                  object\n",
       "color                object\n",
       "product_name         object\n",
       "product_price       float64\n",
       "style_id              int64\n",
       "color_id              int64\n",
       "scrape_datetime      object\n",
       "cotton              float64\n",
       "polyester           float64\n",
       "spandex             float64\n",
       "lyocell             float64\n",
       "rayon               float64\n",
       "elastomultiester    float64\n",
       "model_size          float64\n",
       "jeans_size           object\n",
       "dtype: object"
      ]
     },
     "execution_count": 5,
     "metadata": {},
     "output_type": "execute_result"
    }
   ],
   "source": [
    "df01.dtypes"
   ]
  },
  {
   "cell_type": "code",
   "execution_count": 6,
   "id": "c9327813",
   "metadata": {},
   "outputs": [],
   "source": [
    "df01 = df01.drop(columns=['Unnamed: 0']).reset_index(drop=True)"
   ]
  },
  {
   "cell_type": "code",
   "execution_count": 7,
   "id": "acfb897f",
   "metadata": {},
   "outputs": [],
   "source": [
    "df01['scrape_datetime'] = pd.to_datetime(df01['scrape_datetime']) "
   ]
  },
  {
   "cell_type": "code",
   "execution_count": 8,
   "id": "d8251469",
   "metadata": {},
   "outputs": [
    {
     "data": {
      "text/plain": [
       "product_id                   int64\n",
       "fit                         object\n",
       "color                       object\n",
       "product_name                object\n",
       "product_price              float64\n",
       "style_id                     int64\n",
       "color_id                     int64\n",
       "scrape_datetime     datetime64[ns]\n",
       "cotton                     float64\n",
       "polyester                  float64\n",
       "spandex                    float64\n",
       "lyocell                    float64\n",
       "rayon                      float64\n",
       "elastomultiester           float64\n",
       "model_size                 float64\n",
       "jeans_size                  object\n",
       "dtype: object"
      ]
     },
     "execution_count": 8,
     "metadata": {},
     "output_type": "execute_result"
    }
   ],
   "source": [
    "df01.dtypes"
   ]
  },
  {
   "cell_type": "markdown",
   "id": "7cb60fba",
   "metadata": {},
   "source": [
    "## 1.3 Missing values"
   ]
  },
  {
   "cell_type": "code",
   "execution_count": null,
   "id": "cc472c93",
   "metadata": {},
   "outputs": [],
   "source": []
  },
  {
   "cell_type": "markdown",
   "id": "fd06123d",
   "metadata": {},
   "source": [
    "## 1.4 Missing values replacement"
   ]
  },
  {
   "cell_type": "code",
   "execution_count": null,
   "id": "841ec92c",
   "metadata": {},
   "outputs": [],
   "source": []
  },
  {
   "cell_type": "markdown",
   "id": "0b5e8e38",
   "metadata": {},
   "source": [
    "## 1.5 Data description"
   ]
  },
  {
   "cell_type": "code",
   "execution_count": null,
   "id": "7011f2a6",
   "metadata": {},
   "outputs": [],
   "source": []
  },
  {
   "cell_type": "code",
   "execution_count": null,
   "id": "85f7f104",
   "metadata": {},
   "outputs": [],
   "source": []
  },
  {
   "cell_type": "code",
   "execution_count": null,
   "id": "cb18b486",
   "metadata": {},
   "outputs": [],
   "source": []
  },
  {
   "cell_type": "markdown",
   "id": "2d149bba",
   "metadata": {},
   "source": [
    "# 2.0 Feature Engineering"
   ]
  },
  {
   "cell_type": "code",
   "execution_count": null,
   "id": "90c1aece",
   "metadata": {},
   "outputs": [],
   "source": []
  },
  {
   "cell_type": "markdown",
   "id": "7d67d2cc",
   "metadata": {},
   "source": [
    "# 3.0 Attributes filtering"
   ]
  },
  {
   "cell_type": "code",
   "execution_count": null,
   "id": "9dc7ad4c",
   "metadata": {},
   "outputs": [],
   "source": []
  },
  {
   "cell_type": "markdown",
   "id": "fb086e03",
   "metadata": {},
   "source": [
    "# 4.0 EDA (exploratory data analysis)"
   ]
  },
  {
   "cell_type": "code",
   "execution_count": null,
   "id": "6ea4647e",
   "metadata": {},
   "outputs": [],
   "source": []
  }
 ],
 "metadata": {
  "kernelspec": {
   "display_name": "Python 3 (ipykernel)",
   "language": "python",
   "name": "python3"
  },
  "language_info": {
   "codemirror_mode": {
    "name": "ipython",
    "version": 3
   },
   "file_extension": ".py",
   "mimetype": "text/x-python",
   "name": "python",
   "nbconvert_exporter": "python",
   "pygments_lexer": "ipython3",
   "version": "3.9.13"
  }
 },
 "nbformat": 4,
 "nbformat_minor": 5
}
