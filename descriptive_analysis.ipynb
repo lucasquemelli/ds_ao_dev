{
 "cells": [
  {
   "cell_type": "markdown",
   "id": "53eb92c5",
   "metadata": {},
   "source": [
    "Notebook para análise descritiva dos dados da H&M."
   ]
  },
  {
   "cell_type": "markdown",
   "id": "c3646adf",
   "metadata": {},
   "source": [
    "# Libraries"
   ]
  },
  {
   "cell_type": "code",
   "execution_count": 1,
   "id": "9784b038",
   "metadata": {},
   "outputs": [],
   "source": [
    "import pandas as pd\n",
    "import numpy as np\n",
    "\n",
    "from sqlalchemy import create_engine"
   ]
  },
  {
   "cell_type": "markdown",
   "id": "e9a288a7",
   "metadata": {},
   "source": [
    "# Data collection"
   ]
  },
  {
   "cell_type": "code",
   "execution_count": 2,
   "id": "b44bfb99",
   "metadata": {},
   "outputs": [
    {
     "data": {
      "text/html": [
       "<div>\n",
       "<style scoped>\n",
       "    .dataframe tbody tr th:only-of-type {\n",
       "        vertical-align: middle;\n",
       "    }\n",
       "\n",
       "    .dataframe tbody tr th {\n",
       "        vertical-align: top;\n",
       "    }\n",
       "\n",
       "    .dataframe thead th {\n",
       "        text-align: right;\n",
       "    }\n",
       "</style>\n",
       "<table border=\"1\" class=\"dataframe\">\n",
       "  <thead>\n",
       "    <tr style=\"text-align: right;\">\n",
       "      <th></th>\n",
       "      <th>Unnamed: 0</th>\n",
       "      <th>product_id</th>\n",
       "      <th>fit</th>\n",
       "      <th>color</th>\n",
       "      <th>product_name</th>\n",
       "      <th>product_price</th>\n",
       "      <th>style_id</th>\n",
       "      <th>color_id</th>\n",
       "      <th>scrape_datetime</th>\n",
       "      <th>cotton</th>\n",
       "      <th>polyester</th>\n",
       "      <th>spandex</th>\n",
       "      <th>lyocell</th>\n",
       "      <th>rayon</th>\n",
       "      <th>elastomultiester</th>\n",
       "      <th>model_size</th>\n",
       "      <th>jeans_size</th>\n",
       "    </tr>\n",
       "  </thead>\n",
       "  <tbody>\n",
       "    <tr>\n",
       "      <th>0</th>\n",
       "      <td>0</td>\n",
       "      <td>1100162003</td>\n",
       "      <td>regular_fit</td>\n",
       "      <td>denim_gray</td>\n",
       "      <td>essentials_no_2_the_jeans</td>\n",
       "      <td>39.99</td>\n",
       "      <td>1100162</td>\n",
       "      <td>3</td>\n",
       "      <td>2022-11-07 11:20:15</td>\n",
       "      <td>0.99</td>\n",
       "      <td>0.65</td>\n",
       "      <td>0.01</td>\n",
       "      <td>0.0</td>\n",
       "      <td>0.0</td>\n",
       "      <td>0.0</td>\n",
       "      <td>187.0</td>\n",
       "      <td>31/32</td>\n",
       "    </tr>\n",
       "    <tr>\n",
       "      <th>1</th>\n",
       "      <td>1</td>\n",
       "      <td>1100162003</td>\n",
       "      <td>regular_fit</td>\n",
       "      <td>denim_gray</td>\n",
       "      <td>NaN</td>\n",
       "      <td>NaN</td>\n",
       "      <td>1100162</td>\n",
       "      <td>3</td>\n",
       "      <td>2022-11-07 11:20:15</td>\n",
       "      <td>0.99</td>\n",
       "      <td>0.65</td>\n",
       "      <td>0.01</td>\n",
       "      <td>0.0</td>\n",
       "      <td>0.0</td>\n",
       "      <td>0.0</td>\n",
       "      <td>187.0</td>\n",
       "      <td>31/32</td>\n",
       "    </tr>\n",
       "    <tr>\n",
       "      <th>2</th>\n",
       "      <td>2</td>\n",
       "      <td>1100162002</td>\n",
       "      <td>regular_fit</td>\n",
       "      <td>denim_blue</td>\n",
       "      <td>essentials_no_2_the_jeans</td>\n",
       "      <td>39.99</td>\n",
       "      <td>1100162</td>\n",
       "      <td>2</td>\n",
       "      <td>2022-11-07 11:20:15</td>\n",
       "      <td>0.99</td>\n",
       "      <td>0.65</td>\n",
       "      <td>0.01</td>\n",
       "      <td>0.0</td>\n",
       "      <td>0.0</td>\n",
       "      <td>0.0</td>\n",
       "      <td>189.0</td>\n",
       "      <td>31/32</td>\n",
       "    </tr>\n",
       "    <tr>\n",
       "      <th>3</th>\n",
       "      <td>3</td>\n",
       "      <td>1100162002</td>\n",
       "      <td>regular_fit</td>\n",
       "      <td>denim_blue</td>\n",
       "      <td>NaN</td>\n",
       "      <td>NaN</td>\n",
       "      <td>1100162</td>\n",
       "      <td>2</td>\n",
       "      <td>2022-11-07 11:20:15</td>\n",
       "      <td>0.99</td>\n",
       "      <td>0.65</td>\n",
       "      <td>0.01</td>\n",
       "      <td>0.0</td>\n",
       "      <td>0.0</td>\n",
       "      <td>0.0</td>\n",
       "      <td>189.0</td>\n",
       "      <td>31/32</td>\n",
       "    </tr>\n",
       "    <tr>\n",
       "      <th>4</th>\n",
       "      <td>4</td>\n",
       "      <td>1024256001</td>\n",
       "      <td>slim_fit</td>\n",
       "      <td>black</td>\n",
       "      <td>slim_jeans</td>\n",
       "      <td>19.99</td>\n",
       "      <td>1024256</td>\n",
       "      <td>1</td>\n",
       "      <td>2022-11-07 11:20:15</td>\n",
       "      <td>0.99</td>\n",
       "      <td>0.65</td>\n",
       "      <td>0.01</td>\n",
       "      <td>0.0</td>\n",
       "      <td>0.0</td>\n",
       "      <td>0.0</td>\n",
       "      <td>185.0</td>\n",
       "      <td>31/32</td>\n",
       "    </tr>\n",
       "  </tbody>\n",
       "</table>\n",
       "</div>"
      ],
      "text/plain": [
       "   Unnamed: 0  product_id          fit       color               product_name  \\\n",
       "0           0  1100162003  regular_fit  denim_gray  essentials_no_2_the_jeans   \n",
       "1           1  1100162003  regular_fit  denim_gray                        NaN   \n",
       "2           2  1100162002  regular_fit  denim_blue  essentials_no_2_the_jeans   \n",
       "3           3  1100162002  regular_fit  denim_blue                        NaN   \n",
       "4           4  1024256001     slim_fit       black                 slim_jeans   \n",
       "\n",
       "   product_price  style_id  color_id      scrape_datetime  cotton  polyester  \\\n",
       "0          39.99   1100162         3  2022-11-07 11:20:15    0.99       0.65   \n",
       "1            NaN   1100162         3  2022-11-07 11:20:15    0.99       0.65   \n",
       "2          39.99   1100162         2  2022-11-07 11:20:15    0.99       0.65   \n",
       "3            NaN   1100162         2  2022-11-07 11:20:15    0.99       0.65   \n",
       "4          19.99   1024256         1  2022-11-07 11:20:15    0.99       0.65   \n",
       "\n",
       "   spandex  lyocell  rayon  elastomultiester  model_size jeans_size  \n",
       "0     0.01      0.0    0.0               0.0       187.0      31/32  \n",
       "1     0.01      0.0    0.0               0.0       187.0      31/32  \n",
       "2     0.01      0.0    0.0               0.0       189.0      31/32  \n",
       "3     0.01      0.0    0.0               0.0       189.0      31/32  \n",
       "4     0.01      0.0    0.0               0.0       185.0      31/32  "
      ]
     },
     "execution_count": 2,
     "metadata": {},
     "output_type": "execute_result"
    }
   ],
   "source": [
    "data_raw = pd.read_csv('https://raw.githubusercontent.com/lucasquemelli/ds_ao_dev/main/data_clean.csv')\n",
    "df01 = data_raw.copy()\n",
    "df01.head()"
   ]
  },
  {
   "cell_type": "markdown",
   "id": "ec8c34f2",
   "metadata": {},
   "source": [
    "# 1.0 Data description"
   ]
  },
  {
   "cell_type": "markdown",
   "id": "298a8ea6",
   "metadata": {},
   "source": [
    "## 1.1 Data dimensions"
   ]
  },
  {
   "cell_type": "code",
   "execution_count": 3,
   "id": "cabe01a7",
   "metadata": {},
   "outputs": [
    {
     "data": {
      "text/plain": [
       "(128, 17)"
      ]
     },
     "execution_count": 3,
     "metadata": {},
     "output_type": "execute_result"
    }
   ],
   "source": [
    "df01.shape"
   ]
  },
  {
   "cell_type": "code",
   "execution_count": 4,
   "id": "32be86f9",
   "metadata": {},
   "outputs": [
    {
     "name": "stdout",
     "output_type": "stream",
     "text": [
      "Number of rows: 128\n",
      "Number of cols: 17\n"
     ]
    }
   ],
   "source": [
    "print(\"Number of rows: {}\".format(df01.shape[0]))\n",
    "print(\"Number of cols: {}\".format(df01.shape[1]))"
   ]
  },
  {
   "cell_type": "markdown",
   "id": "136138f4",
   "metadata": {},
   "source": [
    "## 1.2 Data types"
   ]
  },
  {
   "cell_type": "code",
   "execution_count": 5,
   "id": "8dd0000a",
   "metadata": {},
   "outputs": [
    {
     "data": {
      "text/plain": [
       "Unnamed: 0            int64\n",
       "product_id            int64\n",
       "fit                  object\n",
       "color                object\n",
       "product_name         object\n",
       "product_price       float64\n",
       "style_id              int64\n",
       "color_id              int64\n",
       "scrape_datetime      object\n",
       "cotton              float64\n",
       "polyester           float64\n",
       "spandex             float64\n",
       "lyocell             float64\n",
       "rayon               float64\n",
       "elastomultiester    float64\n",
       "model_size          float64\n",
       "jeans_size           object\n",
       "dtype: object"
      ]
     },
     "execution_count": 5,
     "metadata": {},
     "output_type": "execute_result"
    }
   ],
   "source": [
    "df01.dtypes"
   ]
  },
  {
   "cell_type": "code",
   "execution_count": 6,
   "id": "3afa9fc5",
   "metadata": {},
   "outputs": [],
   "source": [
    "df01 = df01.drop(columns=['Unnamed: 0']).reset_index(drop=True)"
   ]
  },
  {
   "cell_type": "code",
   "execution_count": 7,
   "id": "328f813a",
   "metadata": {},
   "outputs": [],
   "source": [
    "df01['scrape_datetime'] = pd.to_datetime(df01['scrape_datetime']) "
   ]
  },
  {
   "cell_type": "code",
   "execution_count": 8,
   "id": "d5db361f",
   "metadata": {},
   "outputs": [
    {
     "data": {
      "text/plain": [
       "product_id                   int64\n",
       "fit                         object\n",
       "color                       object\n",
       "product_name                object\n",
       "product_price              float64\n",
       "style_id                     int64\n",
       "color_id                     int64\n",
       "scrape_datetime     datetime64[ns]\n",
       "cotton                     float64\n",
       "polyester                  float64\n",
       "spandex                    float64\n",
       "lyocell                    float64\n",
       "rayon                      float64\n",
       "elastomultiester           float64\n",
       "model_size                 float64\n",
       "jeans_size                  object\n",
       "dtype: object"
      ]
     },
     "execution_count": 8,
     "metadata": {},
     "output_type": "execute_result"
    }
   ],
   "source": [
    "df01.dtypes"
   ]
  },
  {
   "cell_type": "markdown",
   "id": "cd395917",
   "metadata": {},
   "source": [
    "## 1.3 Missing values"
   ]
  },
  {
   "cell_type": "code",
   "execution_count": 9,
   "id": "5a478812",
   "metadata": {},
   "outputs": [
    {
     "data": {
      "text/html": [
       "<div>\n",
       "<style scoped>\n",
       "    .dataframe tbody tr th:only-of-type {\n",
       "        vertical-align: middle;\n",
       "    }\n",
       "\n",
       "    .dataframe tbody tr th {\n",
       "        vertical-align: top;\n",
       "    }\n",
       "\n",
       "    .dataframe thead th {\n",
       "        text-align: right;\n",
       "    }\n",
       "</style>\n",
       "<table border=\"1\" class=\"dataframe\">\n",
       "  <thead>\n",
       "    <tr style=\"text-align: right;\">\n",
       "      <th></th>\n",
       "      <th>product_id</th>\n",
       "      <th>fit</th>\n",
       "      <th>color</th>\n",
       "      <th>product_name</th>\n",
       "      <th>product_price</th>\n",
       "      <th>style_id</th>\n",
       "      <th>color_id</th>\n",
       "      <th>scrape_datetime</th>\n",
       "      <th>cotton</th>\n",
       "      <th>polyester</th>\n",
       "      <th>spandex</th>\n",
       "      <th>lyocell</th>\n",
       "      <th>rayon</th>\n",
       "      <th>elastomultiester</th>\n",
       "      <th>model_size</th>\n",
       "      <th>jeans_size</th>\n",
       "    </tr>\n",
       "  </thead>\n",
       "  <tbody>\n",
       "    <tr>\n",
       "      <th>0</th>\n",
       "      <td>False</td>\n",
       "      <td>False</td>\n",
       "      <td>False</td>\n",
       "      <td>False</td>\n",
       "      <td>False</td>\n",
       "      <td>False</td>\n",
       "      <td>False</td>\n",
       "      <td>False</td>\n",
       "      <td>False</td>\n",
       "      <td>False</td>\n",
       "      <td>False</td>\n",
       "      <td>False</td>\n",
       "      <td>False</td>\n",
       "      <td>False</td>\n",
       "      <td>False</td>\n",
       "      <td>False</td>\n",
       "    </tr>\n",
       "    <tr>\n",
       "      <th>1</th>\n",
       "      <td>False</td>\n",
       "      <td>False</td>\n",
       "      <td>False</td>\n",
       "      <td>True</td>\n",
       "      <td>True</td>\n",
       "      <td>False</td>\n",
       "      <td>False</td>\n",
       "      <td>False</td>\n",
       "      <td>False</td>\n",
       "      <td>False</td>\n",
       "      <td>False</td>\n",
       "      <td>False</td>\n",
       "      <td>False</td>\n",
       "      <td>False</td>\n",
       "      <td>False</td>\n",
       "      <td>False</td>\n",
       "    </tr>\n",
       "    <tr>\n",
       "      <th>2</th>\n",
       "      <td>False</td>\n",
       "      <td>False</td>\n",
       "      <td>False</td>\n",
       "      <td>False</td>\n",
       "      <td>False</td>\n",
       "      <td>False</td>\n",
       "      <td>False</td>\n",
       "      <td>False</td>\n",
       "      <td>False</td>\n",
       "      <td>False</td>\n",
       "      <td>False</td>\n",
       "      <td>False</td>\n",
       "      <td>False</td>\n",
       "      <td>False</td>\n",
       "      <td>False</td>\n",
       "      <td>False</td>\n",
       "    </tr>\n",
       "    <tr>\n",
       "      <th>3</th>\n",
       "      <td>False</td>\n",
       "      <td>False</td>\n",
       "      <td>False</td>\n",
       "      <td>True</td>\n",
       "      <td>True</td>\n",
       "      <td>False</td>\n",
       "      <td>False</td>\n",
       "      <td>False</td>\n",
       "      <td>False</td>\n",
       "      <td>False</td>\n",
       "      <td>False</td>\n",
       "      <td>False</td>\n",
       "      <td>False</td>\n",
       "      <td>False</td>\n",
       "      <td>False</td>\n",
       "      <td>False</td>\n",
       "    </tr>\n",
       "    <tr>\n",
       "      <th>4</th>\n",
       "      <td>False</td>\n",
       "      <td>False</td>\n",
       "      <td>False</td>\n",
       "      <td>False</td>\n",
       "      <td>False</td>\n",
       "      <td>False</td>\n",
       "      <td>False</td>\n",
       "      <td>False</td>\n",
       "      <td>False</td>\n",
       "      <td>False</td>\n",
       "      <td>False</td>\n",
       "      <td>False</td>\n",
       "      <td>False</td>\n",
       "      <td>False</td>\n",
       "      <td>False</td>\n",
       "      <td>False</td>\n",
       "    </tr>\n",
       "    <tr>\n",
       "      <th>...</th>\n",
       "      <td>...</td>\n",
       "      <td>...</td>\n",
       "      <td>...</td>\n",
       "      <td>...</td>\n",
       "      <td>...</td>\n",
       "      <td>...</td>\n",
       "      <td>...</td>\n",
       "      <td>...</td>\n",
       "      <td>...</td>\n",
       "      <td>...</td>\n",
       "      <td>...</td>\n",
       "      <td>...</td>\n",
       "      <td>...</td>\n",
       "      <td>...</td>\n",
       "      <td>...</td>\n",
       "      <td>...</td>\n",
       "    </tr>\n",
       "    <tr>\n",
       "      <th>123</th>\n",
       "      <td>False</td>\n",
       "      <td>False</td>\n",
       "      <td>False</td>\n",
       "      <td>False</td>\n",
       "      <td>False</td>\n",
       "      <td>False</td>\n",
       "      <td>False</td>\n",
       "      <td>False</td>\n",
       "      <td>False</td>\n",
       "      <td>False</td>\n",
       "      <td>False</td>\n",
       "      <td>False</td>\n",
       "      <td>False</td>\n",
       "      <td>False</td>\n",
       "      <td>True</td>\n",
       "      <td>True</td>\n",
       "    </tr>\n",
       "    <tr>\n",
       "      <th>124</th>\n",
       "      <td>False</td>\n",
       "      <td>False</td>\n",
       "      <td>False</td>\n",
       "      <td>True</td>\n",
       "      <td>True</td>\n",
       "      <td>False</td>\n",
       "      <td>False</td>\n",
       "      <td>False</td>\n",
       "      <td>False</td>\n",
       "      <td>False</td>\n",
       "      <td>False</td>\n",
       "      <td>False</td>\n",
       "      <td>False</td>\n",
       "      <td>False</td>\n",
       "      <td>True</td>\n",
       "      <td>True</td>\n",
       "    </tr>\n",
       "    <tr>\n",
       "      <th>125</th>\n",
       "      <td>False</td>\n",
       "      <td>False</td>\n",
       "      <td>False</td>\n",
       "      <td>False</td>\n",
       "      <td>False</td>\n",
       "      <td>False</td>\n",
       "      <td>False</td>\n",
       "      <td>False</td>\n",
       "      <td>False</td>\n",
       "      <td>False</td>\n",
       "      <td>False</td>\n",
       "      <td>False</td>\n",
       "      <td>False</td>\n",
       "      <td>False</td>\n",
       "      <td>False</td>\n",
       "      <td>False</td>\n",
       "    </tr>\n",
       "    <tr>\n",
       "      <th>126</th>\n",
       "      <td>False</td>\n",
       "      <td>False</td>\n",
       "      <td>False</td>\n",
       "      <td>False</td>\n",
       "      <td>False</td>\n",
       "      <td>False</td>\n",
       "      <td>False</td>\n",
       "      <td>False</td>\n",
       "      <td>False</td>\n",
       "      <td>False</td>\n",
       "      <td>False</td>\n",
       "      <td>False</td>\n",
       "      <td>False</td>\n",
       "      <td>False</td>\n",
       "      <td>False</td>\n",
       "      <td>False</td>\n",
       "    </tr>\n",
       "    <tr>\n",
       "      <th>127</th>\n",
       "      <td>False</td>\n",
       "      <td>False</td>\n",
       "      <td>False</td>\n",
       "      <td>True</td>\n",
       "      <td>True</td>\n",
       "      <td>False</td>\n",
       "      <td>False</td>\n",
       "      <td>False</td>\n",
       "      <td>False</td>\n",
       "      <td>False</td>\n",
       "      <td>False</td>\n",
       "      <td>False</td>\n",
       "      <td>False</td>\n",
       "      <td>False</td>\n",
       "      <td>False</td>\n",
       "      <td>False</td>\n",
       "    </tr>\n",
       "  </tbody>\n",
       "</table>\n",
       "<p>128 rows × 16 columns</p>\n",
       "</div>"
      ],
      "text/plain": [
       "     product_id    fit  color  product_name  product_price  style_id  \\\n",
       "0         False  False  False         False          False     False   \n",
       "1         False  False  False          True           True     False   \n",
       "2         False  False  False         False          False     False   \n",
       "3         False  False  False          True           True     False   \n",
       "4         False  False  False         False          False     False   \n",
       "..          ...    ...    ...           ...            ...       ...   \n",
       "123       False  False  False         False          False     False   \n",
       "124       False  False  False          True           True     False   \n",
       "125       False  False  False         False          False     False   \n",
       "126       False  False  False         False          False     False   \n",
       "127       False  False  False          True           True     False   \n",
       "\n",
       "     color_id  scrape_datetime  cotton  polyester  spandex  lyocell  rayon  \\\n",
       "0       False            False   False      False    False    False  False   \n",
       "1       False            False   False      False    False    False  False   \n",
       "2       False            False   False      False    False    False  False   \n",
       "3       False            False   False      False    False    False  False   \n",
       "4       False            False   False      False    False    False  False   \n",
       "..        ...              ...     ...        ...      ...      ...    ...   \n",
       "123     False            False   False      False    False    False  False   \n",
       "124     False            False   False      False    False    False  False   \n",
       "125     False            False   False      False    False    False  False   \n",
       "126     False            False   False      False    False    False  False   \n",
       "127     False            False   False      False    False    False  False   \n",
       "\n",
       "     elastomultiester  model_size  jeans_size  \n",
       "0               False       False       False  \n",
       "1               False       False       False  \n",
       "2               False       False       False  \n",
       "3               False       False       False  \n",
       "4               False       False       False  \n",
       "..                ...         ...         ...  \n",
       "123             False        True        True  \n",
       "124             False        True        True  \n",
       "125             False       False       False  \n",
       "126             False       False       False  \n",
       "127             False       False       False  \n",
       "\n",
       "[128 rows x 16 columns]"
      ]
     },
     "execution_count": 9,
     "metadata": {},
     "output_type": "execute_result"
    }
   ],
   "source": [
    "df01.isna()"
   ]
  },
  {
   "cell_type": "code",
   "execution_count": 10,
   "id": "b5f0e779",
   "metadata": {},
   "outputs": [
    {
     "data": {
      "text/plain": [
       "product_id           0\n",
       "fit                  0\n",
       "color                0\n",
       "product_name        56\n",
       "product_price       56\n",
       "style_id             0\n",
       "color_id             0\n",
       "scrape_datetime      0\n",
       "cotton               0\n",
       "polyester            0\n",
       "spandex              0\n",
       "lyocell              0\n",
       "rayon                0\n",
       "elastomultiester     0\n",
       "model_size          39\n",
       "jeans_size          45\n",
       "dtype: int64"
      ]
     },
     "execution_count": 10,
     "metadata": {},
     "output_type": "execute_result"
    }
   ],
   "source": [
    "df01.isna().sum()"
   ]
  },
  {
   "cell_type": "code",
   "execution_count": 11,
   "id": "98c8e289",
   "metadata": {},
   "outputs": [
    {
     "data": {
      "text/plain": [
       "product_id          0.000000\n",
       "fit                 0.000000\n",
       "color               0.000000\n",
       "product_name        0.437500\n",
       "product_price       0.437500\n",
       "style_id            0.000000\n",
       "color_id            0.000000\n",
       "scrape_datetime     0.000000\n",
       "cotton              0.000000\n",
       "polyester           0.000000\n",
       "spandex             0.000000\n",
       "lyocell             0.000000\n",
       "rayon               0.000000\n",
       "elastomultiester    0.000000\n",
       "model_size          0.304688\n",
       "jeans_size          0.351562\n",
       "dtype: float64"
      ]
     },
     "execution_count": 11,
     "metadata": {},
     "output_type": "execute_result"
    }
   ],
   "source": [
    "df01.isna().sum()/df01.shape[0]"
   ]
  },
  {
   "cell_type": "code",
   "execution_count": 12,
   "id": "8831dae7",
   "metadata": {},
   "outputs": [
    {
     "data": {
      "text/plain": [
       "(44, 16)"
      ]
     },
     "execution_count": 12,
     "metadata": {},
     "output_type": "execute_result"
    }
   ],
   "source": [
    "df_aux01 = df01.dropna()\n",
    "df_aux01.shape"
   ]
  },
  {
   "cell_type": "markdown",
   "id": "0a45f433",
   "metadata": {},
   "source": [
    "Deletar os valores faltantes resultaria em um impacto muito grande no dataframe. Como o HTML do site da H&M muda diariamente, também não seria viável coletar mais dados automaticamente todos os dias. \n",
    "\n",
    "A solução que proponho é não utilizar a coluna de product_name, model_size e jeans_size. Para product_price, verificar o agrupamento de preço por product_id e se não variar muito atribuir os valores de preço para os valores faltantes dentro do mesmo product_id.\n",
    "\n"
   ]
  },
  {
   "cell_type": "markdown",
   "id": "dc13972c",
   "metadata": {},
   "source": [
    "## 1.4 Missing values replacement"
   ]
  },
  {
   "cell_type": "code",
   "execution_count": 13,
   "id": "9771435b",
   "metadata": {},
   "outputs": [
    {
     "data": {
      "text/html": [
       "<div>\n",
       "<style scoped>\n",
       "    .dataframe tbody tr th:only-of-type {\n",
       "        vertical-align: middle;\n",
       "    }\n",
       "\n",
       "    .dataframe tbody tr th {\n",
       "        vertical-align: top;\n",
       "    }\n",
       "\n",
       "    .dataframe thead th {\n",
       "        text-align: right;\n",
       "    }\n",
       "</style>\n",
       "<table border=\"1\" class=\"dataframe\">\n",
       "  <thead>\n",
       "    <tr style=\"text-align: right;\">\n",
       "      <th></th>\n",
       "      <th>product_id</th>\n",
       "      <th>product_price</th>\n",
       "    </tr>\n",
       "  </thead>\n",
       "  <tbody>\n",
       "    <tr>\n",
       "      <th>35</th>\n",
       "      <td>690449022</td>\n",
       "      <td>NaN</td>\n",
       "    </tr>\n",
       "    <tr>\n",
       "      <th>34</th>\n",
       "      <td>690449022</td>\n",
       "      <td>39.99</td>\n",
       "    </tr>\n",
       "    <tr>\n",
       "      <th>25</th>\n",
       "      <td>690449036</td>\n",
       "      <td>39.99</td>\n",
       "    </tr>\n",
       "    <tr>\n",
       "      <th>50</th>\n",
       "      <td>690449051</td>\n",
       "      <td>39.99</td>\n",
       "    </tr>\n",
       "    <tr>\n",
       "      <th>63</th>\n",
       "      <td>690449056</td>\n",
       "      <td>39.99</td>\n",
       "    </tr>\n",
       "    <tr>\n",
       "      <th>...</th>\n",
       "      <td>...</td>\n",
       "      <td>...</td>\n",
       "    </tr>\n",
       "    <tr>\n",
       "      <th>1</th>\n",
       "      <td>1100162003</td>\n",
       "      <td>NaN</td>\n",
       "    </tr>\n",
       "    <tr>\n",
       "      <th>90</th>\n",
       "      <td>1107750001</td>\n",
       "      <td>44.99</td>\n",
       "    </tr>\n",
       "    <tr>\n",
       "      <th>91</th>\n",
       "      <td>1107750001</td>\n",
       "      <td>NaN</td>\n",
       "    </tr>\n",
       "    <tr>\n",
       "      <th>126</th>\n",
       "      <td>1114023003</td>\n",
       "      <td>44.99</td>\n",
       "    </tr>\n",
       "    <tr>\n",
       "      <th>127</th>\n",
       "      <td>1114023003</td>\n",
       "      <td>NaN</td>\n",
       "    </tr>\n",
       "  </tbody>\n",
       "</table>\n",
       "<p>128 rows × 2 columns</p>\n",
       "</div>"
      ],
      "text/plain": [
       "     product_id  product_price\n",
       "35    690449022            NaN\n",
       "34    690449022          39.99\n",
       "25    690449036          39.99\n",
       "50    690449051          39.99\n",
       "63    690449056          39.99\n",
       "..          ...            ...\n",
       "1    1100162003            NaN\n",
       "90   1107750001          44.99\n",
       "91   1107750001            NaN\n",
       "126  1114023003          44.99\n",
       "127  1114023003            NaN\n",
       "\n",
       "[128 rows x 2 columns]"
      ]
     },
     "execution_count": 13,
     "metadata": {},
     "output_type": "execute_result"
    }
   ],
   "source": [
    "df01[['product_id', 'product_price']].sort_values('product_id', ascending=True).groupby('product_id').head()"
   ]
  },
  {
   "cell_type": "code",
   "execution_count": 14,
   "id": "db2e9018",
   "metadata": {},
   "outputs": [],
   "source": [
    "for i in range(len(df01)):\n",
    "    if df01.loc[i, 'product_price'] > 0:\n",
    "        df01.loc[i, 'product_price'] = df01.loc[i, 'product_price']\n",
    "    \n",
    "    else:\n",
    "        df01.loc[i, 'product_price'] = 0"
   ]
  },
  {
   "cell_type": "code",
   "execution_count": 15,
   "id": "3384b9b4",
   "metadata": {},
   "outputs": [],
   "source": [
    "df_aux = df01[['product_id', 'product_price']].groupby('product_id').max().reset_index()   "
   ]
  },
  {
   "cell_type": "code",
   "execution_count": 16,
   "id": "d6cced12",
   "metadata": {},
   "outputs": [],
   "source": [
    "df02 = pd.merge(df01, df_aux, on='product_id', how='left')"
   ]
  },
  {
   "cell_type": "code",
   "execution_count": 17,
   "id": "c61a6c16",
   "metadata": {},
   "outputs": [],
   "source": [
    "df02 = df02.drop(columns=['product_price_x'])\n",
    "df02.rename(columns={'product_price_y':'product_price'}, inplace=True)"
   ]
  },
  {
   "cell_type": "code",
   "execution_count": 18,
   "id": "81c26a56",
   "metadata": {},
   "outputs": [
    {
     "data": {
      "text/html": [
       "<div>\n",
       "<style scoped>\n",
       "    .dataframe tbody tr th:only-of-type {\n",
       "        vertical-align: middle;\n",
       "    }\n",
       "\n",
       "    .dataframe tbody tr th {\n",
       "        vertical-align: top;\n",
       "    }\n",
       "\n",
       "    .dataframe thead th {\n",
       "        text-align: right;\n",
       "    }\n",
       "</style>\n",
       "<table border=\"1\" class=\"dataframe\">\n",
       "  <thead>\n",
       "    <tr style=\"text-align: right;\">\n",
       "      <th></th>\n",
       "      <th>product_id</th>\n",
       "      <th>fit</th>\n",
       "      <th>color</th>\n",
       "      <th>product_name</th>\n",
       "      <th>style_id</th>\n",
       "      <th>color_id</th>\n",
       "      <th>scrape_datetime</th>\n",
       "      <th>cotton</th>\n",
       "      <th>polyester</th>\n",
       "      <th>spandex</th>\n",
       "      <th>lyocell</th>\n",
       "      <th>rayon</th>\n",
       "      <th>elastomultiester</th>\n",
       "      <th>model_size</th>\n",
       "      <th>jeans_size</th>\n",
       "      <th>product_price</th>\n",
       "    </tr>\n",
       "  </thead>\n",
       "  <tbody>\n",
       "    <tr>\n",
       "      <th>0</th>\n",
       "      <td>1100162003</td>\n",
       "      <td>regular_fit</td>\n",
       "      <td>denim_gray</td>\n",
       "      <td>essentials_no_2_the_jeans</td>\n",
       "      <td>1100162</td>\n",
       "      <td>3</td>\n",
       "      <td>2022-11-07 11:20:15</td>\n",
       "      <td>0.99</td>\n",
       "      <td>0.65</td>\n",
       "      <td>0.01</td>\n",
       "      <td>0.0</td>\n",
       "      <td>0.0</td>\n",
       "      <td>0.0</td>\n",
       "      <td>187.0</td>\n",
       "      <td>31/32</td>\n",
       "      <td>39.99</td>\n",
       "    </tr>\n",
       "    <tr>\n",
       "      <th>1</th>\n",
       "      <td>1100162003</td>\n",
       "      <td>regular_fit</td>\n",
       "      <td>denim_gray</td>\n",
       "      <td>NaN</td>\n",
       "      <td>1100162</td>\n",
       "      <td>3</td>\n",
       "      <td>2022-11-07 11:20:15</td>\n",
       "      <td>0.99</td>\n",
       "      <td>0.65</td>\n",
       "      <td>0.01</td>\n",
       "      <td>0.0</td>\n",
       "      <td>0.0</td>\n",
       "      <td>0.0</td>\n",
       "      <td>187.0</td>\n",
       "      <td>31/32</td>\n",
       "      <td>39.99</td>\n",
       "    </tr>\n",
       "    <tr>\n",
       "      <th>2</th>\n",
       "      <td>1100162002</td>\n",
       "      <td>regular_fit</td>\n",
       "      <td>denim_blue</td>\n",
       "      <td>essentials_no_2_the_jeans</td>\n",
       "      <td>1100162</td>\n",
       "      <td>2</td>\n",
       "      <td>2022-11-07 11:20:15</td>\n",
       "      <td>0.99</td>\n",
       "      <td>0.65</td>\n",
       "      <td>0.01</td>\n",
       "      <td>0.0</td>\n",
       "      <td>0.0</td>\n",
       "      <td>0.0</td>\n",
       "      <td>189.0</td>\n",
       "      <td>31/32</td>\n",
       "      <td>39.99</td>\n",
       "    </tr>\n",
       "    <tr>\n",
       "      <th>3</th>\n",
       "      <td>1100162002</td>\n",
       "      <td>regular_fit</td>\n",
       "      <td>denim_blue</td>\n",
       "      <td>NaN</td>\n",
       "      <td>1100162</td>\n",
       "      <td>2</td>\n",
       "      <td>2022-11-07 11:20:15</td>\n",
       "      <td>0.99</td>\n",
       "      <td>0.65</td>\n",
       "      <td>0.01</td>\n",
       "      <td>0.0</td>\n",
       "      <td>0.0</td>\n",
       "      <td>0.0</td>\n",
       "      <td>189.0</td>\n",
       "      <td>31/32</td>\n",
       "      <td>39.99</td>\n",
       "    </tr>\n",
       "    <tr>\n",
       "      <th>4</th>\n",
       "      <td>1024256001</td>\n",
       "      <td>slim_fit</td>\n",
       "      <td>black</td>\n",
       "      <td>slim_jeans</td>\n",
       "      <td>1024256</td>\n",
       "      <td>1</td>\n",
       "      <td>2022-11-07 11:20:15</td>\n",
       "      <td>0.99</td>\n",
       "      <td>0.65</td>\n",
       "      <td>0.01</td>\n",
       "      <td>0.0</td>\n",
       "      <td>0.0</td>\n",
       "      <td>0.0</td>\n",
       "      <td>185.0</td>\n",
       "      <td>31/32</td>\n",
       "      <td>19.99</td>\n",
       "    </tr>\n",
       "  </tbody>\n",
       "</table>\n",
       "</div>"
      ],
      "text/plain": [
       "   product_id          fit       color               product_name  style_id  \\\n",
       "0  1100162003  regular_fit  denim_gray  essentials_no_2_the_jeans   1100162   \n",
       "1  1100162003  regular_fit  denim_gray                        NaN   1100162   \n",
       "2  1100162002  regular_fit  denim_blue  essentials_no_2_the_jeans   1100162   \n",
       "3  1100162002  regular_fit  denim_blue                        NaN   1100162   \n",
       "4  1024256001     slim_fit       black                 slim_jeans   1024256   \n",
       "\n",
       "   color_id     scrape_datetime  cotton  polyester  spandex  lyocell  rayon  \\\n",
       "0         3 2022-11-07 11:20:15    0.99       0.65     0.01      0.0    0.0   \n",
       "1         3 2022-11-07 11:20:15    0.99       0.65     0.01      0.0    0.0   \n",
       "2         2 2022-11-07 11:20:15    0.99       0.65     0.01      0.0    0.0   \n",
       "3         2 2022-11-07 11:20:15    0.99       0.65     0.01      0.0    0.0   \n",
       "4         1 2022-11-07 11:20:15    0.99       0.65     0.01      0.0    0.0   \n",
       "\n",
       "   elastomultiester  model_size jeans_size  product_price  \n",
       "0               0.0       187.0      31/32          39.99  \n",
       "1               0.0       187.0      31/32          39.99  \n",
       "2               0.0       189.0      31/32          39.99  \n",
       "3               0.0       189.0      31/32          39.99  \n",
       "4               0.0       185.0      31/32          19.99  "
      ]
     },
     "execution_count": 18,
     "metadata": {},
     "output_type": "execute_result"
    }
   ],
   "source": [
    "df02.head()"
   ]
  },
  {
   "cell_type": "code",
   "execution_count": 19,
   "id": "29415815",
   "metadata": {},
   "outputs": [],
   "source": [
    "df02 = df02.drop(columns=['product_name', 'model_size', 'jeans_size'])"
   ]
  },
  {
   "cell_type": "code",
   "execution_count": 20,
   "id": "1ab9f791",
   "metadata": {},
   "outputs": [
    {
     "data": {
      "text/plain": [
       "product_id          0\n",
       "fit                 0\n",
       "color               0\n",
       "style_id            0\n",
       "color_id            0\n",
       "scrape_datetime     0\n",
       "cotton              0\n",
       "polyester           0\n",
       "spandex             0\n",
       "lyocell             0\n",
       "rayon               0\n",
       "elastomultiester    0\n",
       "product_price       0\n",
       "dtype: int64"
      ]
     },
     "execution_count": 20,
     "metadata": {},
     "output_type": "execute_result"
    }
   ],
   "source": [
    "df02.isna().sum()"
   ]
  },
  {
   "cell_type": "markdown",
   "id": "69ea38c2",
   "metadata": {},
   "source": [
    "## 1.5 Data description"
   ]
  },
  {
   "cell_type": "markdown",
   "id": "6151d82f",
   "metadata": {},
   "source": [
    "### 1.5.1 Numerical data"
   ]
  },
  {
   "cell_type": "code",
   "execution_count": 21,
   "id": "6addb784",
   "metadata": {},
   "outputs": [],
   "source": [
    "numerical_attributes = df02.select_dtypes(include=['float64']) "
   ]
  },
  {
   "cell_type": "code",
   "execution_count": 22,
   "id": "f0e8cfa2",
   "metadata": {},
   "outputs": [
    {
     "data": {
      "text/html": [
       "<div>\n",
       "<style scoped>\n",
       "    .dataframe tbody tr th:only-of-type {\n",
       "        vertical-align: middle;\n",
       "    }\n",
       "\n",
       "    .dataframe tbody tr th {\n",
       "        vertical-align: top;\n",
       "    }\n",
       "\n",
       "    .dataframe thead th {\n",
       "        text-align: right;\n",
       "    }\n",
       "</style>\n",
       "<table border=\"1\" class=\"dataframe\">\n",
       "  <thead>\n",
       "    <tr style=\"text-align: right;\">\n",
       "      <th></th>\n",
       "      <th>cotton</th>\n",
       "      <th>polyester</th>\n",
       "      <th>spandex</th>\n",
       "      <th>lyocell</th>\n",
       "      <th>rayon</th>\n",
       "      <th>elastomultiester</th>\n",
       "      <th>product_price</th>\n",
       "    </tr>\n",
       "  </thead>\n",
       "  <tbody>\n",
       "    <tr>\n",
       "      <th>0</th>\n",
       "      <td>0.99</td>\n",
       "      <td>0.65</td>\n",
       "      <td>0.01</td>\n",
       "      <td>0.0</td>\n",
       "      <td>0.0</td>\n",
       "      <td>0.0</td>\n",
       "      <td>39.99</td>\n",
       "    </tr>\n",
       "    <tr>\n",
       "      <th>1</th>\n",
       "      <td>0.99</td>\n",
       "      <td>0.65</td>\n",
       "      <td>0.01</td>\n",
       "      <td>0.0</td>\n",
       "      <td>0.0</td>\n",
       "      <td>0.0</td>\n",
       "      <td>39.99</td>\n",
       "    </tr>\n",
       "    <tr>\n",
       "      <th>2</th>\n",
       "      <td>0.99</td>\n",
       "      <td>0.65</td>\n",
       "      <td>0.01</td>\n",
       "      <td>0.0</td>\n",
       "      <td>0.0</td>\n",
       "      <td>0.0</td>\n",
       "      <td>39.99</td>\n",
       "    </tr>\n",
       "    <tr>\n",
       "      <th>3</th>\n",
       "      <td>0.99</td>\n",
       "      <td>0.65</td>\n",
       "      <td>0.01</td>\n",
       "      <td>0.0</td>\n",
       "      <td>0.0</td>\n",
       "      <td>0.0</td>\n",
       "      <td>39.99</td>\n",
       "    </tr>\n",
       "    <tr>\n",
       "      <th>4</th>\n",
       "      <td>0.99</td>\n",
       "      <td>0.65</td>\n",
       "      <td>0.01</td>\n",
       "      <td>0.0</td>\n",
       "      <td>0.0</td>\n",
       "      <td>0.0</td>\n",
       "      <td>19.99</td>\n",
       "    </tr>\n",
       "  </tbody>\n",
       "</table>\n",
       "</div>"
      ],
      "text/plain": [
       "   cotton  polyester  spandex  lyocell  rayon  elastomultiester  product_price\n",
       "0    0.99       0.65     0.01      0.0    0.0               0.0          39.99\n",
       "1    0.99       0.65     0.01      0.0    0.0               0.0          39.99\n",
       "2    0.99       0.65     0.01      0.0    0.0               0.0          39.99\n",
       "3    0.99       0.65     0.01      0.0    0.0               0.0          39.99\n",
       "4    0.99       0.65     0.01      0.0    0.0               0.0          19.99"
      ]
     },
     "execution_count": 22,
     "metadata": {},
     "output_type": "execute_result"
    }
   ],
   "source": [
    "numerical_attributes.head()"
   ]
  },
  {
   "cell_type": "code",
   "execution_count": 23,
   "id": "5c4d2238",
   "metadata": {},
   "outputs": [
    {
     "data": {
      "text/plain": [
       "cotton               0.979297\n",
       "polyester            0.448672\n",
       "spandex              0.008906\n",
       "lyocell              0.017188\n",
       "rayon                0.004687\n",
       "elastomultiester     0.005312\n",
       "product_price       34.325937\n",
       "dtype: float64"
      ]
     },
     "execution_count": 23,
     "metadata": {},
     "output_type": "execute_result"
    }
   ],
   "source": [
    "# central tendency - mean, median\n",
    "numerical_attributes.apply( np.mean )"
   ]
  },
  {
   "cell_type": "code",
   "execution_count": 24,
   "id": "1340da47",
   "metadata": {},
   "outputs": [
    {
     "data": {
      "text/plain": [
       "pandas.core.series.Series"
      ]
     },
     "execution_count": 24,
     "metadata": {},
     "output_type": "execute_result"
    }
   ],
   "source": [
    "type(numerical_attributes.apply( np.mean ))"
   ]
  },
  {
   "cell_type": "code",
   "execution_count": 25,
   "id": "3756b473",
   "metadata": {},
   "outputs": [
    {
     "data": {
      "text/html": [
       "<div>\n",
       "<style scoped>\n",
       "    .dataframe tbody tr th:only-of-type {\n",
       "        vertical-align: middle;\n",
       "    }\n",
       "\n",
       "    .dataframe tbody tr th {\n",
       "        vertical-align: top;\n",
       "    }\n",
       "\n",
       "    .dataframe thead th {\n",
       "        text-align: right;\n",
       "    }\n",
       "</style>\n",
       "<table border=\"1\" class=\"dataframe\">\n",
       "  <thead>\n",
       "    <tr style=\"text-align: right;\">\n",
       "      <th></th>\n",
       "      <th>cotton</th>\n",
       "      <th>polyester</th>\n",
       "      <th>spandex</th>\n",
       "      <th>lyocell</th>\n",
       "      <th>rayon</th>\n",
       "      <th>elastomultiester</th>\n",
       "      <th>product_price</th>\n",
       "    </tr>\n",
       "  </thead>\n",
       "  <tbody>\n",
       "    <tr>\n",
       "      <th>0</th>\n",
       "      <td>0.979297</td>\n",
       "      <td>0.448672</td>\n",
       "      <td>0.008906</td>\n",
       "      <td>0.017188</td>\n",
       "      <td>0.004687</td>\n",
       "      <td>0.005312</td>\n",
       "      <td>34.325937</td>\n",
       "    </tr>\n",
       "  </tbody>\n",
       "</table>\n",
       "</div>"
      ],
      "text/plain": [
       "     cotton  polyester   spandex   lyocell     rayon  elastomultiester  \\\n",
       "0  0.979297   0.448672  0.008906  0.017188  0.004687          0.005312   \n",
       "\n",
       "   product_price  \n",
       "0      34.325937  "
      ]
     },
     "execution_count": 25,
     "metadata": {},
     "output_type": "execute_result"
    }
   ],
   "source": [
    "pd.DataFrame(numerical_attributes.apply( np.mean )).T"
   ]
  },
  {
   "cell_type": "code",
   "execution_count": 26,
   "id": "ca3d32f6",
   "metadata": {},
   "outputs": [
    {
     "data": {
      "text/plain": [
       "cotton               0.995\n",
       "polyester            0.650\n",
       "spandex              0.010\n",
       "lyocell              0.000\n",
       "rayon                0.000\n",
       "elastomultiester     0.000\n",
       "product_price       39.990\n",
       "dtype: float64"
      ]
     },
     "execution_count": 26,
     "metadata": {},
     "output_type": "execute_result"
    }
   ],
   "source": [
    "# central tendency - mean, median\n",
    "numerical_attributes.apply( np.median )"
   ]
  },
  {
   "cell_type": "code",
   "execution_count": 27,
   "id": "c16d6883",
   "metadata": {},
   "outputs": [
    {
     "data": {
      "text/html": [
       "<div>\n",
       "<style scoped>\n",
       "    .dataframe tbody tr th:only-of-type {\n",
       "        vertical-align: middle;\n",
       "    }\n",
       "\n",
       "    .dataframe tbody tr th {\n",
       "        vertical-align: top;\n",
       "    }\n",
       "\n",
       "    .dataframe thead th {\n",
       "        text-align: right;\n",
       "    }\n",
       "</style>\n",
       "<table border=\"1\" class=\"dataframe\">\n",
       "  <thead>\n",
       "    <tr style=\"text-align: right;\">\n",
       "      <th></th>\n",
       "      <th>cotton</th>\n",
       "      <th>polyester</th>\n",
       "      <th>spandex</th>\n",
       "      <th>lyocell</th>\n",
       "      <th>rayon</th>\n",
       "      <th>elastomultiester</th>\n",
       "      <th>product_price</th>\n",
       "    </tr>\n",
       "  </thead>\n",
       "  <tbody>\n",
       "    <tr>\n",
       "      <th>0</th>\n",
       "      <td>0.995</td>\n",
       "      <td>0.65</td>\n",
       "      <td>0.01</td>\n",
       "      <td>0.0</td>\n",
       "      <td>0.0</td>\n",
       "      <td>0.0</td>\n",
       "      <td>39.99</td>\n",
       "    </tr>\n",
       "  </tbody>\n",
       "</table>\n",
       "</div>"
      ],
      "text/plain": [
       "   cotton  polyester  spandex  lyocell  rayon  elastomultiester  product_price\n",
       "0   0.995       0.65     0.01      0.0    0.0               0.0          39.99"
      ]
     },
     "execution_count": 27,
     "metadata": {},
     "output_type": "execute_result"
    }
   ],
   "source": [
    "pd.DataFrame(numerical_attributes.apply( np.median )).T"
   ]
  },
  {
   "cell_type": "code",
   "execution_count": 28,
   "id": "476db9e6",
   "metadata": {},
   "outputs": [],
   "source": [
    "# dispersion - std, min, max, range, skew, kurtosis\n",
    "# skew: simetria da distribuicao dos dados em relacao a normal\n",
    "# kurtosis: cauda longa da distribuicao"
   ]
  },
  {
   "cell_type": "code",
   "execution_count": 29,
   "id": "9c7e8d27",
   "metadata": {},
   "outputs": [
    {
     "data": {
      "text/html": [
       "<div>\n",
       "<style scoped>\n",
       "    .dataframe tbody tr th:only-of-type {\n",
       "        vertical-align: middle;\n",
       "    }\n",
       "\n",
       "    .dataframe tbody tr th {\n",
       "        vertical-align: top;\n",
       "    }\n",
       "\n",
       "    .dataframe thead th {\n",
       "        text-align: right;\n",
       "    }\n",
       "</style>\n",
       "<table border=\"1\" class=\"dataframe\">\n",
       "  <thead>\n",
       "    <tr style=\"text-align: right;\">\n",
       "      <th></th>\n",
       "      <th>attributes</th>\n",
       "      <th>min</th>\n",
       "      <th>max</th>\n",
       "      <th>range</th>\n",
       "      <th>mean</th>\n",
       "      <th>median</th>\n",
       "      <th>std</th>\n",
       "      <th>skew</th>\n",
       "      <th>kurtosis</th>\n",
       "    </tr>\n",
       "  </thead>\n",
       "  <tbody>\n",
       "    <tr>\n",
       "      <th>0</th>\n",
       "      <td>cotton</td>\n",
       "      <td>0.77</td>\n",
       "      <td>1.00</td>\n",
       "      <td>0.23</td>\n",
       "      <td>0.979297</td>\n",
       "      <td>0.995</td>\n",
       "      <td>0.049279</td>\n",
       "      <td>-3.299814</td>\n",
       "      <td>10.234218</td>\n",
       "    </tr>\n",
       "    <tr>\n",
       "      <th>1</th>\n",
       "      <td>polyester</td>\n",
       "      <td>0.00</td>\n",
       "      <td>1.00</td>\n",
       "      <td>1.00</td>\n",
       "      <td>0.448672</td>\n",
       "      <td>0.650</td>\n",
       "      <td>0.311690</td>\n",
       "      <td>-0.601429</td>\n",
       "      <td>-1.382646</td>\n",
       "    </tr>\n",
       "    <tr>\n",
       "      <th>2</th>\n",
       "      <td>spandex</td>\n",
       "      <td>0.00</td>\n",
       "      <td>0.02</td>\n",
       "      <td>0.02</td>\n",
       "      <td>0.008906</td>\n",
       "      <td>0.010</td>\n",
       "      <td>0.007729</td>\n",
       "      <td>0.192756</td>\n",
       "      <td>-1.309400</td>\n",
       "    </tr>\n",
       "    <tr>\n",
       "      <th>3</th>\n",
       "      <td>lyocell</td>\n",
       "      <td>0.00</td>\n",
       "      <td>0.55</td>\n",
       "      <td>0.55</td>\n",
       "      <td>0.017188</td>\n",
       "      <td>0.000</td>\n",
       "      <td>0.095696</td>\n",
       "      <td>5.452262</td>\n",
       "      <td>28.167078</td>\n",
       "    </tr>\n",
       "    <tr>\n",
       "      <th>4</th>\n",
       "      <td>rayon</td>\n",
       "      <td>0.00</td>\n",
       "      <td>0.15</td>\n",
       "      <td>0.15</td>\n",
       "      <td>0.004687</td>\n",
       "      <td>0.000</td>\n",
       "      <td>0.026099</td>\n",
       "      <td>5.452262</td>\n",
       "      <td>28.167078</td>\n",
       "    </tr>\n",
       "    <tr>\n",
       "      <th>5</th>\n",
       "      <td>elastomultiester</td>\n",
       "      <td>0.00</td>\n",
       "      <td>0.09</td>\n",
       "      <td>0.09</td>\n",
       "      <td>0.005312</td>\n",
       "      <td>0.000</td>\n",
       "      <td>0.020613</td>\n",
       "      <td>3.680787</td>\n",
       "      <td>11.795626</td>\n",
       "    </tr>\n",
       "    <tr>\n",
       "      <th>6</th>\n",
       "      <td>product_price</td>\n",
       "      <td>19.99</td>\n",
       "      <td>49.99</td>\n",
       "      <td>30.00</td>\n",
       "      <td>34.325937</td>\n",
       "      <td>39.990</td>\n",
       "      <td>8.578022</td>\n",
       "      <td>-0.101124</td>\n",
       "      <td>-1.018972</td>\n",
       "    </tr>\n",
       "  </tbody>\n",
       "</table>\n",
       "</div>"
      ],
      "text/plain": [
       "         attributes    min    max  range       mean  median       std  \\\n",
       "0            cotton   0.77   1.00   0.23   0.979297   0.995  0.049279   \n",
       "1         polyester   0.00   1.00   1.00   0.448672   0.650  0.311690   \n",
       "2           spandex   0.00   0.02   0.02   0.008906   0.010  0.007729   \n",
       "3           lyocell   0.00   0.55   0.55   0.017188   0.000  0.095696   \n",
       "4             rayon   0.00   0.15   0.15   0.004687   0.000  0.026099   \n",
       "5  elastomultiester   0.00   0.09   0.09   0.005312   0.000  0.020613   \n",
       "6     product_price  19.99  49.99  30.00  34.325937  39.990  8.578022   \n",
       "\n",
       "       skew   kurtosis  \n",
       "0 -3.299814  10.234218  \n",
       "1 -0.601429  -1.382646  \n",
       "2  0.192756  -1.309400  \n",
       "3  5.452262  28.167078  \n",
       "4  5.452262  28.167078  \n",
       "5  3.680787  11.795626  \n",
       "6 -0.101124  -1.018972  "
      ]
     },
     "execution_count": 29,
     "metadata": {},
     "output_type": "execute_result"
    }
   ],
   "source": [
    "t1 = pd.DataFrame(numerical_attributes.apply( np.mean )).T\n",
    "t2 = pd.DataFrame(numerical_attributes.apply( np.median )).T\n",
    "\n",
    "d1 = pd.DataFrame(numerical_attributes.apply( np.std )).T\n",
    "d2 = pd.DataFrame(numerical_attributes.apply( np.min )).T\n",
    "d3 = pd.DataFrame(numerical_attributes.apply( np.max )).T\n",
    "d4 = pd.DataFrame(numerical_attributes.apply( lambda x: x.max() - x.min() )).T # range\n",
    "d5 = pd.DataFrame(numerical_attributes.apply( lambda x: x.skew() )).T \n",
    "d6 = pd.DataFrame(numerical_attributes.apply( lambda x: x.kurtosis() )).T \n",
    "\n",
    "m1 = pd.concat([d2, d3, d4, t1, t2, d1, d5, d6]).T.reset_index()\n",
    "m1.columns = ['attributes', 'min', 'max', 'range', 'mean', 'median', 'std', 'skew', 'kurtosis']\n",
    "m1"
   ]
  },
  {
   "cell_type": "markdown",
   "id": "3e252a06",
   "metadata": {},
   "source": [
    "#### min"
   ]
  },
  {
   "cell_type": "markdown",
   "id": "e515d250",
   "metadata": {},
   "source": [
    "- Menor valor do conjunto de dados."
   ]
  },
  {
   "cell_type": "markdown",
   "id": "aeac6f59",
   "metadata": {},
   "source": [
    "#### max"
   ]
  },
  {
   "cell_type": "markdown",
   "id": "8c7139f7",
   "metadata": {},
   "source": [
    "- Maior valor do conjunto de dados. "
   ]
  },
  {
   "cell_type": "markdown",
   "id": "7529bb75",
   "metadata": {},
   "source": [
    "#### range"
   ]
  },
  {
   "cell_type": "markdown",
   "id": "d536b879",
   "metadata": {},
   "source": [
    "- Estimativa de variabilidade ou dispersão.\n",
    "- Definição: diferença entre o valor máximo e o valor mínimo."
   ]
  },
  {
   "cell_type": "markdown",
   "id": "de626940",
   "metadata": {},
   "source": [
    "#### mean"
   ]
  },
  {
   "cell_type": "markdown",
   "id": "051ef1a7",
   "metadata": {},
   "source": [
    "- Definição: é a soma de todos os valores do conjunto de dados dividida pelo número de valores."
   ]
  },
  {
   "cell_type": "markdown",
   "id": "6cbd7565",
   "metadata": {},
   "source": [
    "#### median"
   ]
  },
  {
   "cell_type": "markdown",
   "id": "0c42d823",
   "metadata": {},
   "source": [
    "- O número do meio de uma lista ordenada. "
   ]
  },
  {
   "cell_type": "markdown",
   "id": "8e774181",
   "metadata": {},
   "source": [
    "#### std"
   ]
  },
  {
   "cell_type": "markdown",
   "id": "557633f8",
   "metadata": {},
   "source": [
    "- Estimativa de variabilidade ou dispersão. \n",
    "    - Mede os valores do conjunto de dados que estão próximos ou espalhadados em torno de um ponto central. \n",
    "   \n",
    "- Desvio: diferença entre os valores observados e a estimativa de localização (média ou mediana). Mostra o quão dispersos os dados estão em torno da média.  \n",
    "\n",
    "- O desvio padrão é mais fácil de interpretar do que a variância porque está na mesma escala dos dados originais. "
   ]
  },
  {
   "cell_type": "markdown",
   "id": "5f3417ae",
   "metadata": {},
   "source": [
    "#### skew"
   ]
  },
  {
   "cell_type": "code",
   "execution_count": null,
   "id": "401e4334",
   "metadata": {},
   "outputs": [],
   "source": []
  },
  {
   "cell_type": "markdown",
   "id": "93967a15",
   "metadata": {},
   "source": [
    "#### kurtosis"
   ]
  },
  {
   "cell_type": "code",
   "execution_count": null,
   "id": "2f245045",
   "metadata": {},
   "outputs": [],
   "source": []
  },
  {
   "cell_type": "markdown",
   "id": "887b8c33",
   "metadata": {},
   "source": [
    "### 1.5.2 Categorical data"
   ]
  },
  {
   "cell_type": "code",
   "execution_count": 24,
   "id": "1db041dc",
   "metadata": {},
   "outputs": [],
   "source": [
    "categorical_attributes = df02.select_dtypes(include=['object']) "
   ]
  },
  {
   "cell_type": "code",
   "execution_count": 25,
   "id": "66a0d137",
   "metadata": {},
   "outputs": [
    {
     "data": {
      "text/html": [
       "<div>\n",
       "<style scoped>\n",
       "    .dataframe tbody tr th:only-of-type {\n",
       "        vertical-align: middle;\n",
       "    }\n",
       "\n",
       "    .dataframe tbody tr th {\n",
       "        vertical-align: top;\n",
       "    }\n",
       "\n",
       "    .dataframe thead th {\n",
       "        text-align: right;\n",
       "    }\n",
       "</style>\n",
       "<table border=\"1\" class=\"dataframe\">\n",
       "  <thead>\n",
       "    <tr style=\"text-align: right;\">\n",
       "      <th></th>\n",
       "      <th>fit</th>\n",
       "      <th>color</th>\n",
       "    </tr>\n",
       "  </thead>\n",
       "  <tbody>\n",
       "    <tr>\n",
       "      <th>0</th>\n",
       "      <td>regular_fit</td>\n",
       "      <td>denim_gray</td>\n",
       "    </tr>\n",
       "    <tr>\n",
       "      <th>1</th>\n",
       "      <td>regular_fit</td>\n",
       "      <td>denim_gray</td>\n",
       "    </tr>\n",
       "    <tr>\n",
       "      <th>2</th>\n",
       "      <td>regular_fit</td>\n",
       "      <td>denim_blue</td>\n",
       "    </tr>\n",
       "    <tr>\n",
       "      <th>3</th>\n",
       "      <td>regular_fit</td>\n",
       "      <td>denim_blue</td>\n",
       "    </tr>\n",
       "    <tr>\n",
       "      <th>4</th>\n",
       "      <td>slim_fit</td>\n",
       "      <td>black</td>\n",
       "    </tr>\n",
       "  </tbody>\n",
       "</table>\n",
       "</div>"
      ],
      "text/plain": [
       "           fit       color\n",
       "0  regular_fit  denim_gray\n",
       "1  regular_fit  denim_gray\n",
       "2  regular_fit  denim_blue\n",
       "3  regular_fit  denim_blue\n",
       "4     slim_fit       black"
      ]
     },
     "execution_count": 25,
     "metadata": {},
     "output_type": "execute_result"
    }
   ],
   "source": [
    "categorical_attributes.head()"
   ]
  },
  {
   "cell_type": "code",
   "execution_count": null,
   "id": "b1ace932",
   "metadata": {},
   "outputs": [],
   "source": []
  },
  {
   "cell_type": "markdown",
   "id": "c2aac416",
   "metadata": {},
   "source": [
    "# 2.0 Feature Engineering"
   ]
  },
  {
   "cell_type": "code",
   "execution_count": null,
   "id": "4037a020",
   "metadata": {},
   "outputs": [],
   "source": []
  },
  {
   "cell_type": "markdown",
   "id": "ed85d5e4",
   "metadata": {},
   "source": [
    "# 3.0 Attributes filtering"
   ]
  },
  {
   "cell_type": "code",
   "execution_count": null,
   "id": "e0cfb6f4",
   "metadata": {},
   "outputs": [],
   "source": []
  },
  {
   "cell_type": "markdown",
   "id": "459386a5",
   "metadata": {},
   "source": [
    "# 4.0 EDA (exploratory data analysis)"
   ]
  },
  {
   "cell_type": "code",
   "execution_count": null,
   "id": "6c68c273",
   "metadata": {},
   "outputs": [],
   "source": []
  }
 ],
 "metadata": {
  "kernelspec": {
   "display_name": "Python 3 (ipykernel)",
   "language": "python",
   "name": "python3"
  },
  "language_info": {
   "codemirror_mode": {
    "name": "ipython",
    "version": 3
   },
   "file_extension": ".py",
   "mimetype": "text/x-python",
   "name": "python",
   "nbconvert_exporter": "python",
   "pygments_lexer": "ipython3",
   "version": "3.9.13"
  }
 },
 "nbformat": 4,
 "nbformat_minor": 5
}
