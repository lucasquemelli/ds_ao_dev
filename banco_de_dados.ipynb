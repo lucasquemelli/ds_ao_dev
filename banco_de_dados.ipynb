{
 "cells": [
  {
   "cell_type": "markdown",
   "id": "6a3c12cc",
   "metadata": {},
   "source": [
    "# Granularidade"
   ]
  },
  {
   "cell_type": "markdown",
   "id": "cf35ebfd",
   "metadata": {},
   "source": [
    "Granulidade pode ser entendida como o nível de detalhamento da sua tabela ou também como o nível de detalhe no qual o dado é armazenado no banco de dados. A granularidade **deve** estar presente em todas as linhas de uma tabela."
   ]
  },
  {
   "cell_type": "markdown",
   "id": "a0b445da",
   "metadata": {},
   "source": [
    "#### Tabela 1"
   ]
  },
  {
   "cell_type": "markdown",
   "id": "1634cc8c",
   "metadata": {},
   "source": [
    "Na tabela abaixo, a granularidade é o nome do produto - já que este atributo determina a quantidade de itens da tabela. O preço é apenas um atributo da granularidade. "
   ]
  },
  {
   "cell_type": "markdown",
   "id": "3b741fad",
   "metadata": {},
   "source": [
    "| product_category | product_name | product_price |\n",
    "|------------------|--------------|---------------| \n",
    "| jeans | jeans slim | 29.99 | \n",
    "| jeans | jeans flare | 89.99 | \n",
    "| jeans | jeans urban | 39.99 | "
   ]
  },
  {
   "cell_type": "markdown",
   "id": "171b6341",
   "metadata": {},
   "source": [
    "#### Tabela 2"
   ]
  },
  {
   "cell_type": "markdown",
   "id": "585709d8",
   "metadata": {},
   "source": [
    "Já na tabela abaixo, a granularidade é definida pela cor - porque é a cor que determina a quantidade de itens da tabela. "
   ]
  },
  {
   "cell_type": "markdown",
   "id": "b2a762cd",
   "metadata": {},
   "source": [
    "| product_category | product_name | product_price | color_name | \n",
    "|------------------|--------------|---------------|------------|\n",
    "| jeans | jeans slim | 29.99 | black | \n",
    "| jeans | jeans slim | 29.99 | white | \n",
    "| jeans | jeans slim | 29.99 | blue | \n",
    "| jeans | jeans flare | 89.99 | white | \n",
    "| jeans | jeans urban | 39.99 | blue | "
   ]
  },
  {
   "cell_type": "markdown",
   "id": "f5e46b22",
   "metadata": {},
   "source": [
    "#### Tabela 3"
   ]
  },
  {
   "cell_type": "markdown",
   "id": "862f2bb7",
   "metadata": {},
   "source": [
    "Na tabela 3, a granularidade é definida pelo tamanho do produto - porque este atributo determina a quantidade de itens da tabela. "
   ]
  },
  {
   "cell_type": "markdown",
   "id": "ea65884c",
   "metadata": {},
   "source": [
    "| product_category | product_name | product_price | color_name | product_size |\n",
    "|------------------|--------------|---------------|------------|--------------|\n",
    "| jeans | jeans slim | 29.99 | black | 32 |\n",
    "| jeans | jeans slim | 29.99 | black | 34 |\n",
    "| jeans | jeans slim | 29.99 | black | 36 |\n",
    "| jeans | jeans slim | 29.99 | white | 32 |\n",
    "| jeans | jeans slim | 29.99 | blue | 32 |\n",
    "| jeans | jeans flare | 89.99 | white | 34 | \n",
    "| jeans | jeans urban | 39.99 | blue | 32 |\n"
   ]
  },
  {
   "cell_type": "markdown",
   "id": "9f1ea71c",
   "metadata": {},
   "source": [
    "Note que, se a tabela acima for apresentada da seguinte forma,"
   ]
  },
  {
   "cell_type": "markdown",
   "id": "7b2a3955",
   "metadata": {},
   "source": [
    "| product_category | product_name | product_price | color_name | \n",
    "|------------------|--------------|---------------|------------|\n",
    "| jeans | jeans slim | 29.99 | black | \n",
    "| jeans | jeans slim | 29.99 | black |\n",
    "| jeans | jeans slim | 29.99 | black |\n",
    "| jeans | jeans slim | 29.99 | white | \n",
    "| jeans | jeans slim | 29.99 | blue | \n",
    "| jeans | jeans flare | 89.99 | white | \n",
    "| jeans | jeans urban | 39.99 | blue | "
   ]
  },
  {
   "cell_type": "markdown",
   "id": "993ac14e",
   "metadata": {},
   "source": [
    "facilmente nós deletaríamos as duas primeiras linhas por considerá-las como duplicatas. Sendo que, na verdade, falta o dado mais importante da tabela, que é a granularidade."
   ]
  },
  {
   "cell_type": "code",
   "execution_count": null,
   "id": "14623232",
   "metadata": {},
   "outputs": [],
   "source": []
  }
 ],
 "metadata": {
  "kernelspec": {
   "display_name": "Python 3 (ipykernel)",
   "language": "python",
   "name": "python3"
  },
  "language_info": {
   "codemirror_mode": {
    "name": "ipython",
    "version": 3
   },
   "file_extension": ".py",
   "mimetype": "text/x-python",
   "name": "python",
   "nbconvert_exporter": "python",
   "pygments_lexer": "ipython3",
   "version": "3.9.6"
  }
 },
 "nbformat": 4,
 "nbformat_minor": 5
}
