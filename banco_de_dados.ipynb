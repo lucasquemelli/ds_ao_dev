{
 "cells": [
  {
   "cell_type": "markdown",
   "id": "f808d958",
   "metadata": {},
   "source": [
    "# Granularidade"
   ]
  },
  {
   "cell_type": "markdown",
   "id": "05de3ed6",
   "metadata": {},
   "source": [
    "Granulidade pode ser entendida como o nível de detalhamento da sua tabela ou também como o nível de detalhe no qual o dado é armazenado no banco de dados. A granularidade **deve** estar presente em todas as linhas de uma tabela."
   ]
  },
  {
   "cell_type": "markdown",
   "id": "35f1716c",
   "metadata": {},
   "source": [
    "#### Tabela 1"
   ]
  },
  {
   "cell_type": "markdown",
   "id": "4fd70e48",
   "metadata": {},
   "source": [
    "Na tabela abaixo, a granularidade é o nome do produto - já que este atributo determina a quantidade de itens da tabela. O preço é apenas um atributo da granularidade. "
   ]
  },
  {
   "cell_type": "markdown",
   "id": "1e3c58ec",
   "metadata": {},
   "source": [
    "| product_category | product_name | product_price |\n",
    "|------------------|--------------|---------------| \n",
    "| jeans | jeans slim | 29.99 | \n",
    "| jeans | jeans flare | 89.99 | \n",
    "| jeans | jeans urban | 39.99 | "
   ]
  },
  {
   "cell_type": "markdown",
   "id": "6573db00",
   "metadata": {},
   "source": [
    "#### Tabela 2"
   ]
  },
  {
   "cell_type": "markdown",
   "id": "4a0b82cb",
   "metadata": {},
   "source": [
    "Já na tabela abaixo, a granularidade é definida pela cor - porque é a cor que determina a quantidade de itens da tabela. "
   ]
  },
  {
   "cell_type": "markdown",
   "id": "331a0021",
   "metadata": {},
   "source": [
    "| product_category | product_name | product_price | color_name | \n",
    "|------------------|--------------|---------------|------------|\n",
    "| jeans | jeans slim | 29.99 | black | \n",
    "| jeans | jeans slim | 29.99 | white | \n",
    "| jeans | jeans slim | 29.99 | blue | \n",
    "| jeans | jeans flare | 89.99 | white | \n",
    "| jeans | jeans urban | 39.99 | blue | "
   ]
  },
  {
   "cell_type": "markdown",
   "id": "54514bb8",
   "metadata": {},
   "source": [
    "#### Tabela 3"
   ]
  },
  {
   "cell_type": "markdown",
   "id": "54c7bc64",
   "metadata": {},
   "source": [
    "Na tabela 3, a granularidade é definida pelo tamanho do produto - porque este atributo determina a quantidade de itens da tabela. "
   ]
  },
  {
   "cell_type": "markdown",
   "id": "2a077c1c",
   "metadata": {},
   "source": [
    "| product_category | product_name | product_price | color_name | product_size |\n",
    "|------------------|--------------|---------------|------------|--------------|\n",
    "| jeans | jeans slim | 29.99 | black | 32 |\n",
    "| jeans | jeans slim | 29.99 | black | 34 |\n",
    "| jeans | jeans slim | 29.99 | black | 36 |\n",
    "| jeans | jeans slim | 29.99 | white | 32 |\n",
    "| jeans | jeans slim | 29.99 | blue | 32 |\n",
    "| jeans | jeans flare | 89.99 | white | 34 | \n",
    "| jeans | jeans urban | 39.99 | blue | 32 |\n"
   ]
  },
  {
   "cell_type": "markdown",
   "id": "e6d991d0",
   "metadata": {},
   "source": [
    "Note que, se a tabela acima for apresentada da seguinte forma,"
   ]
  },
  {
   "cell_type": "markdown",
   "id": "d4af273b",
   "metadata": {},
   "source": [
    "| product_category | product_name | product_price | color_name | \n",
    "|------------------|--------------|---------------|------------|\n",
    "| jeans | jeans slim | 29.99 | black | \n",
    "| jeans | jeans slim | 29.99 | black |\n",
    "| jeans | jeans slim | 29.99 | black |\n",
    "| jeans | jeans slim | 29.99 | white | \n",
    "| jeans | jeans slim | 29.99 | blue | \n",
    "| jeans | jeans flare | 89.99 | white | \n",
    "| jeans | jeans urban | 39.99 | blue | "
   ]
  },
  {
   "cell_type": "markdown",
   "id": "efbe5dfc",
   "metadata": {},
   "source": [
    "facilmente nós deletaríamos as duas primeiras linhas por considerá-las como duplicatas. Sendo que, na verdade, falta o dado mais importante da tabela, que é a granularidade."
   ]
  },
  {
   "cell_type": "markdown",
   "id": "f862089f",
   "metadata": {},
   "source": [
    "* Antes deletar qualquer linha supostamente duplicada de uma tabela, precisamos verificar se a granularidade está igual. Se estiver, então é de fato uma duplicata. "
   ]
  },
  {
   "cell_type": "code",
   "execution_count": null,
   "id": "0383d579",
   "metadata": {},
   "outputs": [],
   "source": []
  }
 ],
 "metadata": {
  "kernelspec": {
   "display_name": "Python 3 (ipykernel)",
   "language": "python",
   "name": "python3"
  },
  "language_info": {
   "codemirror_mode": {
    "name": "ipython",
    "version": 3
   },
   "file_extension": ".py",
   "mimetype": "text/x-python",
   "name": "python",
   "nbconvert_exporter": "python",
   "pygments_lexer": "ipython3",
   "version": "3.9.6"
  }
 },
 "nbformat": 4,
 "nbformat_minor": 5
}
