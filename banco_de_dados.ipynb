{
 "cells": [
  {
   "cell_type": "markdown",
   "id": "f3ba67ee",
   "metadata": {},
   "source": [
    "# Granularidade"
   ]
  },
  {
   "cell_type": "markdown",
   "id": "dab868d5",
   "metadata": {},
   "source": [
    "Granulidade pode ser entendida como o nível de detalhamento da sua tabela ou também como o nível de detalhe no qual o dado é armazenado no banco de dados. A granularidade **deve** estar presente em todas as linhas de uma tabela."
   ]
  },
  {
   "cell_type": "markdown",
   "id": "9dfa3d76",
   "metadata": {},
   "source": [
    "#### Tabela 1"
   ]
  },
  {
   "cell_type": "markdown",
   "id": "98103172",
   "metadata": {},
   "source": [
    "Na tabela abaixo, a granularidade é o nome do produto - já que este atributo determina a quantidade de itens da tabela. O preço é apenas um atributo da granularidade. "
   ]
  },
  {
   "cell_type": "markdown",
   "id": "8abe4585",
   "metadata": {},
   "source": [
    "| product_category | product_name | product_price |\n",
    "|------------------|--------------|---------------| \n",
    "| jeans | jeans slim | 29.99 | \n",
    "| jeans | jeans flare | 89.99 | \n",
    "| jeans | jeans urban | 39.99 | "
   ]
  },
  {
   "cell_type": "markdown",
   "id": "0d1a983e",
   "metadata": {},
   "source": [
    "#### Tabela 2"
   ]
  },
  {
   "cell_type": "markdown",
   "id": "69221ef9",
   "metadata": {},
   "source": [
    "Já na tabela abaixo, a granularidade é definida pela cor - porque é a cor que determina a quantidade de itens da tabela. "
   ]
  },
  {
   "cell_type": "markdown",
   "id": "92f9b648",
   "metadata": {},
   "source": [
    "| product_category | product_name | product_price | color_name | \n",
    "|------------------|--------------|---------------|------------|\n",
    "| jeans | jeans slim | 29.99 | black | \n",
    "| jeans | jeans slim | 29.99 | white | \n",
    "| jeans | jeans slim | 29.99 | blue | \n",
    "| jeans | jeans flare | 89.99 | white | \n",
    "| jeans | jeans urban | 39.99 | blue | "
   ]
  },
  {
   "cell_type": "markdown",
   "id": "29349496",
   "metadata": {},
   "source": [
    "#### Tabela 3"
   ]
  },
  {
   "cell_type": "markdown",
   "id": "1860e3b4",
   "metadata": {},
   "source": [
    "Na tabela 3, a granularidade é definida pelo tamanho do produto - porque este atributo determina a quantidade de itens da tabela. "
   ]
  },
  {
   "cell_type": "markdown",
   "id": "9c0b9d34",
   "metadata": {},
   "source": [
    "| product_category | product_name | product_price | color_name | product_size |\n",
    "|------------------|--------------|---------------|------------|--------------|\n",
    "| jeans | jeans slim | 29.99 | black | 32 |\n",
    "| jeans | jeans slim | 29.99 | black | 34 |\n",
    "| jeans | jeans slim | 29.99 | black | 36 |\n",
    "| jeans | jeans slim | 29.99 | white | 32 |\n",
    "| jeans | jeans slim | 29.99 | blue | 32 |\n",
    "| jeans | jeans flare | 89.99 | white | 34 | \n",
    "| jeans | jeans urban | 39.99 | blue | 32 |\n"
   ]
  },
  {
   "cell_type": "code",
   "execution_count": null,
   "id": "206d28b7",
   "metadata": {},
   "outputs": [],
   "source": []
  }
 ],
 "metadata": {
  "kernelspec": {
   "display_name": "Python 3 (ipykernel)",
   "language": "python",
   "name": "python3"
  },
  "language_info": {
   "codemirror_mode": {
    "name": "ipython",
    "version": 3
   },
   "file_extension": ".py",
   "mimetype": "text/x-python",
   "name": "python",
   "nbconvert_exporter": "python",
   "pygments_lexer": "ipython3",
   "version": "3.9.6"
  }
 },
 "nbformat": 4,
 "nbformat_minor": 5
}
