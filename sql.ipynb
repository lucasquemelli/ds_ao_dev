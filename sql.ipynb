{
 "cells": [
  {
   "cell_type": "markdown",
   "id": "d05bba18",
   "metadata": {},
   "source": [
    "# Libraries"
   ]
  },
  {
   "cell_type": "code",
   "execution_count": 1,
   "id": "dabda7f9",
   "metadata": {},
   "outputs": [],
   "source": [
    "import sqlite3"
   ]
  },
  {
   "cell_type": "markdown",
   "id": "b213f6a3",
   "metadata": {},
   "source": [
    "# Introdução à linguagem SQL"
   ]
  },
  {
   "cell_type": "markdown",
   "id": "4727c9ef",
   "metadata": {},
   "source": [
    "Os dados foram coletados no Kaggle via link [Olist](https://www.kaggle.com/olistbr/brazilian-ecommerce)."
   ]
  },
  {
   "cell_type": "markdown",
   "id": "b135f308",
   "metadata": {},
   "source": [
    "## Inserindo os dados nas tabelas"
   ]
  },
  {
   "cell_type": "markdown",
   "id": "dd629101",
   "metadata": {},
   "source": [
    "### tabela x"
   ]
  },
  {
   "cell_type": "markdown",
   "id": "e112877c",
   "metadata": {},
   "source": [
    "### 1. Connect to dataset"
   ]
  },
  {
   "cell_type": "code",
   "execution_count": null,
   "id": "ed5cbe36",
   "metadata": {},
   "outputs": [],
   "source": []
  },
  {
   "cell_type": "markdown",
   "id": "eb716618",
   "metadata": {},
   "source": [
    "### 2. Loading dataset"
   ]
  },
  {
   "cell_type": "code",
   "execution_count": null,
   "id": "9f3b0751",
   "metadata": {},
   "outputs": [],
   "source": []
  },
  {
   "cell_type": "markdown",
   "id": "fbb43f3e",
   "metadata": {},
   "source": [
    "### 3. Check database"
   ]
  },
  {
   "cell_type": "code",
   "execution_count": null,
   "id": "40a9a180",
   "metadata": {},
   "outputs": [],
   "source": []
  }
 ],
 "metadata": {
  "kernelspec": {
   "display_name": "Python 3 (ipykernel)",
   "language": "python",
   "name": "python3"
  },
  "language_info": {
   "codemirror_mode": {
    "name": "ipython",
    "version": 3
   },
   "file_extension": ".py",
   "mimetype": "text/x-python",
   "name": "python",
   "nbconvert_exporter": "python",
   "pygments_lexer": "ipython3",
   "version": "3.9.6"
  }
 },
 "nbformat": 4,
 "nbformat_minor": 5
}
