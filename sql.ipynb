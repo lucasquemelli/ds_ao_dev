{
 "cells": [
  {
   "cell_type": "markdown",
   "id": "1ab35e6e",
   "metadata": {},
   "source": [
    "# Libraries"
   ]
  },
  {
   "cell_type": "code",
   "execution_count": 2,
   "id": "a3f7b0da",
   "metadata": {},
   "outputs": [],
   "source": [
    "import sqlite3\n",
    "\n",
    "from sqlalchemy import create_engine"
   ]
  },
  {
   "cell_type": "markdown",
   "id": "0d2a9c87",
   "metadata": {},
   "source": [
    "# Introdução à linguagem SQL"
   ]
  },
  {
   "cell_type": "markdown",
   "id": "27661528",
   "metadata": {},
   "source": [
    "Os dados foram coletados no Kaggle via link [Olist](https://www.kaggle.com/olistbr/brazilian-ecommerce)."
   ]
  },
  {
   "cell_type": "markdown",
   "id": "5a8a5edd",
   "metadata": {},
   "source": [
    "## Inserindo os dados nas tabelas"
   ]
  },
  {
   "cell_type": "markdown",
   "id": "9be9bdc0",
   "metadata": {},
   "source": [
    "### tabela x"
   ]
  },
  {
   "cell_type": "markdown",
   "id": "afbf5b7c",
   "metadata": {},
   "source": [
    "### 1. Connect to dataset"
   ]
  },
  {
   "cell_type": "code",
   "execution_count": 3,
   "id": "87cea3f9",
   "metadata": {},
   "outputs": [],
   "source": [
    "db = create_engine('sqlite:///db_olist.sqlite', echo=False)\n",
    "conn = db.connect()"
   ]
  },
  {
   "cell_type": "markdown",
   "id": "9e9acf1f",
   "metadata": {},
   "source": [
    "As três barras significam que estamos acessando arquivo local. Podemos conferir o arquivo criado no repositório local. "
   ]
  },
  {
   "cell_type": "markdown",
   "id": "85bf364e",
   "metadata": {},
   "source": [
    "### 2. Loading dataset"
   ]
  },
  {
   "cell_type": "code",
   "execution_count": null,
   "id": "6b162c91",
   "metadata": {},
   "outputs": [],
   "source": []
  },
  {
   "cell_type": "markdown",
   "id": "7cac6ea8",
   "metadata": {},
   "source": [
    "### 3. Check database"
   ]
  },
  {
   "cell_type": "code",
   "execution_count": null,
   "id": "dd07c061",
   "metadata": {},
   "outputs": [],
   "source": []
  }
 ],
 "metadata": {
  "kernelspec": {
   "display_name": "Python 3 (ipykernel)",
   "language": "python",
   "name": "python3"
  },
  "language_info": {
   "codemirror_mode": {
    "name": "ipython",
    "version": 3
   },
   "file_extension": ".py",
   "mimetype": "text/x-python",
   "name": "python",
   "nbconvert_exporter": "python",
   "pygments_lexer": "ipython3",
   "version": "3.9.6"
  }
 },
 "nbformat": 4,
 "nbformat_minor": 5
}
