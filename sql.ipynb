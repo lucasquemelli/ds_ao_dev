{
 "cells": [
  {
   "cell_type": "markdown",
   "id": "7fabace2",
   "metadata": {},
   "source": [
    "# Libraries"
   ]
  },
  {
   "cell_type": "code",
   "execution_count": 2,
   "id": "bf613b43",
   "metadata": {},
   "outputs": [],
   "source": [
    "import sqlite3\n",
    "\n",
    "from sqlalchemy import create_engine"
   ]
  },
  {
   "cell_type": "markdown",
   "id": "001050c6",
   "metadata": {},
   "source": [
    "# Introdução à linguagem SQL"
   ]
  },
  {
   "cell_type": "markdown",
   "id": "79b5fa97",
   "metadata": {},
   "source": [
    "Os dados foram coletados no Kaggle via link [Olist](https://www.kaggle.com/olistbr/brazilian-ecommerce)."
   ]
  },
  {
   "cell_type": "markdown",
   "id": "6ba82adc",
   "metadata": {},
   "source": [
    "## Inserindo os dados nas tabelas"
   ]
  },
  {
   "cell_type": "markdown",
   "id": "678b2397",
   "metadata": {},
   "source": [
    "### tabela x"
   ]
  },
  {
   "cell_type": "markdown",
   "id": "4bc5405a",
   "metadata": {},
   "source": [
    "### 1. Connect to dataset"
   ]
  },
  {
   "cell_type": "code",
   "execution_count": null,
   "id": "80de5bcc",
   "metadata": {},
   "outputs": [],
   "source": []
  },
  {
   "cell_type": "markdown",
   "id": "9c7ad616",
   "metadata": {},
   "source": [
    "### 2. Loading dataset"
   ]
  },
  {
   "cell_type": "code",
   "execution_count": null,
   "id": "abefed8f",
   "metadata": {},
   "outputs": [],
   "source": []
  },
  {
   "cell_type": "markdown",
   "id": "d20a8019",
   "metadata": {},
   "source": [
    "### 3. Check database"
   ]
  },
  {
   "cell_type": "code",
   "execution_count": null,
   "id": "92ce0e5a",
   "metadata": {},
   "outputs": [],
   "source": []
  }
 ],
 "metadata": {
  "kernelspec": {
   "display_name": "Python 3 (ipykernel)",
   "language": "python",
   "name": "python3"
  },
  "language_info": {
   "codemirror_mode": {
    "name": "ipython",
    "version": 3
   },
   "file_extension": ".py",
   "mimetype": "text/x-python",
   "name": "python",
   "nbconvert_exporter": "python",
   "pygments_lexer": "ipython3",
   "version": "3.9.6"
  }
 },
 "nbformat": 4,
 "nbformat_minor": 5
}
