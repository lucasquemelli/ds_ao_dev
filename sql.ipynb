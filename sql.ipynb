{
 "cells": [
  {
   "cell_type": "markdown",
   "id": "414184bc",
   "metadata": {},
   "source": [
    "# Libraries"
   ]
  },
  {
   "cell_type": "code",
   "execution_count": 7,
   "id": "0162463c",
   "metadata": {},
   "outputs": [],
   "source": [
    "import sqlite3\n",
    "import pandas as pd\n",
    "\n",
    "from sqlalchemy import create_engine"
   ]
  },
  {
   "cell_type": "markdown",
   "id": "c00866f6",
   "metadata": {},
   "source": [
    "# Introdução à linguagem SQL"
   ]
  },
  {
   "cell_type": "markdown",
   "id": "acac8a1e",
   "metadata": {},
   "source": [
    "Os dados foram coletados no Kaggle via link [Olist](https://www.kaggle.com/olistbr/brazilian-ecommerce)."
   ]
  },
  {
   "cell_type": "markdown",
   "id": "6535bab4",
   "metadata": {},
   "source": [
    "## Inserindo os dados nas tabelas"
   ]
  },
  {
   "cell_type": "markdown",
   "id": "cc3f01e4",
   "metadata": {},
   "source": [
    "### tabela x"
   ]
  },
  {
   "cell_type": "markdown",
   "id": "6bc9ebbf",
   "metadata": {},
   "source": [
    "### 1. Connect to dataset"
   ]
  },
  {
   "cell_type": "code",
   "execution_count": 3,
   "id": "7e85ca22",
   "metadata": {},
   "outputs": [],
   "source": [
    "db = create_engine('sqlite:///db_olist.sqlite', echo=False)\n",
    "conn = db.connect()"
   ]
  },
  {
   "cell_type": "markdown",
   "id": "01a6608f",
   "metadata": {},
   "source": [
    "As três barras significam que estamos acessando arquivo local. Podemos conferir o arquivo criado no repositório local. "
   ]
  },
  {
   "cell_type": "markdown",
   "id": "9dfc0a8c",
   "metadata": {},
   "source": [
    "### 2. Loading dataset"
   ]
  },
  {
   "cell_type": "code",
   "execution_count": null,
   "id": "19fad5ac",
   "metadata": {},
   "outputs": [],
   "source": []
  },
  {
   "cell_type": "code",
   "execution_count": null,
   "id": "ca147c83",
   "metadata": {},
   "outputs": [],
   "source": []
  },
  {
   "cell_type": "code",
   "execution_count": null,
   "id": "bf3a9c42",
   "metadata": {},
   "outputs": [],
   "source": []
  },
  {
   "cell_type": "code",
   "execution_count": null,
   "id": "ac91a5e6",
   "metadata": {},
   "outputs": [],
   "source": []
  },
  {
   "cell_type": "code",
   "execution_count": null,
   "id": "1dcc5e8d",
   "metadata": {},
   "outputs": [],
   "source": []
  },
  {
   "cell_type": "markdown",
   "id": "515d30e7",
   "metadata": {},
   "source": [
    "### 3. Check database"
   ]
  },
  {
   "cell_type": "code",
   "execution_count": null,
   "id": "265507c5",
   "metadata": {},
   "outputs": [],
   "source": []
  }
 ],
 "metadata": {
  "kernelspec": {
   "display_name": "Python 3 (ipykernel)",
   "language": "python",
   "name": "python3"
  },
  "language_info": {
   "codemirror_mode": {
    "name": "ipython",
    "version": 3
   },
   "file_extension": ".py",
   "mimetype": "text/x-python",
   "name": "python",
   "nbconvert_exporter": "python",
   "pygments_lexer": "ipython3",
   "version": "3.9.6"
  }
 },
 "nbformat": 4,
 "nbformat_minor": 5
}
