{
 "cells": [
  {
   "cell_type": "markdown",
   "id": "15086ad8",
   "metadata": {},
   "source": [
    "# Estudos avançados de Python"
   ]
  },
  {
   "cell_type": "markdown",
   "id": "bb5c10e1",
   "metadata": {},
   "source": [
    "- Técnicas avançadas de manipulação e limpeza de dados.\n",
    "\n",
    "- Organização dos dados."
   ]
  },
  {
   "cell_type": "markdown",
   "id": "21ebc0e5",
   "metadata": {},
   "source": [
    "## 1.0 Função Lambda"
   ]
  },
  {
   "cell_type": "markdown",
   "id": "5dc9a8e1",
   "metadata": {},
   "source": [
    "Definimos uma função tradicional da seguinte forma:"
   ]
  },
  {
   "cell_type": "code",
   "execution_count": 1,
   "id": "7f83256b",
   "metadata": {},
   "outputs": [],
   "source": [
    "def calculation(a, b):\n",
    "    c = a + b\n",
    "    return c"
   ]
  },
  {
   "cell_type": "code",
   "execution_count": 2,
   "id": "39327b97",
   "metadata": {},
   "outputs": [
    {
     "data": {
      "text/plain": [
       "20"
      ]
     },
     "execution_count": 2,
     "metadata": {},
     "output_type": "execute_result"
    }
   ],
   "source": [
    "calculation(5, 15)"
   ]
  },
  {
   "cell_type": "markdown",
   "id": "391f126d",
   "metadata": {},
   "source": [
    "Para definirmos a mesma função usando a função do tipo lambda, fazemos:"
   ]
  },
  {
   "cell_type": "code",
   "execution_count": 3,
   "id": "4b125c34",
   "metadata": {},
   "outputs": [],
   "source": [
    "calculation_lambda = lambda a, b: a + b"
   ]
  },
  {
   "cell_type": "code",
   "execution_count": 4,
   "id": "fee32581",
   "metadata": {},
   "outputs": [
    {
     "data": {
      "text/plain": [
       "20"
      ]
     },
     "execution_count": 4,
     "metadata": {},
     "output_type": "execute_result"
    }
   ],
   "source": [
    "calculation_lambda(5, 15)"
   ]
  },
  {
   "cell_type": "markdown",
   "id": "cf84410d",
   "metadata": {},
   "source": [
    "A função lambda é usada quando temos uma função simples que não é replicada para vários casos."
   ]
  },
  {
   "cell_type": "markdown",
   "id": "fd72b5fe",
   "metadata": {},
   "source": [
    "## 2.0 Função Map"
   ]
  },
  {
   "cell_type": "markdown",
   "id": "0c54a745",
   "metadata": {},
   "source": [
    "A função map aplica uma função em todas as posições de uma determinada estrutura de dados."
   ]
  },
  {
   "cell_type": "markdown",
   "id": "79f6d51e",
   "metadata": {},
   "source": [
    "- map (funcao, estrutura_de_dados)"
   ]
  },
  {
   "cell_type": "code",
   "execution_count": 6,
   "id": "01e21bda",
   "metadata": {},
   "outputs": [
    {
     "data": {
      "text/plain": [
       "<map at 0x1f681ef83d0>"
      ]
     },
     "execution_count": 6,
     "metadata": {},
     "output_type": "execute_result"
    }
   ],
   "source": [
    "col = ['Anastacia', 'Julicana', 'Anitta', 'Vega', 'Chun Li', 'Clotilde']\n",
    "\n",
    "#function\n",
    "snakecase = lambda x: x.lower()\n",
    "\n",
    "map(snakecase, col)"
   ]
  },
  {
   "cell_type": "code",
   "execution_count": 7,
   "id": "e27d74dd",
   "metadata": {},
   "outputs": [
    {
     "data": {
      "text/plain": [
       "['anastacia', 'julicana', 'anitta', 'vega', 'chun li', 'clotilde']"
      ]
     },
     "execution_count": 7,
     "metadata": {},
     "output_type": "execute_result"
    }
   ],
   "source": [
    "list( map(snakecase, col) )"
   ]
  },
  {
   "cell_type": "code",
   "execution_count": null,
   "id": "6ae87b62",
   "metadata": {},
   "outputs": [],
   "source": []
  }
 ],
 "metadata": {
  "kernelspec": {
   "display_name": "Python 3 (ipykernel)",
   "language": "python",
   "name": "python3"
  },
  "language_info": {
   "codemirror_mode": {
    "name": "ipython",
    "version": 3
   },
   "file_extension": ".py",
   "mimetype": "text/x-python",
   "name": "python",
   "nbconvert_exporter": "python",
   "pygments_lexer": "ipython3",
   "version": "3.9.6"
  }
 },
 "nbformat": 4,
 "nbformat_minor": 5
}
