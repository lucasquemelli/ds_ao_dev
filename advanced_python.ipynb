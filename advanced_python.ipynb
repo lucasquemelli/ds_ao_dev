{
 "cells": [
  {
   "cell_type": "markdown",
   "id": "2902e879",
   "metadata": {},
   "source": [
    "# Estudos avançados de Python"
   ]
  },
  {
   "cell_type": "markdown",
   "id": "c7936d75",
   "metadata": {},
   "source": [
    "- Técnicas avançadas de manipulação e limpeza de dados.\n",
    "\n",
    "- Organização dos dados."
   ]
  },
  {
   "cell_type": "code",
   "execution_count": 8,
   "id": "3926a609",
   "metadata": {},
   "outputs": [],
   "source": [
    "import pandas as pd"
   ]
  },
  {
   "cell_type": "markdown",
   "id": "b742bc92",
   "metadata": {},
   "source": [
    "## 1.0 Função Lambda"
   ]
  },
  {
   "cell_type": "markdown",
   "id": "9e4c7fa5",
   "metadata": {},
   "source": [
    "Definimos uma função tradicional da seguinte forma:"
   ]
  },
  {
   "cell_type": "code",
   "execution_count": 1,
   "id": "b3694385",
   "metadata": {},
   "outputs": [],
   "source": [
    "def calculation(a, b):\n",
    "    c = a + b\n",
    "    return c"
   ]
  },
  {
   "cell_type": "code",
   "execution_count": 2,
   "id": "6ef69440",
   "metadata": {},
   "outputs": [
    {
     "data": {
      "text/plain": [
       "20"
      ]
     },
     "execution_count": 2,
     "metadata": {},
     "output_type": "execute_result"
    }
   ],
   "source": [
    "calculation(5, 15)"
   ]
  },
  {
   "cell_type": "markdown",
   "id": "2efd733f",
   "metadata": {},
   "source": [
    "Para definirmos a mesma função usando a função do tipo lambda, fazemos:"
   ]
  },
  {
   "cell_type": "code",
   "execution_count": 3,
   "id": "7bc6c836",
   "metadata": {},
   "outputs": [],
   "source": [
    "calculation_lambda = lambda a, b: a + b"
   ]
  },
  {
   "cell_type": "code",
   "execution_count": 4,
   "id": "ba1c9322",
   "metadata": {},
   "outputs": [
    {
     "data": {
      "text/plain": [
       "20"
      ]
     },
     "execution_count": 4,
     "metadata": {},
     "output_type": "execute_result"
    }
   ],
   "source": [
    "calculation_lambda(5, 15)"
   ]
  },
  {
   "cell_type": "markdown",
   "id": "388fffb4",
   "metadata": {},
   "source": [
    "A função lambda é usada quando temos uma função simples que não é replicada para vários casos."
   ]
  },
  {
   "cell_type": "markdown",
   "id": "0cb223f8",
   "metadata": {},
   "source": [
    "## 2.0 Função Map"
   ]
  },
  {
   "cell_type": "markdown",
   "id": "f5231182",
   "metadata": {},
   "source": [
    "A função map aplica uma função em todas as posições de uma determinada estrutura de dados."
   ]
  },
  {
   "cell_type": "markdown",
   "id": "62520c51",
   "metadata": {},
   "source": [
    "- map (funcao, estrutura_de_dados)"
   ]
  },
  {
   "cell_type": "markdown",
   "id": "4bf4b818",
   "metadata": {},
   "source": [
    "#### Função map em uma lista"
   ]
  },
  {
   "cell_type": "code",
   "execution_count": 6,
   "id": "a6310c9b",
   "metadata": {},
   "outputs": [
    {
     "data": {
      "text/plain": [
       "<map at 0x1f681ef83d0>"
      ]
     },
     "execution_count": 6,
     "metadata": {},
     "output_type": "execute_result"
    }
   ],
   "source": [
    "col = ['Anastacia', 'Julicana', 'Anitta', 'Vega', 'Chun Li', 'Clotilde']\n",
    "\n",
    "#function\n",
    "snakecase = lambda x: x.lower()\n",
    "\n",
    "map(snakecase, col)"
   ]
  },
  {
   "cell_type": "code",
   "execution_count": 7,
   "id": "6f1a261e",
   "metadata": {},
   "outputs": [
    {
     "data": {
      "text/plain": [
       "['anastacia', 'julicana', 'anitta', 'vega', 'chun li', 'clotilde']"
      ]
     },
     "execution_count": 7,
     "metadata": {},
     "output_type": "execute_result"
    }
   ],
   "source": [
    "list( map(snakecase, col) )"
   ]
  },
  {
   "cell_type": "markdown",
   "id": "2348a109",
   "metadata": {},
   "source": [
    "#### Função map em um dataframe"
   ]
  },
  {
   "cell_type": "code",
   "execution_count": 15,
   "id": "e1d422aa",
   "metadata": {},
   "outputs": [],
   "source": [
    "data = {'Name': ['Ashley', 'Shania', 'Tanish', 'Roxie'],\n",
    "        'Age': ['19', '45', '27', '22'],\n",
    "        'Height (cm)': [180, 160, 165, 157]}\n",
    "\n",
    "data = pd.DataFrame( data )"
   ]
  },
  {
   "cell_type": "code",
   "execution_count": 16,
   "id": "4f2d396d",
   "metadata": {},
   "outputs": [
    {
     "data": {
      "text/html": [
       "<div>\n",
       "<style scoped>\n",
       "    .dataframe tbody tr th:only-of-type {\n",
       "        vertical-align: middle;\n",
       "    }\n",
       "\n",
       "    .dataframe tbody tr th {\n",
       "        vertical-align: top;\n",
       "    }\n",
       "\n",
       "    .dataframe thead th {\n",
       "        text-align: right;\n",
       "    }\n",
       "</style>\n",
       "<table border=\"1\" class=\"dataframe\">\n",
       "  <thead>\n",
       "    <tr style=\"text-align: right;\">\n",
       "      <th></th>\n",
       "      <th>Name</th>\n",
       "      <th>Age</th>\n",
       "      <th>Height (cm)</th>\n",
       "    </tr>\n",
       "  </thead>\n",
       "  <tbody>\n",
       "    <tr>\n",
       "      <th>0</th>\n",
       "      <td>Ashley</td>\n",
       "      <td>19</td>\n",
       "      <td>180</td>\n",
       "    </tr>\n",
       "    <tr>\n",
       "      <th>1</th>\n",
       "      <td>Shania</td>\n",
       "      <td>45</td>\n",
       "      <td>160</td>\n",
       "    </tr>\n",
       "    <tr>\n",
       "      <th>2</th>\n",
       "      <td>Tanish</td>\n",
       "      <td>27</td>\n",
       "      <td>165</td>\n",
       "    </tr>\n",
       "    <tr>\n",
       "      <th>3</th>\n",
       "      <td>Roxie</td>\n",
       "      <td>22</td>\n",
       "      <td>157</td>\n",
       "    </tr>\n",
       "  </tbody>\n",
       "</table>\n",
       "</div>"
      ],
      "text/plain": [
       "     Name Age  Height (cm)\n",
       "0  Ashley  19          180\n",
       "1  Shania  45          160\n",
       "2  Tanish  27          165\n",
       "3   Roxie  22          157"
      ]
     },
     "execution_count": 16,
     "metadata": {},
     "output_type": "execute_result"
    }
   ],
   "source": [
    "data"
   ]
  },
  {
   "cell_type": "code",
   "execution_count": 17,
   "id": "cd137ce1",
   "metadata": {},
   "outputs": [
    {
     "data": {
      "text/plain": [
       "[1.8, 1.6, 1.65, 1.57]"
      ]
     },
     "execution_count": 17,
     "metadata": {},
     "output_type": "execute_result"
    }
   ],
   "source": [
    "conversion_meter = lambda x: x/100\n",
    "\n",
    "list ( map(conversion_meter, data['Height (cm)']) )"
   ]
  },
  {
   "cell_type": "code",
   "execution_count": 18,
   "id": "e4a24e1e",
   "metadata": {},
   "outputs": [],
   "source": [
    "data['Height (m)'] = list ( map(conversion_meter, data['Height (cm)']) )"
   ]
  },
  {
   "cell_type": "code",
   "execution_count": 19,
   "id": "a52ac0fe",
   "metadata": {},
   "outputs": [
    {
     "data": {
      "text/html": [
       "<div>\n",
       "<style scoped>\n",
       "    .dataframe tbody tr th:only-of-type {\n",
       "        vertical-align: middle;\n",
       "    }\n",
       "\n",
       "    .dataframe tbody tr th {\n",
       "        vertical-align: top;\n",
       "    }\n",
       "\n",
       "    .dataframe thead th {\n",
       "        text-align: right;\n",
       "    }\n",
       "</style>\n",
       "<table border=\"1\" class=\"dataframe\">\n",
       "  <thead>\n",
       "    <tr style=\"text-align: right;\">\n",
       "      <th></th>\n",
       "      <th>Name</th>\n",
       "      <th>Age</th>\n",
       "      <th>Height (cm)</th>\n",
       "      <th>Height (m)</th>\n",
       "    </tr>\n",
       "  </thead>\n",
       "  <tbody>\n",
       "    <tr>\n",
       "      <th>0</th>\n",
       "      <td>Ashley</td>\n",
       "      <td>19</td>\n",
       "      <td>180</td>\n",
       "      <td>1.80</td>\n",
       "    </tr>\n",
       "    <tr>\n",
       "      <th>1</th>\n",
       "      <td>Shania</td>\n",
       "      <td>45</td>\n",
       "      <td>160</td>\n",
       "      <td>1.60</td>\n",
       "    </tr>\n",
       "    <tr>\n",
       "      <th>2</th>\n",
       "      <td>Tanish</td>\n",
       "      <td>27</td>\n",
       "      <td>165</td>\n",
       "      <td>1.65</td>\n",
       "    </tr>\n",
       "    <tr>\n",
       "      <th>3</th>\n",
       "      <td>Roxie</td>\n",
       "      <td>22</td>\n",
       "      <td>157</td>\n",
       "      <td>1.57</td>\n",
       "    </tr>\n",
       "  </tbody>\n",
       "</table>\n",
       "</div>"
      ],
      "text/plain": [
       "     Name Age  Height (cm)  Height (m)\n",
       "0  Ashley  19          180        1.80\n",
       "1  Shania  45          160        1.60\n",
       "2  Tanish  27          165        1.65\n",
       "3   Roxie  22          157        1.57"
      ]
     },
     "execution_count": 19,
     "metadata": {},
     "output_type": "execute_result"
    }
   ],
   "source": [
    "data"
   ]
  },
  {
   "cell_type": "code",
   "execution_count": null,
   "id": "43388b77",
   "metadata": {},
   "outputs": [],
   "source": []
  }
 ],
 "metadata": {
  "kernelspec": {
   "display_name": "Python 3 (ipykernel)",
   "language": "python",
   "name": "python3"
  },
  "language_info": {
   "codemirror_mode": {
    "name": "ipython",
    "version": 3
   },
   "file_extension": ".py",
   "mimetype": "text/x-python",
   "name": "python",
   "nbconvert_exporter": "python",
   "pygments_lexer": "ipython3",
   "version": "3.9.6"
  }
 },
 "nbformat": 4,
 "nbformat_minor": 5
}
