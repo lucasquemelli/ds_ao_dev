{
 "cells": [
  {
   "cell_type": "markdown",
   "id": "89b30923",
   "metadata": {},
   "source": [
    "# Estudos avançados de Python"
   ]
  },
  {
   "cell_type": "markdown",
   "id": "81d02a59",
   "metadata": {},
   "source": [
    "- Técnicas avançadas de manipulação e limpeza de dados.\n",
    "\n",
    "- Organização dos dados."
   ]
  },
  {
   "cell_type": "code",
   "execution_count": 1,
   "id": "b8c012d6",
   "metadata": {},
   "outputs": [],
   "source": [
    "import pandas as pd"
   ]
  },
  {
   "cell_type": "markdown",
   "id": "168174c5",
   "metadata": {},
   "source": [
    "## 1.0 Função Lambda"
   ]
  },
  {
   "cell_type": "markdown",
   "id": "47e7c29f",
   "metadata": {},
   "source": [
    "Definimos uma função tradicional da seguinte forma:"
   ]
  },
  {
   "cell_type": "code",
   "execution_count": 2,
   "id": "6fd5318c",
   "metadata": {},
   "outputs": [],
   "source": [
    "def calculation(a, b):\n",
    "    c = a + b\n",
    "    return c"
   ]
  },
  {
   "cell_type": "code",
   "execution_count": 3,
   "id": "330dc837",
   "metadata": {},
   "outputs": [
    {
     "data": {
      "text/plain": [
       "20"
      ]
     },
     "execution_count": 3,
     "metadata": {},
     "output_type": "execute_result"
    }
   ],
   "source": [
    "calculation(5, 15)"
   ]
  },
  {
   "cell_type": "markdown",
   "id": "ab3bce22",
   "metadata": {},
   "source": [
    "Para definirmos a mesma função usando a função do tipo lambda, fazemos:"
   ]
  },
  {
   "cell_type": "code",
   "execution_count": 4,
   "id": "fb2adacf",
   "metadata": {},
   "outputs": [],
   "source": [
    "calculation_lambda = lambda a, b: a + b"
   ]
  },
  {
   "cell_type": "code",
   "execution_count": 5,
   "id": "2d047176",
   "metadata": {},
   "outputs": [
    {
     "data": {
      "text/plain": [
       "20"
      ]
     },
     "execution_count": 5,
     "metadata": {},
     "output_type": "execute_result"
    }
   ],
   "source": [
    "calculation_lambda(5, 15)"
   ]
  },
  {
   "cell_type": "markdown",
   "id": "220d28db",
   "metadata": {},
   "source": [
    "A função lambda é usada quando temos uma função simples que não é replicada para vários casos."
   ]
  },
  {
   "cell_type": "markdown",
   "id": "8268de7e",
   "metadata": {},
   "source": [
    "## 2.0 Função Map"
   ]
  },
  {
   "cell_type": "markdown",
   "id": "d4576ca3",
   "metadata": {},
   "source": [
    "A função map aplica uma função em todas as posições de uma determinada estrutura de dados."
   ]
  },
  {
   "cell_type": "markdown",
   "id": "8bfc93a3",
   "metadata": {},
   "source": [
    "- map (funcao, estrutura_de_dados)"
   ]
  },
  {
   "cell_type": "markdown",
   "id": "db084910",
   "metadata": {},
   "source": [
    "#### Função map em uma lista"
   ]
  },
  {
   "cell_type": "code",
   "execution_count": 6,
   "id": "d7f9547e",
   "metadata": {},
   "outputs": [
    {
     "data": {
      "text/plain": [
       "<map at 0x12d5b6f4d90>"
      ]
     },
     "execution_count": 6,
     "metadata": {},
     "output_type": "execute_result"
    }
   ],
   "source": [
    "col = ['Anastacia', 'Julicana', 'Anitta', 'Vega', 'Chun Li', 'Clotilde']\n",
    "\n",
    "#function\n",
    "snakecase = lambda x: x.lower()\n",
    "\n",
    "map(snakecase, col)"
   ]
  },
  {
   "cell_type": "code",
   "execution_count": 7,
   "id": "1cf3d897",
   "metadata": {},
   "outputs": [
    {
     "data": {
      "text/plain": [
       "['anastacia', 'julicana', 'anitta', 'vega', 'chun li', 'clotilde']"
      ]
     },
     "execution_count": 7,
     "metadata": {},
     "output_type": "execute_result"
    }
   ],
   "source": [
    "list( map(snakecase, col) )"
   ]
  },
  {
   "cell_type": "markdown",
   "id": "18564e0f",
   "metadata": {},
   "source": [
    "#### Função map em um dataframe"
   ]
  },
  {
   "cell_type": "code",
   "execution_count": 8,
   "id": "720dcced",
   "metadata": {},
   "outputs": [],
   "source": [
    "data = {'Name': ['Ashley', 'Shania', 'Tanish', 'Roxie'],\n",
    "        'Age': ['19', '45', '27', '22'],\n",
    "        'Height (cm)': [180, 160, 165, 157]}\n",
    "\n",
    "data = pd.DataFrame( data )"
   ]
  },
  {
   "cell_type": "code",
   "execution_count": 9,
   "id": "a02fa750",
   "metadata": {},
   "outputs": [
    {
     "data": {
      "text/html": [
       "<div>\n",
       "<style scoped>\n",
       "    .dataframe tbody tr th:only-of-type {\n",
       "        vertical-align: middle;\n",
       "    }\n",
       "\n",
       "    .dataframe tbody tr th {\n",
       "        vertical-align: top;\n",
       "    }\n",
       "\n",
       "    .dataframe thead th {\n",
       "        text-align: right;\n",
       "    }\n",
       "</style>\n",
       "<table border=\"1\" class=\"dataframe\">\n",
       "  <thead>\n",
       "    <tr style=\"text-align: right;\">\n",
       "      <th></th>\n",
       "      <th>Name</th>\n",
       "      <th>Age</th>\n",
       "      <th>Height (cm)</th>\n",
       "    </tr>\n",
       "  </thead>\n",
       "  <tbody>\n",
       "    <tr>\n",
       "      <th>0</th>\n",
       "      <td>Ashley</td>\n",
       "      <td>19</td>\n",
       "      <td>180</td>\n",
       "    </tr>\n",
       "    <tr>\n",
       "      <th>1</th>\n",
       "      <td>Shania</td>\n",
       "      <td>45</td>\n",
       "      <td>160</td>\n",
       "    </tr>\n",
       "    <tr>\n",
       "      <th>2</th>\n",
       "      <td>Tanish</td>\n",
       "      <td>27</td>\n",
       "      <td>165</td>\n",
       "    </tr>\n",
       "    <tr>\n",
       "      <th>3</th>\n",
       "      <td>Roxie</td>\n",
       "      <td>22</td>\n",
       "      <td>157</td>\n",
       "    </tr>\n",
       "  </tbody>\n",
       "</table>\n",
       "</div>"
      ],
      "text/plain": [
       "     Name Age  Height (cm)\n",
       "0  Ashley  19          180\n",
       "1  Shania  45          160\n",
       "2  Tanish  27          165\n",
       "3   Roxie  22          157"
      ]
     },
     "execution_count": 9,
     "metadata": {},
     "output_type": "execute_result"
    }
   ],
   "source": [
    "data"
   ]
  },
  {
   "cell_type": "code",
   "execution_count": 10,
   "id": "f570c03b",
   "metadata": {},
   "outputs": [
    {
     "data": {
      "text/plain": [
       "[1.8, 1.6, 1.65, 1.57]"
      ]
     },
     "execution_count": 10,
     "metadata": {},
     "output_type": "execute_result"
    }
   ],
   "source": [
    "conversion_meter = lambda x: x/100\n",
    "\n",
    "list ( map(conversion_meter, data['Height (cm)']) )"
   ]
  },
  {
   "cell_type": "code",
   "execution_count": 11,
   "id": "ca062f43",
   "metadata": {},
   "outputs": [],
   "source": [
    "data['Height (m)'] = list ( map(conversion_meter, data['Height (cm)']) )"
   ]
  },
  {
   "cell_type": "code",
   "execution_count": 12,
   "id": "397f60a5",
   "metadata": {},
   "outputs": [
    {
     "data": {
      "text/html": [
       "<div>\n",
       "<style scoped>\n",
       "    .dataframe tbody tr th:only-of-type {\n",
       "        vertical-align: middle;\n",
       "    }\n",
       "\n",
       "    .dataframe tbody tr th {\n",
       "        vertical-align: top;\n",
       "    }\n",
       "\n",
       "    .dataframe thead th {\n",
       "        text-align: right;\n",
       "    }\n",
       "</style>\n",
       "<table border=\"1\" class=\"dataframe\">\n",
       "  <thead>\n",
       "    <tr style=\"text-align: right;\">\n",
       "      <th></th>\n",
       "      <th>Name</th>\n",
       "      <th>Age</th>\n",
       "      <th>Height (cm)</th>\n",
       "      <th>Height (m)</th>\n",
       "    </tr>\n",
       "  </thead>\n",
       "  <tbody>\n",
       "    <tr>\n",
       "      <th>0</th>\n",
       "      <td>Ashley</td>\n",
       "      <td>19</td>\n",
       "      <td>180</td>\n",
       "      <td>1.80</td>\n",
       "    </tr>\n",
       "    <tr>\n",
       "      <th>1</th>\n",
       "      <td>Shania</td>\n",
       "      <td>45</td>\n",
       "      <td>160</td>\n",
       "      <td>1.60</td>\n",
       "    </tr>\n",
       "    <tr>\n",
       "      <th>2</th>\n",
       "      <td>Tanish</td>\n",
       "      <td>27</td>\n",
       "      <td>165</td>\n",
       "      <td>1.65</td>\n",
       "    </tr>\n",
       "    <tr>\n",
       "      <th>3</th>\n",
       "      <td>Roxie</td>\n",
       "      <td>22</td>\n",
       "      <td>157</td>\n",
       "      <td>1.57</td>\n",
       "    </tr>\n",
       "  </tbody>\n",
       "</table>\n",
       "</div>"
      ],
      "text/plain": [
       "     Name Age  Height (cm)  Height (m)\n",
       "0  Ashley  19          180        1.80\n",
       "1  Shania  45          160        1.60\n",
       "2  Tanish  27          165        1.65\n",
       "3   Roxie  22          157        1.57"
      ]
     },
     "execution_count": 12,
     "metadata": {},
     "output_type": "execute_result"
    }
   ],
   "source": [
    "data"
   ]
  },
  {
   "cell_type": "markdown",
   "id": "8f4f4a50",
   "metadata": {},
   "source": [
    "Também podemos aplicar a função tradicional dentro da função map. Não precisa ser apenas a função lambda. Mas a função lambda é mais prática para operações mais simples."
   ]
  },
  {
   "cell_type": "markdown",
   "id": "bcb9e495",
   "metadata": {},
   "source": [
    "## 3.0 Função Apply"
   ]
  },
  {
   "cell_type": "markdown",
   "id": "389c6466",
   "metadata": {},
   "source": [
    "A função apply funciona como a função map. A diferença é que o apply é uma função da biblioteca pandas e só conseguimos aplicar sobre dataframes."
   ]
  },
  {
   "cell_type": "code",
   "execution_count": 13,
   "id": "861beae0",
   "metadata": {},
   "outputs": [
    {
     "data": {
      "text/html": [
       "<div>\n",
       "<style scoped>\n",
       "    .dataframe tbody tr th:only-of-type {\n",
       "        vertical-align: middle;\n",
       "    }\n",
       "\n",
       "    .dataframe tbody tr th {\n",
       "        vertical-align: top;\n",
       "    }\n",
       "\n",
       "    .dataframe thead th {\n",
       "        text-align: right;\n",
       "    }\n",
       "</style>\n",
       "<table border=\"1\" class=\"dataframe\">\n",
       "  <thead>\n",
       "    <tr style=\"text-align: right;\">\n",
       "      <th></th>\n",
       "      <th>Name</th>\n",
       "      <th>Age</th>\n",
       "      <th>Height (cm)</th>\n",
       "      <th>Height (m)</th>\n",
       "      <th>Height (mm)</th>\n",
       "    </tr>\n",
       "  </thead>\n",
       "  <tbody>\n",
       "    <tr>\n",
       "      <th>0</th>\n",
       "      <td>Ashley</td>\n",
       "      <td>19</td>\n",
       "      <td>180</td>\n",
       "      <td>1.80</td>\n",
       "      <td>1800</td>\n",
       "    </tr>\n",
       "    <tr>\n",
       "      <th>1</th>\n",
       "      <td>Shania</td>\n",
       "      <td>45</td>\n",
       "      <td>160</td>\n",
       "      <td>1.60</td>\n",
       "      <td>1600</td>\n",
       "    </tr>\n",
       "    <tr>\n",
       "      <th>2</th>\n",
       "      <td>Tanish</td>\n",
       "      <td>27</td>\n",
       "      <td>165</td>\n",
       "      <td>1.65</td>\n",
       "      <td>1650</td>\n",
       "    </tr>\n",
       "    <tr>\n",
       "      <th>3</th>\n",
       "      <td>Roxie</td>\n",
       "      <td>22</td>\n",
       "      <td>157</td>\n",
       "      <td>1.57</td>\n",
       "      <td>1570</td>\n",
       "    </tr>\n",
       "  </tbody>\n",
       "</table>\n",
       "</div>"
      ],
      "text/plain": [
       "     Name Age  Height (cm)  Height (m)  Height (mm)\n",
       "0  Ashley  19          180        1.80         1800\n",
       "1  Shania  45          160        1.60         1600\n",
       "2  Tanish  27          165        1.65         1650\n",
       "3   Roxie  22          157        1.57         1570"
      ]
     },
     "execution_count": 13,
     "metadata": {},
     "output_type": "execute_result"
    }
   ],
   "source": [
    "data['Height (mm)'] = data['Height (m)'].apply(lambda x: int( x*1000) )\n",
    "data"
   ]
  },
  {
   "cell_type": "markdown",
   "id": "61066df8",
   "metadata": {},
   "source": [
    "# Exemplos práticos com Apply e Lambda"
   ]
  },
  {
   "cell_type": "code",
   "execution_count": 14,
   "id": "177a3dba",
   "metadata": {},
   "outputs": [],
   "source": [
    "path = \"https://raw.githubusercontent.com/lucasquemelli/ds_ao_dev/main/data_raw.csv\"\n",
    "\n",
    "data_raw = pd.read_csv(path)"
   ]
  },
  {
   "cell_type": "code",
   "execution_count": 15,
   "id": "17c9fe27",
   "metadata": {},
   "outputs": [
    {
     "data": {
      "text/html": [
       "<div>\n",
       "<style scoped>\n",
       "    .dataframe tbody tr th:only-of-type {\n",
       "        vertical-align: middle;\n",
       "    }\n",
       "\n",
       "    .dataframe tbody tr th {\n",
       "        vertical-align: top;\n",
       "    }\n",
       "\n",
       "    .dataframe thead th {\n",
       "        text-align: right;\n",
       "    }\n",
       "</style>\n",
       "<table border=\"1\" class=\"dataframe\">\n",
       "  <thead>\n",
       "    <tr style=\"text-align: right;\">\n",
       "      <th></th>\n",
       "      <th>Unnamed: 0</th>\n",
       "      <th>id</th>\n",
       "      <th>product_name</th>\n",
       "      <th>product_type</th>\n",
       "      <th>price</th>\n",
       "      <th>datetime</th>\n",
       "      <th>style_id</th>\n",
       "      <th>color_id</th>\n",
       "      <th>Fit</th>\n",
       "      <th>Composition</th>\n",
       "      <th>More sustainable materials</th>\n",
       "      <th>Size</th>\n",
       "    </tr>\n",
       "  </thead>\n",
       "  <tbody>\n",
       "    <tr>\n",
       "      <th>0</th>\n",
       "      <td>0</td>\n",
       "      <td>1024256001</td>\n",
       "      <td>Slim Jeans</td>\n",
       "      <td>men_jeans_slim</td>\n",
       "      <td>$ 19.99</td>\n",
       "      <td>2022-01-21 14:52:23</td>\n",
       "      <td>1024256</td>\n",
       "      <td>1</td>\n",
       "      <td>Slim fit</td>\n",
       "      <td>Pocket lining: Polyester 65%, Cotton 35%</td>\n",
       "      <td>NaN</td>\n",
       "      <td>The model is 185cm/6'1\" and wears a size 31/32</td>\n",
       "    </tr>\n",
       "    <tr>\n",
       "      <th>1</th>\n",
       "      <td>1</td>\n",
       "      <td>1024256001</td>\n",
       "      <td>Slim Jeans</td>\n",
       "      <td>men_jeans_slim</td>\n",
       "      <td>$ 19.99</td>\n",
       "      <td>2022-01-21 14:52:23</td>\n",
       "      <td>1024256</td>\n",
       "      <td>1</td>\n",
       "      <td>Slim fit</td>\n",
       "      <td>Shell: Cotton 99%, Spandex 1%</td>\n",
       "      <td>NaN</td>\n",
       "      <td>The model is 185cm/6'1\" and wears a size 31/32</td>\n",
       "    </tr>\n",
       "    <tr>\n",
       "      <th>2</th>\n",
       "      <td>2</td>\n",
       "      <td>1024256001</td>\n",
       "      <td>Slim Jeans</td>\n",
       "      <td>men_jeans_slim</td>\n",
       "      <td>$ 19.99</td>\n",
       "      <td>2022-01-21 14:52:23</td>\n",
       "      <td>1024256</td>\n",
       "      <td>1</td>\n",
       "      <td>Slim fit</td>\n",
       "      <td>Pocket lining: Polyester 65%, Cotton 35%</td>\n",
       "      <td>NaN</td>\n",
       "      <td>The model is 185cm/6'1\" and wears a size 31/32</td>\n",
       "    </tr>\n",
       "    <tr>\n",
       "      <th>3</th>\n",
       "      <td>3</td>\n",
       "      <td>1024256001</td>\n",
       "      <td>Slim Jeans</td>\n",
       "      <td>men_jeans_slim</td>\n",
       "      <td>$ 19.99</td>\n",
       "      <td>2022-01-21 14:52:23</td>\n",
       "      <td>1024256</td>\n",
       "      <td>1</td>\n",
       "      <td>Slim fit</td>\n",
       "      <td>Shell: Cotton 99%, Spandex 1%</td>\n",
       "      <td>NaN</td>\n",
       "      <td>The model is 185cm/6'1\" and wears a size 31/32</td>\n",
       "    </tr>\n",
       "    <tr>\n",
       "      <th>4</th>\n",
       "      <td>4</td>\n",
       "      <td>1024256001</td>\n",
       "      <td>Slim Jeans</td>\n",
       "      <td>men_jeans_slim</td>\n",
       "      <td>$ 19.99</td>\n",
       "      <td>2022-01-21 14:52:23</td>\n",
       "      <td>1024256</td>\n",
       "      <td>1</td>\n",
       "      <td>Slim fit</td>\n",
       "      <td>Pocket lining: Polyester 65%, Cotton 35%</td>\n",
       "      <td>NaN</td>\n",
       "      <td>The model is 185cm/6'1\" and wears a size 31/32</td>\n",
       "    </tr>\n",
       "  </tbody>\n",
       "</table>\n",
       "</div>"
      ],
      "text/plain": [
       "   Unnamed: 0          id product_name    product_type    price  \\\n",
       "0           0  1024256001   Slim Jeans  men_jeans_slim  $ 19.99   \n",
       "1           1  1024256001   Slim Jeans  men_jeans_slim  $ 19.99   \n",
       "2           2  1024256001   Slim Jeans  men_jeans_slim  $ 19.99   \n",
       "3           3  1024256001   Slim Jeans  men_jeans_slim  $ 19.99   \n",
       "4           4  1024256001   Slim Jeans  men_jeans_slim  $ 19.99   \n",
       "\n",
       "              datetime  style_id  color_id       Fit  \\\n",
       "0  2022-01-21 14:52:23   1024256         1  Slim fit   \n",
       "1  2022-01-21 14:52:23   1024256         1  Slim fit   \n",
       "2  2022-01-21 14:52:23   1024256         1  Slim fit   \n",
       "3  2022-01-21 14:52:23   1024256         1  Slim fit   \n",
       "4  2022-01-21 14:52:23   1024256         1  Slim fit   \n",
       "\n",
       "                                Composition More sustainable materials  \\\n",
       "0  Pocket lining: Polyester 65%, Cotton 35%                        NaN   \n",
       "1             Shell: Cotton 99%, Spandex 1%                        NaN   \n",
       "2  Pocket lining: Polyester 65%, Cotton 35%                        NaN   \n",
       "3             Shell: Cotton 99%, Spandex 1%                        NaN   \n",
       "4  Pocket lining: Polyester 65%, Cotton 35%                        NaN   \n",
       "\n",
       "                                             Size  \n",
       "0  The model is 185cm/6'1\" and wears a size 31/32  \n",
       "1  The model is 185cm/6'1\" and wears a size 31/32  \n",
       "2  The model is 185cm/6'1\" and wears a size 31/32  \n",
       "3  The model is 185cm/6'1\" and wears a size 31/32  \n",
       "4  The model is 185cm/6'1\" and wears a size 31/32  "
      ]
     },
     "execution_count": 15,
     "metadata": {},
     "output_type": "execute_result"
    }
   ],
   "source": [
    "data_raw.head()"
   ]
  },
  {
   "cell_type": "markdown",
   "id": "3d1aec92",
   "metadata": {},
   "source": [
    "#### Removendo cifrão para uma coluna"
   ]
  },
  {
   "cell_type": "code",
   "execution_count": 16,
   "id": "ade1076b",
   "metadata": {},
   "outputs": [
    {
     "data": {
      "text/html": [
       "<div>\n",
       "<style scoped>\n",
       "    .dataframe tbody tr th:only-of-type {\n",
       "        vertical-align: middle;\n",
       "    }\n",
       "\n",
       "    .dataframe tbody tr th {\n",
       "        vertical-align: top;\n",
       "    }\n",
       "\n",
       "    .dataframe thead th {\n",
       "        text-align: right;\n",
       "    }\n",
       "</style>\n",
       "<table border=\"1\" class=\"dataframe\">\n",
       "  <thead>\n",
       "    <tr style=\"text-align: right;\">\n",
       "      <th></th>\n",
       "      <th>Unnamed: 0</th>\n",
       "      <th>id</th>\n",
       "      <th>product_name</th>\n",
       "      <th>product_type</th>\n",
       "      <th>price</th>\n",
       "      <th>datetime</th>\n",
       "      <th>style_id</th>\n",
       "      <th>color_id</th>\n",
       "      <th>Fit</th>\n",
       "      <th>Composition</th>\n",
       "      <th>More sustainable materials</th>\n",
       "      <th>Size</th>\n",
       "    </tr>\n",
       "  </thead>\n",
       "  <tbody>\n",
       "    <tr>\n",
       "      <th>0</th>\n",
       "      <td>0</td>\n",
       "      <td>1024256001</td>\n",
       "      <td>Slim Jeans</td>\n",
       "      <td>men_jeans_slim</td>\n",
       "      <td>19.99</td>\n",
       "      <td>2022-01-21 14:52:23</td>\n",
       "      <td>1024256</td>\n",
       "      <td>1</td>\n",
       "      <td>Slim fit</td>\n",
       "      <td>Pocket lining: Polyester 65%, Cotton 35%</td>\n",
       "      <td>NaN</td>\n",
       "      <td>The model is 185cm/6'1\" and wears a size 31/32</td>\n",
       "    </tr>\n",
       "    <tr>\n",
       "      <th>1</th>\n",
       "      <td>1</td>\n",
       "      <td>1024256001</td>\n",
       "      <td>Slim Jeans</td>\n",
       "      <td>men_jeans_slim</td>\n",
       "      <td>19.99</td>\n",
       "      <td>2022-01-21 14:52:23</td>\n",
       "      <td>1024256</td>\n",
       "      <td>1</td>\n",
       "      <td>Slim fit</td>\n",
       "      <td>Shell: Cotton 99%, Spandex 1%</td>\n",
       "      <td>NaN</td>\n",
       "      <td>The model is 185cm/6'1\" and wears a size 31/32</td>\n",
       "    </tr>\n",
       "    <tr>\n",
       "      <th>2</th>\n",
       "      <td>2</td>\n",
       "      <td>1024256001</td>\n",
       "      <td>Slim Jeans</td>\n",
       "      <td>men_jeans_slim</td>\n",
       "      <td>19.99</td>\n",
       "      <td>2022-01-21 14:52:23</td>\n",
       "      <td>1024256</td>\n",
       "      <td>1</td>\n",
       "      <td>Slim fit</td>\n",
       "      <td>Pocket lining: Polyester 65%, Cotton 35%</td>\n",
       "      <td>NaN</td>\n",
       "      <td>The model is 185cm/6'1\" and wears a size 31/32</td>\n",
       "    </tr>\n",
       "    <tr>\n",
       "      <th>3</th>\n",
       "      <td>3</td>\n",
       "      <td>1024256001</td>\n",
       "      <td>Slim Jeans</td>\n",
       "      <td>men_jeans_slim</td>\n",
       "      <td>19.99</td>\n",
       "      <td>2022-01-21 14:52:23</td>\n",
       "      <td>1024256</td>\n",
       "      <td>1</td>\n",
       "      <td>Slim fit</td>\n",
       "      <td>Shell: Cotton 99%, Spandex 1%</td>\n",
       "      <td>NaN</td>\n",
       "      <td>The model is 185cm/6'1\" and wears a size 31/32</td>\n",
       "    </tr>\n",
       "    <tr>\n",
       "      <th>4</th>\n",
       "      <td>4</td>\n",
       "      <td>1024256001</td>\n",
       "      <td>Slim Jeans</td>\n",
       "      <td>men_jeans_slim</td>\n",
       "      <td>19.99</td>\n",
       "      <td>2022-01-21 14:52:23</td>\n",
       "      <td>1024256</td>\n",
       "      <td>1</td>\n",
       "      <td>Slim fit</td>\n",
       "      <td>Pocket lining: Polyester 65%, Cotton 35%</td>\n",
       "      <td>NaN</td>\n",
       "      <td>The model is 185cm/6'1\" and wears a size 31/32</td>\n",
       "    </tr>\n",
       "  </tbody>\n",
       "</table>\n",
       "</div>"
      ],
      "text/plain": [
       "   Unnamed: 0          id product_name    product_type   price  \\\n",
       "0           0  1024256001   Slim Jeans  men_jeans_slim   19.99   \n",
       "1           1  1024256001   Slim Jeans  men_jeans_slim   19.99   \n",
       "2           2  1024256001   Slim Jeans  men_jeans_slim   19.99   \n",
       "3           3  1024256001   Slim Jeans  men_jeans_slim   19.99   \n",
       "4           4  1024256001   Slim Jeans  men_jeans_slim   19.99   \n",
       "\n",
       "              datetime  style_id  color_id       Fit  \\\n",
       "0  2022-01-21 14:52:23   1024256         1  Slim fit   \n",
       "1  2022-01-21 14:52:23   1024256         1  Slim fit   \n",
       "2  2022-01-21 14:52:23   1024256         1  Slim fit   \n",
       "3  2022-01-21 14:52:23   1024256         1  Slim fit   \n",
       "4  2022-01-21 14:52:23   1024256         1  Slim fit   \n",
       "\n",
       "                                Composition More sustainable materials  \\\n",
       "0  Pocket lining: Polyester 65%, Cotton 35%                        NaN   \n",
       "1             Shell: Cotton 99%, Spandex 1%                        NaN   \n",
       "2  Pocket lining: Polyester 65%, Cotton 35%                        NaN   \n",
       "3             Shell: Cotton 99%, Spandex 1%                        NaN   \n",
       "4  Pocket lining: Polyester 65%, Cotton 35%                        NaN   \n",
       "\n",
       "                                             Size  \n",
       "0  The model is 185cm/6'1\" and wears a size 31/32  \n",
       "1  The model is 185cm/6'1\" and wears a size 31/32  \n",
       "2  The model is 185cm/6'1\" and wears a size 31/32  \n",
       "3  The model is 185cm/6'1\" and wears a size 31/32  \n",
       "4  The model is 185cm/6'1\" and wears a size 31/32  "
      ]
     },
     "execution_count": 16,
     "metadata": {},
     "output_type": "execute_result"
    }
   ],
   "source": [
    "df = data_raw.copy()\n",
    "\n",
    "data_raw['price'] = data_raw['price'].apply(lambda x: x.replace('$', ''))\n",
    "data_raw.head()"
   ]
  },
  {
   "cell_type": "markdown",
   "id": "0f62673a",
   "metadata": {},
   "source": [
    "#### Removendo cifrão a partir de condicional sobre a própria coluna que contém o cifrão"
   ]
  },
  {
   "cell_type": "code",
   "execution_count": 17,
   "id": "96b88f30",
   "metadata": {},
   "outputs": [
    {
     "data": {
      "text/plain": [
       "0"
      ]
     },
     "execution_count": 17,
     "metadata": {},
     "output_type": "execute_result"
    }
   ],
   "source": [
    "data_raw['price'].isna().sum()"
   ]
  },
  {
   "cell_type": "markdown",
   "id": "f767ee8d",
   "metadata": {},
   "source": [
    "Felizmente, não havia nenhum 'NA' na coluna 'price'. Mas, caso houvesse, a função 'replace' não seria executada. Então, deveríamos usar uma condicional na mesma coluna. Assim, faríamos:"
   ]
  },
  {
   "cell_type": "code",
   "execution_count": 19,
   "id": "e7353cde",
   "metadata": {},
   "outputs": [
    {
     "data": {
      "text/plain": [
       "0        19.99\n",
       "1        19.99\n",
       "2        19.99\n",
       "3        19.99\n",
       "4        19.99\n",
       "         ...  \n",
       "2001     19.99\n",
       "2002     19.99\n",
       "2003     19.99\n",
       "2004     19.99\n",
       "2005     19.99\n",
       "Name: price, Length: 2006, dtype: object"
      ]
     },
     "execution_count": 19,
     "metadata": {},
     "output_type": "execute_result"
    }
   ],
   "source": [
    "df['price'].apply(lambda x: x.replace('$', '') if pd.notnull(x) else x)"
   ]
  },
  {
   "cell_type": "markdown",
   "id": "8f897654",
   "metadata": {},
   "source": [
    "#### Removendo cifrão a partir de condicional sobre uma outra coluna"
   ]
  },
  {
   "cell_type": "markdown",
   "id": "c30e1a41",
   "metadata": {},
   "source": [
    "Vamos remover o cifrão da coluna de preço apenas se a coluna de cor contiver 'gray'."
   ]
  },
  {
   "cell_type": "code",
   "execution_count": 20,
   "id": "52d7cda9",
   "metadata": {},
   "outputs": [
    {
     "data": {
      "text/html": [
       "<div>\n",
       "<style scoped>\n",
       "    .dataframe tbody tr th:only-of-type {\n",
       "        vertical-align: middle;\n",
       "    }\n",
       "\n",
       "    .dataframe tbody tr th {\n",
       "        vertical-align: top;\n",
       "    }\n",
       "\n",
       "    .dataframe thead th {\n",
       "        text-align: right;\n",
       "    }\n",
       "</style>\n",
       "<table border=\"1\" class=\"dataframe\">\n",
       "  <thead>\n",
       "    <tr style=\"text-align: right;\">\n",
       "      <th></th>\n",
       "      <th>Unnamed: 0</th>\n",
       "      <th>id</th>\n",
       "      <th>product_name</th>\n",
       "      <th>product_type</th>\n",
       "      <th>price</th>\n",
       "      <th>datetime</th>\n",
       "      <th>style_id</th>\n",
       "      <th>color_id</th>\n",
       "      <th>Fit</th>\n",
       "      <th>Composition</th>\n",
       "      <th>More sustainable materials</th>\n",
       "      <th>Size</th>\n",
       "    </tr>\n",
       "  </thead>\n",
       "  <tbody>\n",
       "    <tr>\n",
       "      <th>0</th>\n",
       "      <td>0</td>\n",
       "      <td>1024256001</td>\n",
       "      <td>Slim Jeans</td>\n",
       "      <td>men_jeans_slim</td>\n",
       "      <td>$ 19.99</td>\n",
       "      <td>2022-01-21 14:52:23</td>\n",
       "      <td>1024256</td>\n",
       "      <td>1</td>\n",
       "      <td>Slim fit</td>\n",
       "      <td>Pocket lining: Polyester 65%, Cotton 35%</td>\n",
       "      <td>NaN</td>\n",
       "      <td>The model is 185cm/6'1\" and wears a size 31/32</td>\n",
       "    </tr>\n",
       "    <tr>\n",
       "      <th>1</th>\n",
       "      <td>1</td>\n",
       "      <td>1024256001</td>\n",
       "      <td>Slim Jeans</td>\n",
       "      <td>men_jeans_slim</td>\n",
       "      <td>$ 19.99</td>\n",
       "      <td>2022-01-21 14:52:23</td>\n",
       "      <td>1024256</td>\n",
       "      <td>1</td>\n",
       "      <td>Slim fit</td>\n",
       "      <td>Shell: Cotton 99%, Spandex 1%</td>\n",
       "      <td>NaN</td>\n",
       "      <td>The model is 185cm/6'1\" and wears a size 31/32</td>\n",
       "    </tr>\n",
       "    <tr>\n",
       "      <th>2</th>\n",
       "      <td>2</td>\n",
       "      <td>1024256001</td>\n",
       "      <td>Slim Jeans</td>\n",
       "      <td>men_jeans_slim</td>\n",
       "      <td>$ 19.99</td>\n",
       "      <td>2022-01-21 14:52:23</td>\n",
       "      <td>1024256</td>\n",
       "      <td>1</td>\n",
       "      <td>Slim fit</td>\n",
       "      <td>Pocket lining: Polyester 65%, Cotton 35%</td>\n",
       "      <td>NaN</td>\n",
       "      <td>The model is 185cm/6'1\" and wears a size 31/32</td>\n",
       "    </tr>\n",
       "    <tr>\n",
       "      <th>3</th>\n",
       "      <td>3</td>\n",
       "      <td>1024256001</td>\n",
       "      <td>Slim Jeans</td>\n",
       "      <td>men_jeans_slim</td>\n",
       "      <td>$ 19.99</td>\n",
       "      <td>2022-01-21 14:52:23</td>\n",
       "      <td>1024256</td>\n",
       "      <td>1</td>\n",
       "      <td>Slim fit</td>\n",
       "      <td>Shell: Cotton 99%, Spandex 1%</td>\n",
       "      <td>NaN</td>\n",
       "      <td>The model is 185cm/6'1\" and wears a size 31/32</td>\n",
       "    </tr>\n",
       "    <tr>\n",
       "      <th>4</th>\n",
       "      <td>4</td>\n",
       "      <td>1024256001</td>\n",
       "      <td>Slim Jeans</td>\n",
       "      <td>men_jeans_slim</td>\n",
       "      <td>$ 19.99</td>\n",
       "      <td>2022-01-21 14:52:23</td>\n",
       "      <td>1024256</td>\n",
       "      <td>1</td>\n",
       "      <td>Slim fit</td>\n",
       "      <td>Pocket lining: Polyester 65%, Cotton 35%</td>\n",
       "      <td>NaN</td>\n",
       "      <td>The model is 185cm/6'1\" and wears a size 31/32</td>\n",
       "    </tr>\n",
       "    <tr>\n",
       "      <th>...</th>\n",
       "      <td>...</td>\n",
       "      <td>...</td>\n",
       "      <td>...</td>\n",
       "      <td>...</td>\n",
       "      <td>...</td>\n",
       "      <td>...</td>\n",
       "      <td>...</td>\n",
       "      <td>...</td>\n",
       "      <td>...</td>\n",
       "      <td>...</td>\n",
       "      <td>...</td>\n",
       "      <td>...</td>\n",
       "    </tr>\n",
       "    <tr>\n",
       "      <th>2001</th>\n",
       "      <td>2001</td>\n",
       "      <td>985197006</td>\n",
       "      <td>Slim Jeans</td>\n",
       "      <td>men_jeans_slim</td>\n",
       "      <td>$ 19.99</td>\n",
       "      <td>2022-01-21 14:52:23</td>\n",
       "      <td>985197</td>\n",
       "      <td>6</td>\n",
       "      <td>Slim fit</td>\n",
       "      <td>Shell: Cotton 99%, Spandex 1%</td>\n",
       "      <td>NaN</td>\n",
       "      <td>The model is 187cm/6'2\" and wears a size 31/32</td>\n",
       "    </tr>\n",
       "    <tr>\n",
       "      <th>2002</th>\n",
       "      <td>2002</td>\n",
       "      <td>985197006</td>\n",
       "      <td>Slim Jeans</td>\n",
       "      <td>men_jeans_slim</td>\n",
       "      <td>$ 19.99</td>\n",
       "      <td>2022-01-21 14:52:23</td>\n",
       "      <td>985197</td>\n",
       "      <td>6</td>\n",
       "      <td>Slim fit</td>\n",
       "      <td>Pocket lining: Polyester 65%, Cotton 35%</td>\n",
       "      <td>NaN</td>\n",
       "      <td>The model is 187cm/6'2\" and wears a size 31/32</td>\n",
       "    </tr>\n",
       "    <tr>\n",
       "      <th>2003</th>\n",
       "      <td>2003</td>\n",
       "      <td>985197006</td>\n",
       "      <td>Slim Jeans</td>\n",
       "      <td>men_jeans_slim</td>\n",
       "      <td>$ 19.99</td>\n",
       "      <td>2022-01-21 14:52:23</td>\n",
       "      <td>985197</td>\n",
       "      <td>6</td>\n",
       "      <td>Slim fit</td>\n",
       "      <td>Shell: Cotton 99%, Spandex 1%</td>\n",
       "      <td>NaN</td>\n",
       "      <td>The model is 187cm/6'2\" and wears a size 31/32</td>\n",
       "    </tr>\n",
       "    <tr>\n",
       "      <th>2004</th>\n",
       "      <td>2004</td>\n",
       "      <td>985197006</td>\n",
       "      <td>Slim Jeans</td>\n",
       "      <td>men_jeans_slim</td>\n",
       "      <td>$ 19.99</td>\n",
       "      <td>2022-01-21 14:52:23</td>\n",
       "      <td>985197</td>\n",
       "      <td>6</td>\n",
       "      <td>Slim fit</td>\n",
       "      <td>Pocket lining: Polyester 65%, Cotton 35%</td>\n",
       "      <td>NaN</td>\n",
       "      <td>The model is 187cm/6'2\" and wears a size 31/32</td>\n",
       "    </tr>\n",
       "    <tr>\n",
       "      <th>2005</th>\n",
       "      <td>2005</td>\n",
       "      <td>985197006</td>\n",
       "      <td>Slim Jeans</td>\n",
       "      <td>men_jeans_slim</td>\n",
       "      <td>$ 19.99</td>\n",
       "      <td>2022-01-21 14:52:23</td>\n",
       "      <td>985197</td>\n",
       "      <td>6</td>\n",
       "      <td>Slim fit</td>\n",
       "      <td>Shell: Cotton 99%, Spandex 1%</td>\n",
       "      <td>NaN</td>\n",
       "      <td>The model is 187cm/6'2\" and wears a size 31/32</td>\n",
       "    </tr>\n",
       "  </tbody>\n",
       "</table>\n",
       "<p>2006 rows × 12 columns</p>\n",
       "</div>"
      ],
      "text/plain": [
       "      Unnamed: 0          id product_name    product_type    price  \\\n",
       "0              0  1024256001   Slim Jeans  men_jeans_slim  $ 19.99   \n",
       "1              1  1024256001   Slim Jeans  men_jeans_slim  $ 19.99   \n",
       "2              2  1024256001   Slim Jeans  men_jeans_slim  $ 19.99   \n",
       "3              3  1024256001   Slim Jeans  men_jeans_slim  $ 19.99   \n",
       "4              4  1024256001   Slim Jeans  men_jeans_slim  $ 19.99   \n",
       "...          ...         ...          ...             ...      ...   \n",
       "2001        2001   985197006   Slim Jeans  men_jeans_slim  $ 19.99   \n",
       "2002        2002   985197006   Slim Jeans  men_jeans_slim  $ 19.99   \n",
       "2003        2003   985197006   Slim Jeans  men_jeans_slim  $ 19.99   \n",
       "2004        2004   985197006   Slim Jeans  men_jeans_slim  $ 19.99   \n",
       "2005        2005   985197006   Slim Jeans  men_jeans_slim  $ 19.99   \n",
       "\n",
       "                 datetime  style_id  color_id       Fit  \\\n",
       "0     2022-01-21 14:52:23   1024256         1  Slim fit   \n",
       "1     2022-01-21 14:52:23   1024256         1  Slim fit   \n",
       "2     2022-01-21 14:52:23   1024256         1  Slim fit   \n",
       "3     2022-01-21 14:52:23   1024256         1  Slim fit   \n",
       "4     2022-01-21 14:52:23   1024256         1  Slim fit   \n",
       "...                   ...       ...       ...       ...   \n",
       "2001  2022-01-21 14:52:23    985197         6  Slim fit   \n",
       "2002  2022-01-21 14:52:23    985197         6  Slim fit   \n",
       "2003  2022-01-21 14:52:23    985197         6  Slim fit   \n",
       "2004  2022-01-21 14:52:23    985197         6  Slim fit   \n",
       "2005  2022-01-21 14:52:23    985197         6  Slim fit   \n",
       "\n",
       "                                   Composition More sustainable materials  \\\n",
       "0     Pocket lining: Polyester 65%, Cotton 35%                        NaN   \n",
       "1                Shell: Cotton 99%, Spandex 1%                        NaN   \n",
       "2     Pocket lining: Polyester 65%, Cotton 35%                        NaN   \n",
       "3                Shell: Cotton 99%, Spandex 1%                        NaN   \n",
       "4     Pocket lining: Polyester 65%, Cotton 35%                        NaN   \n",
       "...                                        ...                        ...   \n",
       "2001             Shell: Cotton 99%, Spandex 1%                        NaN   \n",
       "2002  Pocket lining: Polyester 65%, Cotton 35%                        NaN   \n",
       "2003             Shell: Cotton 99%, Spandex 1%                        NaN   \n",
       "2004  Pocket lining: Polyester 65%, Cotton 35%                        NaN   \n",
       "2005             Shell: Cotton 99%, Spandex 1%                        NaN   \n",
       "\n",
       "                                                Size  \n",
       "0     The model is 185cm/6'1\" and wears a size 31/32  \n",
       "1     The model is 185cm/6'1\" and wears a size 31/32  \n",
       "2     The model is 185cm/6'1\" and wears a size 31/32  \n",
       "3     The model is 185cm/6'1\" and wears a size 31/32  \n",
       "4     The model is 185cm/6'1\" and wears a size 31/32  \n",
       "...                                              ...  \n",
       "2001  The model is 187cm/6'2\" and wears a size 31/32  \n",
       "2002  The model is 187cm/6'2\" and wears a size 31/32  \n",
       "2003  The model is 187cm/6'2\" and wears a size 31/32  \n",
       "2004  The model is 187cm/6'2\" and wears a size 31/32  \n",
       "2005  The model is 187cm/6'2\" and wears a size 31/32  \n",
       "\n",
       "[2006 rows x 12 columns]"
      ]
     },
     "execution_count": 20,
     "metadata": {},
     "output_type": "execute_result"
    }
   ],
   "source": [
    "df"
   ]
  },
  {
   "cell_type": "code",
   "execution_count": null,
   "id": "dd50264a",
   "metadata": {},
   "outputs": [],
   "source": []
  }
 ],
 "metadata": {
  "kernelspec": {
   "display_name": "Python 3 (ipykernel)",
   "language": "python",
   "name": "python3"
  },
  "language_info": {
   "codemirror_mode": {
    "name": "ipython",
    "version": 3
   },
   "file_extension": ".py",
   "mimetype": "text/x-python",
   "name": "python",
   "nbconvert_exporter": "python",
   "pygments_lexer": "ipython3",
   "version": "3.9.6"
  }
 },
 "nbformat": 4,
 "nbformat_minor": 5
}
