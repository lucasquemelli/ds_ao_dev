{
 "cells": [
  {
   "cell_type": "markdown",
   "id": "cf243b15",
   "metadata": {},
   "source": [
    "# Estudos avançados de Python"
   ]
  },
  {
   "cell_type": "markdown",
   "id": "1bb875cb",
   "metadata": {},
   "source": [
    "- Técnicas avançadas de manipulação e limpeza de dados.\n",
    "\n",
    "- Organização dos dados."
   ]
  },
  {
   "cell_type": "code",
   "execution_count": 8,
   "id": "87aeb7da",
   "metadata": {},
   "outputs": [],
   "source": [
    "import pandas as pd"
   ]
  },
  {
   "cell_type": "markdown",
   "id": "bb93fbf8",
   "metadata": {},
   "source": [
    "## 1.0 Função Lambda"
   ]
  },
  {
   "cell_type": "markdown",
   "id": "0b26e861",
   "metadata": {},
   "source": [
    "Definimos uma função tradicional da seguinte forma:"
   ]
  },
  {
   "cell_type": "code",
   "execution_count": 1,
   "id": "7a90eff6",
   "metadata": {},
   "outputs": [],
   "source": [
    "def calculation(a, b):\n",
    "    c = a + b\n",
    "    return c"
   ]
  },
  {
   "cell_type": "code",
   "execution_count": 2,
   "id": "9851df80",
   "metadata": {},
   "outputs": [
    {
     "data": {
      "text/plain": [
       "20"
      ]
     },
     "execution_count": 2,
     "metadata": {},
     "output_type": "execute_result"
    }
   ],
   "source": [
    "calculation(5, 15)"
   ]
  },
  {
   "cell_type": "markdown",
   "id": "9c18d689",
   "metadata": {},
   "source": [
    "Para definirmos a mesma função usando a função do tipo lambda, fazemos:"
   ]
  },
  {
   "cell_type": "code",
   "execution_count": 3,
   "id": "27d715e1",
   "metadata": {},
   "outputs": [],
   "source": [
    "calculation_lambda = lambda a, b: a + b"
   ]
  },
  {
   "cell_type": "code",
   "execution_count": 4,
   "id": "36ecd239",
   "metadata": {},
   "outputs": [
    {
     "data": {
      "text/plain": [
       "20"
      ]
     },
     "execution_count": 4,
     "metadata": {},
     "output_type": "execute_result"
    }
   ],
   "source": [
    "calculation_lambda(5, 15)"
   ]
  },
  {
   "cell_type": "markdown",
   "id": "de5eaf97",
   "metadata": {},
   "source": [
    "A função lambda é usada quando temos uma função simples que não é replicada para vários casos."
   ]
  },
  {
   "cell_type": "markdown",
   "id": "4aa18a88",
   "metadata": {},
   "source": [
    "## 2.0 Função Map"
   ]
  },
  {
   "cell_type": "markdown",
   "id": "fe9980f1",
   "metadata": {},
   "source": [
    "A função map aplica uma função em todas as posições de uma determinada estrutura de dados."
   ]
  },
  {
   "cell_type": "markdown",
   "id": "16924abc",
   "metadata": {},
   "source": [
    "- map (funcao, estrutura_de_dados)"
   ]
  },
  {
   "cell_type": "markdown",
   "id": "68bc91ac",
   "metadata": {},
   "source": [
    "#### Função map em uma lista"
   ]
  },
  {
   "cell_type": "code",
   "execution_count": 6,
   "id": "213a68e5",
   "metadata": {},
   "outputs": [
    {
     "data": {
      "text/plain": [
       "<map at 0x1f681ef83d0>"
      ]
     },
     "execution_count": 6,
     "metadata": {},
     "output_type": "execute_result"
    }
   ],
   "source": [
    "col = ['Anastacia', 'Julicana', 'Anitta', 'Vega', 'Chun Li', 'Clotilde']\n",
    "\n",
    "#function\n",
    "snakecase = lambda x: x.lower()\n",
    "\n",
    "map(snakecase, col)"
   ]
  },
  {
   "cell_type": "code",
   "execution_count": 7,
   "id": "7e4d3a21",
   "metadata": {},
   "outputs": [
    {
     "data": {
      "text/plain": [
       "['anastacia', 'julicana', 'anitta', 'vega', 'chun li', 'clotilde']"
      ]
     },
     "execution_count": 7,
     "metadata": {},
     "output_type": "execute_result"
    }
   ],
   "source": [
    "list( map(snakecase, col) )"
   ]
  },
  {
   "cell_type": "markdown",
   "id": "c643b393",
   "metadata": {},
   "source": [
    "#### Função map em um dataframe"
   ]
  },
  {
   "cell_type": "code",
   "execution_count": 15,
   "id": "ffdb5f4b",
   "metadata": {},
   "outputs": [],
   "source": [
    "data = {'Name': ['Ashley', 'Shania', 'Tanish', 'Roxie'],\n",
    "        'Age': ['19', '45', '27', '22'],\n",
    "        'Height (cm)': [180, 160, 165, 157]}\n",
    "\n",
    "data = pd.DataFrame( data )"
   ]
  },
  {
   "cell_type": "code",
   "execution_count": 16,
   "id": "8dce4171",
   "metadata": {},
   "outputs": [
    {
     "data": {
      "text/html": [
       "<div>\n",
       "<style scoped>\n",
       "    .dataframe tbody tr th:only-of-type {\n",
       "        vertical-align: middle;\n",
       "    }\n",
       "\n",
       "    .dataframe tbody tr th {\n",
       "        vertical-align: top;\n",
       "    }\n",
       "\n",
       "    .dataframe thead th {\n",
       "        text-align: right;\n",
       "    }\n",
       "</style>\n",
       "<table border=\"1\" class=\"dataframe\">\n",
       "  <thead>\n",
       "    <tr style=\"text-align: right;\">\n",
       "      <th></th>\n",
       "      <th>Name</th>\n",
       "      <th>Age</th>\n",
       "      <th>Height (cm)</th>\n",
       "    </tr>\n",
       "  </thead>\n",
       "  <tbody>\n",
       "    <tr>\n",
       "      <th>0</th>\n",
       "      <td>Ashley</td>\n",
       "      <td>19</td>\n",
       "      <td>180</td>\n",
       "    </tr>\n",
       "    <tr>\n",
       "      <th>1</th>\n",
       "      <td>Shania</td>\n",
       "      <td>45</td>\n",
       "      <td>160</td>\n",
       "    </tr>\n",
       "    <tr>\n",
       "      <th>2</th>\n",
       "      <td>Tanish</td>\n",
       "      <td>27</td>\n",
       "      <td>165</td>\n",
       "    </tr>\n",
       "    <tr>\n",
       "      <th>3</th>\n",
       "      <td>Roxie</td>\n",
       "      <td>22</td>\n",
       "      <td>157</td>\n",
       "    </tr>\n",
       "  </tbody>\n",
       "</table>\n",
       "</div>"
      ],
      "text/plain": [
       "     Name Age  Height (cm)\n",
       "0  Ashley  19          180\n",
       "1  Shania  45          160\n",
       "2  Tanish  27          165\n",
       "3   Roxie  22          157"
      ]
     },
     "execution_count": 16,
     "metadata": {},
     "output_type": "execute_result"
    }
   ],
   "source": [
    "data"
   ]
  },
  {
   "cell_type": "code",
   "execution_count": 17,
   "id": "005371ba",
   "metadata": {},
   "outputs": [
    {
     "data": {
      "text/plain": [
       "[1.8, 1.6, 1.65, 1.57]"
      ]
     },
     "execution_count": 17,
     "metadata": {},
     "output_type": "execute_result"
    }
   ],
   "source": [
    "conversion_meter = lambda x: x/100\n",
    "\n",
    "list ( map(conversion_meter, data['Height (cm)']) )"
   ]
  },
  {
   "cell_type": "code",
   "execution_count": 18,
   "id": "fa50ef51",
   "metadata": {},
   "outputs": [],
   "source": [
    "data['Height (m)'] = list ( map(conversion_meter, data['Height (cm)']) )"
   ]
  },
  {
   "cell_type": "code",
   "execution_count": 19,
   "id": "4cf53140",
   "metadata": {},
   "outputs": [
    {
     "data": {
      "text/html": [
       "<div>\n",
       "<style scoped>\n",
       "    .dataframe tbody tr th:only-of-type {\n",
       "        vertical-align: middle;\n",
       "    }\n",
       "\n",
       "    .dataframe tbody tr th {\n",
       "        vertical-align: top;\n",
       "    }\n",
       "\n",
       "    .dataframe thead th {\n",
       "        text-align: right;\n",
       "    }\n",
       "</style>\n",
       "<table border=\"1\" class=\"dataframe\">\n",
       "  <thead>\n",
       "    <tr style=\"text-align: right;\">\n",
       "      <th></th>\n",
       "      <th>Name</th>\n",
       "      <th>Age</th>\n",
       "      <th>Height (cm)</th>\n",
       "      <th>Height (m)</th>\n",
       "    </tr>\n",
       "  </thead>\n",
       "  <tbody>\n",
       "    <tr>\n",
       "      <th>0</th>\n",
       "      <td>Ashley</td>\n",
       "      <td>19</td>\n",
       "      <td>180</td>\n",
       "      <td>1.80</td>\n",
       "    </tr>\n",
       "    <tr>\n",
       "      <th>1</th>\n",
       "      <td>Shania</td>\n",
       "      <td>45</td>\n",
       "      <td>160</td>\n",
       "      <td>1.60</td>\n",
       "    </tr>\n",
       "    <tr>\n",
       "      <th>2</th>\n",
       "      <td>Tanish</td>\n",
       "      <td>27</td>\n",
       "      <td>165</td>\n",
       "      <td>1.65</td>\n",
       "    </tr>\n",
       "    <tr>\n",
       "      <th>3</th>\n",
       "      <td>Roxie</td>\n",
       "      <td>22</td>\n",
       "      <td>157</td>\n",
       "      <td>1.57</td>\n",
       "    </tr>\n",
       "  </tbody>\n",
       "</table>\n",
       "</div>"
      ],
      "text/plain": [
       "     Name Age  Height (cm)  Height (m)\n",
       "0  Ashley  19          180        1.80\n",
       "1  Shania  45          160        1.60\n",
       "2  Tanish  27          165        1.65\n",
       "3   Roxie  22          157        1.57"
      ]
     },
     "execution_count": 19,
     "metadata": {},
     "output_type": "execute_result"
    }
   ],
   "source": [
    "data"
   ]
  },
  {
   "cell_type": "markdown",
   "id": "185a4aea",
   "metadata": {},
   "source": [
    "Também podemos aplicar a função tradicional dentro da função map. Não precisa ser apenas a função lambda. Mas a função lambda é mais prática para operações mais simples."
   ]
  },
  {
   "cell_type": "markdown",
   "id": "5188aa3e",
   "metadata": {},
   "source": [
    "## 3.0 Função Apply"
   ]
  },
  {
   "cell_type": "markdown",
   "id": "a1a24384",
   "metadata": {},
   "source": [
    "A função apply funciona como a função map. A diferença é que o apply é uma função da biblioteca pandas."
   ]
  },
  {
   "cell_type": "code",
   "execution_count": 23,
   "id": "58b4bf97",
   "metadata": {},
   "outputs": [
    {
     "data": {
      "text/html": [
       "<div>\n",
       "<style scoped>\n",
       "    .dataframe tbody tr th:only-of-type {\n",
       "        vertical-align: middle;\n",
       "    }\n",
       "\n",
       "    .dataframe tbody tr th {\n",
       "        vertical-align: top;\n",
       "    }\n",
       "\n",
       "    .dataframe thead th {\n",
       "        text-align: right;\n",
       "    }\n",
       "</style>\n",
       "<table border=\"1\" class=\"dataframe\">\n",
       "  <thead>\n",
       "    <tr style=\"text-align: right;\">\n",
       "      <th></th>\n",
       "      <th>Name</th>\n",
       "      <th>Age</th>\n",
       "      <th>Height (cm)</th>\n",
       "      <th>Height (m)</th>\n",
       "      <th>Height (mm)</th>\n",
       "    </tr>\n",
       "  </thead>\n",
       "  <tbody>\n",
       "    <tr>\n",
       "      <th>0</th>\n",
       "      <td>Ashley</td>\n",
       "      <td>19</td>\n",
       "      <td>180</td>\n",
       "      <td>1.80</td>\n",
       "      <td>1800</td>\n",
       "    </tr>\n",
       "    <tr>\n",
       "      <th>1</th>\n",
       "      <td>Shania</td>\n",
       "      <td>45</td>\n",
       "      <td>160</td>\n",
       "      <td>1.60</td>\n",
       "      <td>1600</td>\n",
       "    </tr>\n",
       "    <tr>\n",
       "      <th>2</th>\n",
       "      <td>Tanish</td>\n",
       "      <td>27</td>\n",
       "      <td>165</td>\n",
       "      <td>1.65</td>\n",
       "      <td>1650</td>\n",
       "    </tr>\n",
       "    <tr>\n",
       "      <th>3</th>\n",
       "      <td>Roxie</td>\n",
       "      <td>22</td>\n",
       "      <td>157</td>\n",
       "      <td>1.57</td>\n",
       "      <td>1570</td>\n",
       "    </tr>\n",
       "  </tbody>\n",
       "</table>\n",
       "</div>"
      ],
      "text/plain": [
       "     Name Age  Height (cm)  Height (m)  Height (mm)\n",
       "0  Ashley  19          180        1.80         1800\n",
       "1  Shania  45          160        1.60         1600\n",
       "2  Tanish  27          165        1.65         1650\n",
       "3   Roxie  22          157        1.57         1570"
      ]
     },
     "execution_count": 23,
     "metadata": {},
     "output_type": "execute_result"
    }
   ],
   "source": [
    "data['Height (mm)'] = data['Height (m)'].apply(lambda x: int( x*1000) )\n",
    "data"
   ]
  },
  {
   "cell_type": "code",
   "execution_count": null,
   "id": "f961dfa7",
   "metadata": {},
   "outputs": [],
   "source": []
  }
 ],
 "metadata": {
  "kernelspec": {
   "display_name": "Python 3 (ipykernel)",
   "language": "python",
   "name": "python3"
  },
  "language_info": {
   "codemirror_mode": {
    "name": "ipython",
    "version": 3
   },
   "file_extension": ".py",
   "mimetype": "text/x-python",
   "name": "python",
   "nbconvert_exporter": "python",
   "pygments_lexer": "ipython3",
   "version": "3.9.6"
  }
 },
 "nbformat": 4,
 "nbformat_minor": 5
}
