{
 "cells": [
  {
   "cell_type": "markdown",
   "id": "fdecc9ed",
   "metadata": {},
   "source": [
    "# Estudos avançados de Python"
   ]
  },
  {
   "cell_type": "markdown",
   "id": "7f865fdd",
   "metadata": {},
   "source": [
    "- Técnicas avançadas de manipulação e limpeza de dados.\n",
    "\n",
    "- Organização dos dados."
   ]
  },
  {
   "cell_type": "code",
   "execution_count": null,
   "id": "5d6a2d92",
   "metadata": {},
   "outputs": [],
   "source": []
  }
 ],
 "metadata": {
  "kernelspec": {
   "display_name": "Python 3 (ipykernel)",
   "language": "python",
   "name": "python3"
  },
  "language_info": {
   "codemirror_mode": {
    "name": "ipython",
    "version": 3
   },
   "file_extension": ".py",
   "mimetype": "text/x-python",
   "name": "python",
   "nbconvert_exporter": "python",
   "pygments_lexer": "ipython3",
   "version": "3.9.6"
  }
 },
 "nbformat": 4,
 "nbformat_minor": 5
}
