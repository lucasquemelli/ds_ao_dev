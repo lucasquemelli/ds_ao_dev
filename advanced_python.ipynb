{
 "cells": [
  {
   "cell_type": "markdown",
   "id": "ba866dc8",
   "metadata": {},
   "source": [
    "# Estudos avançados de Python"
   ]
  },
  {
   "cell_type": "markdown",
   "id": "0dfdd530",
   "metadata": {},
   "source": [
    "- Técnicas avançadas de manipulação e limpeza de dados.\n",
    "\n",
    "- Organização dos dados."
   ]
  },
  {
   "cell_type": "markdown",
   "id": "b0fc4f8d",
   "metadata": {},
   "source": [
    "## 1.0 Função Lambda"
   ]
  },
  {
   "cell_type": "markdown",
   "id": "d97fc123",
   "metadata": {},
   "source": [
    "Definimos uma função tradicional da seguinte forma:"
   ]
  },
  {
   "cell_type": "code",
   "execution_count": 1,
   "id": "6ee3c6a1",
   "metadata": {},
   "outputs": [],
   "source": [
    "def calculation(a, b):\n",
    "    c = a + b\n",
    "    return c"
   ]
  },
  {
   "cell_type": "code",
   "execution_count": 2,
   "id": "92e6ba3d",
   "metadata": {},
   "outputs": [
    {
     "data": {
      "text/plain": [
       "20"
      ]
     },
     "execution_count": 2,
     "metadata": {},
     "output_type": "execute_result"
    }
   ],
   "source": [
    "calculation(5, 15)"
   ]
  },
  {
   "cell_type": "markdown",
   "id": "a06ea2e4",
   "metadata": {},
   "source": [
    "Para definirmos a mesma função usando a função do tipo lambda, fazemos:"
   ]
  },
  {
   "cell_type": "code",
   "execution_count": 3,
   "id": "814c4f1a",
   "metadata": {},
   "outputs": [],
   "source": [
    "calculation_lambda = lambda a, b: a + b"
   ]
  },
  {
   "cell_type": "code",
   "execution_count": 4,
   "id": "79273140",
   "metadata": {},
   "outputs": [
    {
     "data": {
      "text/plain": [
       "20"
      ]
     },
     "execution_count": 4,
     "metadata": {},
     "output_type": "execute_result"
    }
   ],
   "source": [
    "calculation_lambda(5, 15)"
   ]
  },
  {
   "cell_type": "markdown",
   "id": "e646ef1f",
   "metadata": {},
   "source": [
    "A função lambda é usada quando temos uma função simples que não é replicada para vários casos."
   ]
  },
  {
   "cell_type": "markdown",
   "id": "63e30463",
   "metadata": {},
   "source": [
    "## 2.0 Função Map"
   ]
  },
  {
   "cell_type": "markdown",
   "id": "ee28022a",
   "metadata": {},
   "source": [
    "A função map aplica uma função em todas as posições de uma determinada estrutura de dados."
   ]
  },
  {
   "cell_type": "code",
   "execution_count": null,
   "id": "ffe6938e",
   "metadata": {},
   "outputs": [],
   "source": []
  }
 ],
 "metadata": {
  "kernelspec": {
   "display_name": "Python 3 (ipykernel)",
   "language": "python",
   "name": "python3"
  },
  "language_info": {
   "codemirror_mode": {
    "name": "ipython",
    "version": 3
   },
   "file_extension": ".py",
   "mimetype": "text/x-python",
   "name": "python",
   "nbconvert_exporter": "python",
   "pygments_lexer": "ipython3",
   "version": "3.9.6"
  }
 },
 "nbformat": 4,
 "nbformat_minor": 5
}
